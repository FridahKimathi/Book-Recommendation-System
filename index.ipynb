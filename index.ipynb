{
 "cells": [
  {
   "cell_type": "markdown",
   "metadata": {},
   "source": [
    "# **Jumia Book Recommendation System**"
   ]
  },
  {
   "attachments": {},
   "cell_type": "markdown",
   "metadata": {},
   "source": [
    "##### **Authors**:\n",
    "<ul type='square'> \n",
    "    <li> Alice Wamuyu</li>\n",
    "    <li> Eva Moisasi</li>\n",
    "    <li> Fridah Kimathi </li>\n",
    "    <li> Nicholus Magak  </li>\n",
    "</ul>"
   ]
  },
  {
   "attachments": {},
   "cell_type": "markdown",
   "metadata": {},
   "source": [
    "# **Business Understanding**"
   ]
  },
  {
   "attachments": {},
   "cell_type": "markdown",
   "metadata": {},
   "source": [
    "<img src='Images\\book3.png' alt=\"My Image\" width=\"700\" height=\"300\"> "
   ]
  },
  {
   "attachments": {},
   "cell_type": "markdown",
   "metadata": {},
   "source": [
    "## **Overview**\n",
    "\n",
    "> **What is a Recommendation System?**\n",
    "\n",
    "A Recommendation System is a type of artificial intelligence that provides personalized suggestions to customers. Previously, people would often rely on recommendations from friends to make purchasing decisions. However, with the rise of recommendation systems, companies like Google and Youtube can use data such as search history, watch history, and purchase history to suggest products or content that the customer may be interested in.\n",
    "\n",
    "> **Reasons for a Recommendation System?**\n",
    "\n",
    "Over the past few decades, the emergence of web services such as Youtube, Amazon, and Netflix has led to the increasing prevalence of recommender systems in our daily lives. These systems suggest relevant items to users based on their preferences, from products to buy on e-commerce websites to content to view in online advertising.\n",
    "By using a recommendation system, companies can generate substantial revenue and gain a  competitive advantage over comptetiors by having a high customer retention. These systems are now so sophisticated that they can even provide recommendations to new customers who visit a site for the first time. They can suggest trending or highly rated products as well as items that are likely to generate the most profit for the company.\n",
    "\n",
    "**Types Of Recommendation System**\n",
    "\n",
    "A recommendation system is usually built using 3 techniques which are content-based filtering, collaborative filtering, and a combination of both.\n",
    "\n",
    "**_1. Content-Based Filtering_**\n",
    "\n",
    "The algorithm recommends a product or items that have similar characteristics to the ones that the user has already shown an interest in.. In simple words, In this algorithm, we try to find items that look alike.\n",
    "\n",
    "**_2. Collaborative-based Filtering_**\n",
    "\n",
    "Collaborative based filtering recommender systems are based on past interactions of users and target items.  In simple words here, we try to search for the look-alike customers and offer products based on what his or her lookalike has chosen.\n",
    "\n",
    "### **Problem Statement**\n",
    "As a rapidly growing online retailer, Jumia has a vast collection of books. Most self-published authors sell 250 books or less, regardless of how many different books they write. Traditionally published books sell around 3,000 copies on average, with only 250 of those sales in the first year. It's rare that books sell over 100,000 copies and even rarer to sell more than a million (How Many Books Do You Need To Publish To Make Money? - Letter Review, 2022). \n",
    "An attributing factor to the poor sales of potentially good books in the public’s eye is that there are too many books that major recommenders can read which can also be fueled by people sticking to specific authors rather than exploring due to the fear of reading a potentially different genre than what their tastes are accustomed to.\n",
    "\n",
    "To address this issue, Jumia can implement an A.I model that uses a collaborative filtering technique. By doing so, they will not only recommend books based on the customers’ ratings but also suggest books that are similar to the ones that the customer has shown an interest in.\n",
    "\n",
    "### **Objectives**\n",
    "\n",
    "> **General Objective:**\n",
    "\n",
    "The general objective is to enable Jumia to effectively provide its customers with book recommendations that are tailored to the users.\n",
    "> **Specific Objectives:**\n",
    "\n",
    "Develop a machine learning model that can accurately predict the rating a user will give to books they haven't read based on their previous ratings.\n",
    "Integrate the prediction model into a recommendation system to provide personalized book recommendations to users based on their predicted ratings.\n",
    "To evaluate the performance of the recommendation system using appropriate metrics and compare it with other models.\n",
    "\n",
    "### **Success Criteria**\n",
    "\n",
    "The success criteria we will follow depends on the predictive accuracy of the recommendations. This means we will rate how close the estimated ratings are to genuine use ratings, which is a measure used for evaluating non-binary ratings (e.g. 1-10 scale). Since selling books is crucial for a platform that is in business, this is the best metric we decided to use.\n",
    "\n",
    "The two metrics that we will use are Mean Squared Error (M.S.E) and Root Mean Squared Error (R.M.S.E) due to the fact the rating scale is the same throughout.\n",
    "\n"
   ]
  },
  {
   "attachments": {},
   "cell_type": "markdown",
   "metadata": {},
   "source": [
    "#### **Importing the required libraries**"
   ]
  },
  {
   "cell_type": "code",
   "execution_count": 1,
   "metadata": {},
   "outputs": [],
   "source": [
    "import pandas as pd\n",
    "import numpy as np\n",
    "import string\n",
    "import seaborn as sns\n",
    "import matplotlib.pyplot as plt\n",
    "%matplotlib inline\n",
    "%config inlineBackend.figure_format = 'retina'\n",
    "import seaborn as sns\n",
    "sns.set_context('notebook')\n",
    "from dataprep.clean import clean_country #pip install dataprep\n",
    "import pycountry #conda install -c conda-forge pycountry\n",
    "from surprise import Reader, Dataset, SVD, accuracy\n",
    "from surprise.model_selection import cross_validate\n",
    "from surprise.model_selection import train_test_split\n",
    "\n",
    "import warnings\n",
    "warnings.filterwarnings(\"ignore\")\n"
   ]
  },
  {
   "cell_type": "markdown",
   "metadata": {},
   "source": [
    "#### **Loading the data**"
   ]
  },
  {
   "cell_type": "markdown",
   "metadata": {},
   "source": [
    "##### _**1. ratings_df**_"
   ]
  },
  {
   "cell_type": "code",
   "execution_count": 2,
   "metadata": {},
   "outputs": [
    {
     "name": "stderr",
     "output_type": "stream",
     "text": [
      "C:\\Users\\GM\\AppData\\Local\\Temp\\ipykernel_856\\2229252711.py:1: FutureWarning: The error_bad_lines argument has been deprecated and will be removed in a future version. Use on_bad_lines in the future.\n",
      "\n",
      "\n",
      "  ratings_df = pd.read_csv('Data/BX-Book-Ratings.csv', encoding='latin-1', sep=';', error_bad_lines=False)\n"
     ]
    },
    {
     "data": {
      "text/html": [
       "<div>\n",
       "<style scoped>\n",
       "    .dataframe tbody tr th:only-of-type {\n",
       "        vertical-align: middle;\n",
       "    }\n",
       "\n",
       "    .dataframe tbody tr th {\n",
       "        vertical-align: top;\n",
       "    }\n",
       "\n",
       "    .dataframe thead th {\n",
       "        text-align: right;\n",
       "    }\n",
       "</style>\n",
       "<table border=\"1\" class=\"dataframe\">\n",
       "  <thead>\n",
       "    <tr style=\"text-align: right;\">\n",
       "      <th></th>\n",
       "      <th>User-ID</th>\n",
       "      <th>ISBN</th>\n",
       "      <th>Book-Rating</th>\n",
       "    </tr>\n",
       "  </thead>\n",
       "  <tbody>\n",
       "    <tr>\n",
       "      <th>0</th>\n",
       "      <td>276725</td>\n",
       "      <td>034545104X</td>\n",
       "      <td>0</td>\n",
       "    </tr>\n",
       "    <tr>\n",
       "      <th>1</th>\n",
       "      <td>276726</td>\n",
       "      <td>0155061224</td>\n",
       "      <td>5</td>\n",
       "    </tr>\n",
       "    <tr>\n",
       "      <th>2</th>\n",
       "      <td>276727</td>\n",
       "      <td>0446520802</td>\n",
       "      <td>0</td>\n",
       "    </tr>\n",
       "    <tr>\n",
       "      <th>3</th>\n",
       "      <td>276729</td>\n",
       "      <td>052165615X</td>\n",
       "      <td>3</td>\n",
       "    </tr>\n",
       "    <tr>\n",
       "      <th>4</th>\n",
       "      <td>276729</td>\n",
       "      <td>0521795028</td>\n",
       "      <td>6</td>\n",
       "    </tr>\n",
       "  </tbody>\n",
       "</table>\n",
       "</div>"
      ],
      "text/plain": [
       "   User-ID        ISBN  Book-Rating\n",
       "0   276725  034545104X            0\n",
       "1   276726  0155061224            5\n",
       "2   276727  0446520802            0\n",
       "3   276729  052165615X            3\n",
       "4   276729  0521795028            6"
      ]
     },
     "execution_count": 2,
     "metadata": {},
     "output_type": "execute_result"
    }
   ],
   "source": [
    "ratings_df = pd.read_csv('Data/BX-Book-Ratings.csv', encoding='latin-1', sep=';', on_bad_lines='skip', low_memory=False)\n",
    "ratings_df.head()\n"
   ]
  },
  {
   "cell_type": "markdown",
   "metadata": {},
   "source": [
    "##### _**2. books_df**_"
   ]
  },
  {
   "cell_type": "code",
   "execution_count": 3,
   "metadata": {},
   "outputs": [
    {
<<<<<<< HEAD
=======
     "name": "stderr",
     "output_type": "stream",
     "text": [
      "C:\\Users\\GM\\AppData\\Local\\Temp\\ipykernel_856\\4138936302.py:1: FutureWarning: The error_bad_lines argument has been deprecated and will be removed in a future version. Use on_bad_lines in the future.\n",
      "\n",
      "\n",
      "  books_df = pd.read_csv('Data/BX-Books.csv', sep=';', encoding='latin-1', error_bad_lines=False)\n",
      "Skipping line 6452: expected 8 fields, saw 9\n",
      "Skipping line 43667: expected 8 fields, saw 10\n",
      "Skipping line 51751: expected 8 fields, saw 9\n",
      "\n",
      "Skipping line 92038: expected 8 fields, saw 9\n",
      "Skipping line 104319: expected 8 fields, saw 9\n",
      "Skipping line 121768: expected 8 fields, saw 9\n",
      "\n",
      "Skipping line 144058: expected 8 fields, saw 9\n",
      "Skipping line 150789: expected 8 fields, saw 9\n",
      "Skipping line 157128: expected 8 fields, saw 9\n",
      "Skipping line 180189: expected 8 fields, saw 9\n",
      "Skipping line 185738: expected 8 fields, saw 9\n",
      "\n",
      "Skipping line 209388: expected 8 fields, saw 9\n",
      "Skipping line 220626: expected 8 fields, saw 9\n",
      "Skipping line 227933: expected 8 fields, saw 11\n",
      "Skipping line 228957: expected 8 fields, saw 10\n",
      "Skipping line 245933: expected 8 fields, saw 9\n",
      "Skipping line 251296: expected 8 fields, saw 9\n",
      "Skipping line 259941: expected 8 fields, saw 9\n",
      "Skipping line 261529: expected 8 fields, saw 9\n",
      "\n",
      "C:\\Users\\GM\\AppData\\Local\\Temp\\ipykernel_856\\4138936302.py:1: DtypeWarning: Columns (3) have mixed types. Specify dtype option on import or set low_memory=False.\n",
      "  books_df = pd.read_csv('Data/BX-Books.csv', sep=';', encoding='latin-1', error_bad_lines=False)\n"
     ]
    },
    {
>>>>>>> e96db08c3427dc07e479ba0bc04f228b2c13091b
     "data": {
      "text/html": [
       "<div>\n",
       "<style scoped>\n",
       "    .dataframe tbody tr th:only-of-type {\n",
       "        vertical-align: middle;\n",
       "    }\n",
       "\n",
       "    .dataframe tbody tr th {\n",
       "        vertical-align: top;\n",
       "    }\n",
       "\n",
       "    .dataframe thead th {\n",
       "        text-align: right;\n",
       "    }\n",
       "</style>\n",
       "<table border=\"1\" class=\"dataframe\">\n",
       "  <thead>\n",
       "    <tr style=\"text-align: right;\">\n",
       "      <th></th>\n",
       "      <th>ISBN</th>\n",
       "      <th>Book-Title</th>\n",
       "      <th>Book-Author</th>\n",
       "      <th>Year-Of-Publication</th>\n",
       "      <th>Publisher</th>\n",
       "      <th>Image-URL-S</th>\n",
       "      <th>Image-URL-M</th>\n",
       "      <th>Image-URL-L</th>\n",
       "    </tr>\n",
       "  </thead>\n",
       "  <tbody>\n",
       "    <tr>\n",
       "      <th>0</th>\n",
       "      <td>0195153448</td>\n",
       "      <td>Classical Mythology</td>\n",
       "      <td>Mark P. O. Morford</td>\n",
       "      <td>2002</td>\n",
       "      <td>Oxford University Press</td>\n",
       "      <td>http://images.amazon.com/images/P/0195153448.0...</td>\n",
       "      <td>http://images.amazon.com/images/P/0195153448.0...</td>\n",
       "      <td>http://images.amazon.com/images/P/0195153448.0...</td>\n",
       "    </tr>\n",
       "    <tr>\n",
       "      <th>1</th>\n",
       "      <td>0002005018</td>\n",
       "      <td>Clara Callan</td>\n",
       "      <td>Richard Bruce Wright</td>\n",
       "      <td>2001</td>\n",
       "      <td>HarperFlamingo Canada</td>\n",
       "      <td>http://images.amazon.com/images/P/0002005018.0...</td>\n",
       "      <td>http://images.amazon.com/images/P/0002005018.0...</td>\n",
       "      <td>http://images.amazon.com/images/P/0002005018.0...</td>\n",
       "    </tr>\n",
       "    <tr>\n",
       "      <th>2</th>\n",
       "      <td>0060973129</td>\n",
       "      <td>Decision in Normandy</td>\n",
       "      <td>Carlo D'Este</td>\n",
       "      <td>1991</td>\n",
       "      <td>HarperPerennial</td>\n",
       "      <td>http://images.amazon.com/images/P/0060973129.0...</td>\n",
       "      <td>http://images.amazon.com/images/P/0060973129.0...</td>\n",
       "      <td>http://images.amazon.com/images/P/0060973129.0...</td>\n",
       "    </tr>\n",
       "    <tr>\n",
       "      <th>3</th>\n",
       "      <td>0374157065</td>\n",
       "      <td>Flu: The Story of the Great Influenza Pandemic...</td>\n",
       "      <td>Gina Bari Kolata</td>\n",
       "      <td>1999</td>\n",
       "      <td>Farrar Straus Giroux</td>\n",
       "      <td>http://images.amazon.com/images/P/0374157065.0...</td>\n",
       "      <td>http://images.amazon.com/images/P/0374157065.0...</td>\n",
       "      <td>http://images.amazon.com/images/P/0374157065.0...</td>\n",
       "    </tr>\n",
       "    <tr>\n",
       "      <th>4</th>\n",
       "      <td>0393045218</td>\n",
       "      <td>The Mummies of Urumchi</td>\n",
       "      <td>E. J. W. Barber</td>\n",
       "      <td>1999</td>\n",
       "      <td>W. W. Norton &amp;amp; Company</td>\n",
       "      <td>http://images.amazon.com/images/P/0393045218.0...</td>\n",
       "      <td>http://images.amazon.com/images/P/0393045218.0...</td>\n",
       "      <td>http://images.amazon.com/images/P/0393045218.0...</td>\n",
       "    </tr>\n",
       "  </tbody>\n",
       "</table>\n",
       "</div>"
      ],
      "text/plain": [
       "         ISBN                                         Book-Title  \\\n",
       "0  0195153448                                Classical Mythology   \n",
       "1  0002005018                                       Clara Callan   \n",
       "2  0060973129                               Decision in Normandy   \n",
       "3  0374157065  Flu: The Story of the Great Influenza Pandemic...   \n",
       "4  0393045218                             The Mummies of Urumchi   \n",
       "\n",
       "            Book-Author Year-Of-Publication                   Publisher  \\\n",
       "0    Mark P. O. Morford                2002     Oxford University Press   \n",
       "1  Richard Bruce Wright                2001       HarperFlamingo Canada   \n",
       "2          Carlo D'Este                1991             HarperPerennial   \n",
       "3      Gina Bari Kolata                1999        Farrar Straus Giroux   \n",
       "4       E. J. W. Barber                1999  W. W. Norton &amp; Company   \n",
       "\n",
       "                                         Image-URL-S  \\\n",
       "0  http://images.amazon.com/images/P/0195153448.0...   \n",
       "1  http://images.amazon.com/images/P/0002005018.0...   \n",
       "2  http://images.amazon.com/images/P/0060973129.0...   \n",
       "3  http://images.amazon.com/images/P/0374157065.0...   \n",
       "4  http://images.amazon.com/images/P/0393045218.0...   \n",
       "\n",
       "                                         Image-URL-M  \\\n",
       "0  http://images.amazon.com/images/P/0195153448.0...   \n",
       "1  http://images.amazon.com/images/P/0002005018.0...   \n",
       "2  http://images.amazon.com/images/P/0060973129.0...   \n",
       "3  http://images.amazon.com/images/P/0374157065.0...   \n",
       "4  http://images.amazon.com/images/P/0393045218.0...   \n",
       "\n",
       "                                         Image-URL-L  \n",
       "0  http://images.amazon.com/images/P/0195153448.0...  \n",
       "1  http://images.amazon.com/images/P/0002005018.0...  \n",
       "2  http://images.amazon.com/images/P/0060973129.0...  \n",
       "3  http://images.amazon.com/images/P/0374157065.0...  \n",
       "4  http://images.amazon.com/images/P/0393045218.0...  "
      ]
     },
     "execution_count": 3,
     "metadata": {},
     "output_type": "execute_result"
    }
   ],
   "source": [
    "books_df = pd.read_csv('Data/BX-Books.csv', sep=';', encoding='latin-1', on_bad_lines='skip', low_memory=False)\n",
    "books_df.head()"
   ]
  },
  {
   "cell_type": "markdown",
   "metadata": {},
   "source": [
    "##### _**3. users_df**_"
   ]
  },
  {
   "cell_type": "code",
   "execution_count": 4,
   "metadata": {},
   "outputs": [
    {
     "name": "stderr",
     "output_type": "stream",
     "text": [
      "C:\\Users\\GM\\AppData\\Local\\Temp\\ipykernel_856\\1591692623.py:1: FutureWarning: The error_bad_lines argument has been deprecated and will be removed in a future version. Use on_bad_lines in the future.\n",
      "\n",
      "\n",
      "  users_df = pd.read_csv('Data/BX-Users.csv',  sep=';', encoding='latin-1', error_bad_lines=False)\n"
     ]
    },
    {
     "data": {
      "text/html": [
       "<div>\n",
       "<style scoped>\n",
       "    .dataframe tbody tr th:only-of-type {\n",
       "        vertical-align: middle;\n",
       "    }\n",
       "\n",
       "    .dataframe tbody tr th {\n",
       "        vertical-align: top;\n",
       "    }\n",
       "\n",
       "    .dataframe thead th {\n",
       "        text-align: right;\n",
       "    }\n",
       "</style>\n",
       "<table border=\"1\" class=\"dataframe\">\n",
       "  <thead>\n",
       "    <tr style=\"text-align: right;\">\n",
       "      <th></th>\n",
       "      <th>User-ID</th>\n",
       "      <th>Location</th>\n",
       "      <th>Age</th>\n",
       "    </tr>\n",
       "  </thead>\n",
       "  <tbody>\n",
       "    <tr>\n",
       "      <th>0</th>\n",
       "      <td>1</td>\n",
       "      <td>nyc, new york, usa</td>\n",
       "      <td>NaN</td>\n",
       "    </tr>\n",
       "    <tr>\n",
       "      <th>1</th>\n",
       "      <td>2</td>\n",
       "      <td>stockton, california, usa</td>\n",
       "      <td>18.0</td>\n",
       "    </tr>\n",
       "    <tr>\n",
       "      <th>2</th>\n",
       "      <td>3</td>\n",
       "      <td>moscow, yukon territory, russia</td>\n",
       "      <td>NaN</td>\n",
       "    </tr>\n",
       "    <tr>\n",
       "      <th>3</th>\n",
       "      <td>4</td>\n",
       "      <td>porto, v.n.gaia, portugal</td>\n",
       "      <td>17.0</td>\n",
       "    </tr>\n",
       "    <tr>\n",
       "      <th>4</th>\n",
       "      <td>5</td>\n",
       "      <td>farnborough, hants, united kingdom</td>\n",
       "      <td>NaN</td>\n",
       "    </tr>\n",
       "  </tbody>\n",
       "</table>\n",
       "</div>"
      ],
      "text/plain": [
       "   User-ID                            Location   Age\n",
       "0        1                  nyc, new york, usa   NaN\n",
       "1        2           stockton, california, usa  18.0\n",
       "2        3     moscow, yukon territory, russia   NaN\n",
       "3        4           porto, v.n.gaia, portugal  17.0\n",
       "4        5  farnborough, hants, united kingdom   NaN"
      ]
     },
     "execution_count": 4,
     "metadata": {},
     "output_type": "execute_result"
    }
   ],
   "source": [
    "users_df = pd.read_csv('Data/BX-Users.csv',  sep=';', encoding='latin-1', on_bad_lines='skip', low_memory=False)\n",
    "users_df.head()"
   ]
  },
  {
   "cell_type": "markdown",
   "metadata": {},
   "source": [
    "# **Data Understanding**\n",
    "\n",
    "The Book Recommendation Data used in this project is from <a href='https://www.kaggle.com/datasets/rxsraghavagrawal/book-recommender-system'> Kaggle.</a>. The data contained three files: \n",
    "\n",
    "* **_Users.csv_**\n",
    "\n",
    "Contained the users. Some of the features in this file include user IDs (User-ID) which have been anonymized and map to integers. Demographic data such as (Location, Age)  was also provided where it was available. Otherwise, these fields contained null values.\n",
    "\n",
    "* **_Books.csv_**\n",
    "\n",
    "Contained books. Books were identified by their respective International Standard Book Number(ISBN).Some content-based information given (Book-Title, Book-Author, Year-Of-Publication, Publisher), was obtained from Amazon Web Services. In the case of several authors, only the first was provided. URLs linking to cover images were also given, appearing in three different flavors (Image-URL-S, Image-URL-M, Image-URL-L), i.e., small, medium, large. These URLs point to the Amazon web site.\n",
    "\n",
    "* **_Ratings.csv_**\n",
    "\n",
    "Contains the book rating information. Ratings (Book-Rating) are either explicit, expressed on a scale from 1-10 (higher values denoting higher appreciation), or implicit, expressed by 0.\n"
   ]
  },
  {
   "cell_type": "markdown",
   "metadata": {},
   "source": [
    "##### _**1. ratings_df**_"
   ]
  },
  {
   "cell_type": "code",
   "execution_count": 5,
   "metadata": {},
   "outputs": [
    {
     "name": "stdout",
     "output_type": "stream",
     "text": [
      "<class 'pandas.core.frame.DataFrame'>\n",
      "RangeIndex: 1149780 entries, 0 to 1149779\n",
      "Data columns (total 3 columns):\n",
      " #   Column       Non-Null Count    Dtype \n",
      "---  ------       --------------    ----- \n",
      " 0   User-ID      1149780 non-null  int64 \n",
      " 1   ISBN         1149780 non-null  object\n",
      " 2   Book-Rating  1149780 non-null  int64 \n",
      "dtypes: int64(2), object(1)\n",
      "memory usage: 26.3+ MB\n"
     ]
    }
   ],
   "source": [
    "ratings_df.info()\n",
    "\n",
    "# Observations:\n",
    " # The dataframe has no missing values\n",
    " # It has 1149780 rows and 3 columns"
   ]
  },
  {
   "cell_type": "markdown",
   "metadata": {},
   "source": [
    "_**Univariate Analysis**_"
   ]
  },
  {
   "cell_type": "code",
   "execution_count": 6,
   "metadata": {},
   "outputs": [
    {
     "data": {
<<<<<<< HEAD
      "image/png": "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",
=======
      "image/png": "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\n",
>>>>>>> e96db08c3427dc07e479ba0bc04f228b2c13091b
      "text/plain": [
       "<Figure size 864x432 with 1 Axes>"
      ]
     },
     "metadata": {
      "needs_background": "light"
     },
     "output_type": "display_data"
    }
   ],
   "source": [
    "\n",
    "fig, ax = plt.subplots(figsize=(12,6))\n",
    "sns.histplot(ratings_df['Book-Rating'], bins = np.arange(12) - 0.5, color='teal', ax=ax)\n",
    "ax.set_xticks(range(0,11))\n",
    "ax.set_xlabel('Ratings')\n",
    "ax.set_ylabel('Number of Users')\n",
    "ax.set_title('Book Ratings');\n",
    "\n",
    "rating_count = ratings_df['Book-Rating'].value_counts().sort_index()\n",
    "for i, val in enumerate(rating_count.values):\n",
    "    ax.text(i, val+10, (f'{round((val/sum(rating_count.values))*100, 1)}%'), ha='center', va='bottom',size=12)  \n",
    "    \n",
    "    # Observations:\n",
    "    # The book rating ranges from 0 to 10\n",
    "    # Most books have a rating of 0\n",
    "    # The ratings between 1-4 have very few books"
   ]
  },
  {
   "cell_type": "markdown",
   "metadata": {},
   "source": [
    "##### _**2. books_df**_"
   ]
  },
  {
   "cell_type": "code",
   "execution_count": 7,
   "metadata": {},
   "outputs": [
    {
     "name": "stdout",
     "output_type": "stream",
     "text": [
      "<class 'pandas.core.frame.DataFrame'>\n",
      "RangeIndex: 271360 entries, 0 to 271359\n",
      "Data columns (total 8 columns):\n",
      " #   Column               Non-Null Count   Dtype \n",
      "---  ------               --------------   ----- \n",
      " 0   ISBN                 271360 non-null  object\n",
      " 1   Book-Title           271360 non-null  object\n",
      " 2   Book-Author          271359 non-null  object\n",
      " 3   Year-Of-Publication  271360 non-null  object\n",
      " 4   Publisher            271358 non-null  object\n",
      " 5   Image-URL-S          271360 non-null  object\n",
      " 6   Image-URL-M          271360 non-null  object\n",
      " 7   Image-URL-L          271357 non-null  object\n",
      "dtypes: object(8)\n",
      "memory usage: 16.6+ MB\n"
     ]
    }
   ],
   "source": [
    "books_df.info()\n",
    "\n",
    "# Observations:\n",
    "    # The dataframe has 271360 rows and 8 columns\n",
    "    # The columns Book-Author, Publisher, Image-URL-L have missing values\n",
    "    # All the columns are categorical"
   ]
  },
  {
   "cell_type": "code",
   "execution_count": 8,
   "metadata": {},
   "outputs": [
    {
     "data": {
      "text/plain": [
       "array(['2002', '2001', '1991', '1999', '2000', '1993', '1996', '1988',\n",
       "       '2004', '1998', '1994', '2003', '1997', '1983', '1979', '1995',\n",
       "       '1982', '1985', '1992', '1986', '1978', '1980', '1952', '1987',\n",
       "       '1990', '1981', '1989', '1984', '0', '1968', '1961', '1958',\n",
       "       '1974', '1976', '1971', '1977', '1975', '1965', '1941', '1970',\n",
       "       '1962', '1973', '1972', '1960', '1966', '1920', '1956', '1959',\n",
       "       '1953', '1951', '1942', '1963', '1964', '1969', '1954', '1950',\n",
       "       '1967', '2005', '1957', '1940', '1937', '1955', '1946', '1936',\n",
       "       '1930', '2011', '1925', '1948', '1943', '1947', '1945', '1923',\n",
       "       '2020', '1939', '1926', '1938', '2030', '1911', '1904', '1949',\n",
       "       '1932', '1928', '1929', '1927', '1931', '1914', '2050', '1934',\n",
       "       '1910', '1933', '1902', '1924', '1921', '1900', '2038', '2026',\n",
       "       '1944', '1917', '1901', '2010', '1908', '1906', '1935', '1806',\n",
       "       '2021', '2012', '2006', 'DK Publishing Inc', 'Gallimard', '1909',\n",
       "       '2008', '1378', '1919', '1922', '1897', '2024', '1376', '2037'],\n",
       "      dtype=object)"
      ]
     },
     "execution_count": 8,
     "metadata": {},
     "output_type": "execute_result"
    }
   ],
   "source": [
    "books_df['Year-Of-Publication'].unique()\n",
    "\n",
    "# Observations:\n",
    "    # The two missing Publisher names were put in the Year-Of-Publication column"
   ]
  },
  {
   "cell_type": "code",
   "execution_count": 9,
   "metadata": {},
   "outputs": [
    {
     "data": {
      "text/html": [
       "<div>\n",
       "<style scoped>\n",
       "    .dataframe tbody tr th:only-of-type {\n",
       "        vertical-align: middle;\n",
       "    }\n",
       "\n",
       "    .dataframe tbody tr th {\n",
       "        vertical-align: top;\n",
       "    }\n",
       "\n",
       "    .dataframe thead th {\n",
       "        text-align: right;\n",
       "    }\n",
       "</style>\n",
       "<table border=\"1\" class=\"dataframe\">\n",
       "  <thead>\n",
       "    <tr style=\"text-align: right;\">\n",
       "      <th></th>\n",
       "      <th>ISBN</th>\n",
       "      <th>Book-Title</th>\n",
       "      <th>Book-Author</th>\n",
       "      <th>Year-Of-Publication</th>\n",
       "      <th>Publisher</th>\n",
       "      <th>Image-URL-S</th>\n",
       "      <th>Image-URL-M</th>\n",
       "      <th>Image-URL-L</th>\n",
       "    </tr>\n",
       "  </thead>\n",
       "  <tbody>\n",
       "    <tr>\n",
       "      <th>209538</th>\n",
       "      <td>078946697X</td>\n",
       "      <td>DK Readers: Creating the X-Men, How It All Beg...</td>\n",
       "      <td>2000</td>\n",
       "      <td>DK Publishing Inc</td>\n",
       "      <td>http://images.amazon.com/images/P/078946697X.0...</td>\n",
       "      <td>http://images.amazon.com/images/P/078946697X.0...</td>\n",
       "      <td>http://images.amazon.com/images/P/078946697X.0...</td>\n",
       "      <td>NaN</td>\n",
       "    </tr>\n",
       "    <tr>\n",
       "      <th>220731</th>\n",
       "      <td>2070426769</td>\n",
       "      <td>Peuple du ciel, suivi de 'Les Bergers\\\";Jean-M...</td>\n",
       "      <td>2003</td>\n",
       "      <td>Gallimard</td>\n",
       "      <td>http://images.amazon.com/images/P/2070426769.0...</td>\n",
       "      <td>http://images.amazon.com/images/P/2070426769.0...</td>\n",
       "      <td>http://images.amazon.com/images/P/2070426769.0...</td>\n",
       "      <td>NaN</td>\n",
       "    </tr>\n",
       "    <tr>\n",
       "      <th>221678</th>\n",
       "      <td>0789466953</td>\n",
       "      <td>DK Readers: Creating the X-Men, How Comic Book...</td>\n",
       "      <td>2000</td>\n",
       "      <td>DK Publishing Inc</td>\n",
       "      <td>http://images.amazon.com/images/P/0789466953.0...</td>\n",
       "      <td>http://images.amazon.com/images/P/0789466953.0...</td>\n",
       "      <td>http://images.amazon.com/images/P/0789466953.0...</td>\n",
       "      <td>NaN</td>\n",
       "    </tr>\n",
       "  </tbody>\n",
       "</table>\n",
       "</div>"
      ],
      "text/plain": [
       "              ISBN                                         Book-Title  \\\n",
       "209538  078946697X  DK Readers: Creating the X-Men, How It All Beg...   \n",
       "220731  2070426769  Peuple du ciel, suivi de 'Les Bergers\\\";Jean-M...   \n",
       "221678  0789466953  DK Readers: Creating the X-Men, How Comic Book...   \n",
       "\n",
       "       Book-Author Year-Of-Publication  \\\n",
       "209538        2000   DK Publishing Inc   \n",
       "220731        2003           Gallimard   \n",
       "221678        2000   DK Publishing Inc   \n",
       "\n",
       "                                                Publisher  \\\n",
       "209538  http://images.amazon.com/images/P/078946697X.0...   \n",
       "220731  http://images.amazon.com/images/P/2070426769.0...   \n",
       "221678  http://images.amazon.com/images/P/0789466953.0...   \n",
       "\n",
       "                                              Image-URL-S  \\\n",
       "209538  http://images.amazon.com/images/P/078946697X.0...   \n",
       "220731  http://images.amazon.com/images/P/2070426769.0...   \n",
       "221678  http://images.amazon.com/images/P/0789466953.0...   \n",
       "\n",
       "                                              Image-URL-M Image-URL-L  \n",
       "209538  http://images.amazon.com/images/P/078946697X.0...         NaN  \n",
       "220731  http://images.amazon.com/images/P/2070426769.0...         NaN  \n",
       "221678  http://images.amazon.com/images/P/0789466953.0...         NaN  "
      ]
     },
     "execution_count": 9,
     "metadata": {},
     "output_type": "execute_result"
    }
   ],
   "source": [
    "books_df[(books_df['Year-Of-Publication'] == 'DK Publishing Inc' ) | (books_df['Year-Of-Publication'] == 'Gallimard' )]\n",
    "# Observations:\n",
    "    # There seems to be a mix-up with the column entries that lead to the three missing values in the Image-URL-L"
   ]
  },
  {
   "cell_type": "code",
   "execution_count": 10,
   "metadata": {},
   "outputs": [],
   "source": [
    "# Removing the mix-up to be able to understand the date further\n",
    "\n",
    "removed_mixup = books_df[(books_df['Year-Of-Publication'] != 'DK Publishing Inc' ) & (books_df['Year-Of-Publication'] != 'Gallimard' )].copy()\n",
    "\n",
    "removed_mixup['Year-Of-Publication'] = removed_mixup['Year-Of-Publication'].astype(int)\n",
    "removed_mixup = removed_mixup[(removed_mixup['Year-Of-Publication'] < 2024 ) & (removed_mixup['Year-Of-Publication'] >= 1000)]"
   ]
  },
  {
   "cell_type": "code",
   "execution_count": 11,
   "metadata": {},
   "outputs": [
    {
     "data": {
      "text/plain": [
       "count    266726.000000\n",
       "mean       1993.687833\n",
       "std           8.321200\n",
       "min        1376.000000\n",
       "25%        1989.000000\n",
       "50%        1996.000000\n",
       "75%        2000.000000\n",
       "max        2021.000000\n",
       "Name: Year-Of-Publication, dtype: float64"
      ]
     },
     "execution_count": 11,
     "metadata": {},
     "output_type": "execute_result"
    }
   ],
   "source": [
    "# The statistical summary of the Year-Of-Publication column\n",
    "removed_mixup['Year-Of-Publication'].describe()\n",
    "\n",
    "# Observations:\n",
    "    #The least year is 0. This might be a placeholder for missing years\n",
    "    # The highest year is 2050. This is a year in the future and might bring issues later\n",
    "    # On average most books in this dataset were published in 1959"
   ]
  },
  {
   "cell_type": "markdown",
   "metadata": {},
   "source": [
    "**Checking for the trend in book production over time**"
   ]
  },
  {
   "cell_type": "code",
   "execution_count": 12,
   "metadata": {},
   "outputs": [
    {
     "data": {
<<<<<<< HEAD
      "image/png": "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",
=======
      "image/png": "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\n",
>>>>>>> e96db08c3427dc07e479ba0bc04f228b2c13091b
      "text/plain": [
       "<Figure size 720x504 with 1 Axes>"
      ]
     },
     "metadata": {
      "needs_background": "light"
     },
     "output_type": "display_data"
    }
   ],
   "source": [
    "# years and books made\n",
    "years = removed_mixup['Year-Of-Publication'].value_counts()\n",
    "years\n",
    "\n",
    "myKeys = list(years.keys())\n",
    "myKeys.sort()\n",
    "\n",
    "X = myKeys\n",
    "y = []\n",
    "for i in myKeys:\n",
    "    y.append(years[i]) \n",
    "\n",
    "year_plot = pd.DataFrame()\n",
    "year_plot['years'] = X\n",
    "year_plot['numbers'] = y\n",
    "\n",
    "plt.figure(figsize=(10, 7))\n",
    "ax = sns.lineplot(x='years', y='numbers', data=year_plot, color='teal')\n",
    "\n",
    "ax.set(xlabel='Years', ylabel='Number of books', \n",
    "       title='Years v. Number of books made')\n",
    "plt.show()\n",
    "# Observations:\n",
    "    # Most books in the dataset were published from 1950 to 202"
   ]
  },
  {
   "cell_type": "markdown",
   "metadata": {},
   "source": [
    "##### _**3. users_df**_"
   ]
  },
  {
   "cell_type": "code",
   "execution_count": 13,
   "metadata": {},
   "outputs": [
    {
     "name": "stdout",
     "output_type": "stream",
     "text": [
      "<class 'pandas.core.frame.DataFrame'>\n",
      "RangeIndex: 278858 entries, 0 to 278857\n",
      "Data columns (total 3 columns):\n",
      " #   Column    Non-Null Count   Dtype  \n",
      "---  ------    --------------   -----  \n",
      " 0   User-ID   278858 non-null  int64  \n",
      " 1   Location  278858 non-null  object \n",
      " 2   Age       168096 non-null  float64\n",
      "dtypes: float64(1), int64(1), object(1)\n",
      "memory usage: 6.4+ MB\n"
     ]
    }
   ],
   "source": [
    "users_df.info()\n",
    "\n",
    "# Observations:\n",
    "    # The dataset has 278858 rows and 3 columns\n",
    "    # The Age column has alot of missing values"
   ]
  },
  {
   "cell_type": "code",
   "execution_count": 14,
   "metadata": {},
   "outputs": [
    {
     "data": {
      "text/plain": [
       "count    168096.000000\n",
       "mean         34.751434\n",
       "std          14.428097\n",
       "min           0.000000\n",
       "25%          24.000000\n",
       "50%          32.000000\n",
       "75%          44.000000\n",
       "max         244.000000\n",
       "Name: Age, dtype: float64"
      ]
     },
     "execution_count": 14,
     "metadata": {},
     "output_type": "execute_result"
    }
   ],
   "source": [
    "# Statistical summary of the Age column\n",
    "users_df.Age.describe()\n",
    "\n",
    "# Observations:\n",
    "    # The least age is 0 and the oldest is 244 which is not possible\n",
    "    # The average age is 34"
   ]
  },
  {
   "cell_type": "code",
   "execution_count": 15,
   "metadata": {},
   "outputs": [
    {
     "data": {
<<<<<<< HEAD
      "image/png": "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",
=======
      "image/png": "iVBORw0KGgoAAAANSUhEUgAAA4gAAAHgCAYAAADniEPQAAAAOXRFWHRTb2Z0d2FyZQBNYXRwbG90bGliIHZlcnNpb24zLjUuMSwgaHR0cHM6Ly9tYXRwbG90bGliLm9yZy/YYfK9AAAACXBIWXMAAAsTAAALEwEAmpwYAABLS0lEQVR4nO3de3icd33n/c93TprRaSRZsiXL8iEn53x0TCAthKYkIV02hEI37LakXdq0kHZLw/Zp6fbpYXfZB9pt6NIubGlJgbZboFAgtDlREkiBkMQ5ETuOYyc+yZJ8kkanOc/8nj/mliPZsixZM3PPjN6v67ovjX4z9z3fCTdz6ePfyZxzAgAAAAAg4HcBAAAAAIDaQEAEAAAAAEgiIAIAAAAAPAREAAAAAIAkAiIAAAAAwENABAAAAABIkkJ+F1Bt3d3dbuPGjX6XAQAAAAC+eOaZZ44553rme27FBcSNGzdq27ZtfpcBAAAAAL4ws/2ne44hpgAAAAAASQREAAAAAICHgAgAAAAAkERABAAAAAB4CIgAAAAAAEkERAAAAACAh4AIAAAAAJBEQAQAAAAAeAiIAAAAAABJBEQAAAAAgIeACAAAAACQREAEAAAAAHgIiAAAAAAASQREAAAAAICHgAgAAAAAkERABAAAAAB4CIgAAAAAAEkERNSpyXROhaLzuwwAAACgoYT8LgBYqoOjSf3En3xHZqZze1p1wZpWbdnQqX//hg0KBszv8gAAAIC6RUBE3fnBq8eUKzi9d+uAhsdTenrvqL7x/JBaoyHdftU6v8sDAAAA6hYBEXXn6X1j6mwO63/cfqnMTMWi062f/Ff9+aN7dNsV/QrQiwgAAACcFeYgou48vW9UWzZ2yawUBAMB091vPU+vHp3WQztGfK4OAAAAqF8ERNSVIxNp7T+e1LUbO+e033pZn87pbtGfPbpHzrF4DQAAAHA2CIioK9v2j0mSrt3YNac9GDB98K3naefwhB59+YgfpQEAAAB1j4CIuvLU3lFFwwFdsjZ+ynO3XblW6zpj9CICAAAAZ4mAiLqybf+orhroVCR06q0bDgb0gRvO1fMHE/r+nuM+VAcAAADUNwIi6sZkOqeXhibmzD8cWL9BZnbi+Nnrz1N+8pje/ft/Naf9dMfA+g0+fiIAAACgtrDNBerGcwcSKjrp2k2vzz8cPHhA9z6ya87rntk/pu/t6db/+/UX1dkcWfCa99y0uSK1AgAAAPWIHkTUjaf3jSpg0lXrOxd83QVrWiVJrxyerEZZAAAAQMMgIKJuPL1vVBevbVdr08Id323RsNbGo9p9eKpKlQEAAACNgYCIupDNF/XcgcQp21uczgVr2nR8OqvjU5kKVwYAAAA0DgIi6sL2oXFl8sVFB8TzVrfKJL1yhF5EAAAAYLEIiKgL2/aNSpK2bFx4/uGMlqaQ+jtj2n14kj0RAQAAgEUiIKIuPLV3TBtXNWt1W3TR51ywuk1jyZyOTWUrWBkAAADQOAiIqHnOOT2zf1RbFjm8dMZ5q1tlxmqmAAAAwGIREFHzJlJ5jSVzurC3bUnnxSJBDXQ2a/eRKYaZAgAAAItAQETNO5RISZLWdsSWfO75a1o1nsrpyCSrmQIAAABnQkBEzRvyAmJffPHzD2ec19OqgIk9EQEAAIBFICCi5g2NlwJi/1n0IEbDQQ10NevVYwREAAAA4EwIiKh5hxIphYOm7tamszp/XWdMiWROyWy+zJUBAAAAjYWAiJo3lEirLx5TIGBndf7aeKnncXg8Xc6yAAAAgIZDQETNG06ktLZj6fMPZ6xua1LQTMMJAiIAAACwEAIiat5QInVWK5jOCAUDWt3edGIuIwAAAID5ERBR0/KFokYm0me1QM1sffGojkxmlC8Wy1QZAAAA0HgIiKhphyczKrqz2wNxtrUdMRWKTkcm2A8RAAAAOB0CImrazB6Iyw2Ive2lOYwsVAMAAACcHgERNW0mIPYvY5EaSWppCikeC2uYeYgAAADAaREQUdMOeQGxL768HkRJWtsR1VAiLefcsq8FAAAANCICImraUCKleCyslqbQsq+1Nh5TKldQIpUrQ2UAAABA4yEgoqYNJ9LLnn84oy8ePXFNAAAAAKciIKKmHUqklj3/cEZXS0RNoQDzEAEAAIDTICCipg0lUmXrQTQz9cWjGmIlUwAAAGBeBETUrMl0ThPpfNkCoiT1dcQ0Op1VOlco2zUBAACARkFARM2a2bOwnAFxbZz9EAEAAIDTISCiZh0q0x6Is61pjypgYh4iAAAAMI+KBUQzGzCzx8xsp5ntMLNf99r/wMwOmdnz3nHrrHM+YmZ7zGyXmd08q/0aM3vRe+6TZmZee5OZfclrf9LMNlbq86D6hryAWM4exHAwoJ62Jg2xkikAAABwikr2IOYlfdg5d5Gk6yTdbWYXe899wjl3pXc8IEnec3dIukTSLZI+ZWZB7/WflnSXpPO94xav/f2Sxpxz50n6hKSPV/DzoMqGEikFA6bVbeXrQZSk/o6YRibSyheKZb0uAAAAUO8qFhCdc8POuWe9x5OSdkrqX+CU2yR90TmXcc7tlbRH0lYz65PU7px7wjnnJH1B0jtnnfN57/FXJN0407uI+jecSKu3PapgoLz/k/Z3xFQoOh2eyJT1ugAAAEC9q8ocRG/o51WSnvSaftXMfmRm95lZp9fWL+ngrNMGvbZ+7/HJ7XPOcc7lJY1LWlWJz4DqK+2BWL7hpTNmhqweYh4iAAAAMEfFA6KZtUr6qqQPOecmVBoueq6kKyUNS/qTmZfOc7pboH2hc06u4S4z22Zm244ePbq0DwDfDI2ntLaMC9TMiIaDWtUS0dAYAREAAACYraIB0czCKoXDv3PO/aMkOecOO+cKzrmipL+UtNV7+aCkgVmnr5M05LWvm6d9zjlmFpIUlzR6ch3Ouc8457Y457b09PSU6+OhggpFp5HxtPoq0IMolYaZDo+nJWMhXwAAAGBGJVcxNUmflbTTOXfvrPa+WS+7XdJ27/H9ku7wVibdpNJiNE8554YlTZrZdd413yfpG7POudN7/G5Jj3rzFFHnjk1llCu4sq5gOtvajpiyhaIiqzdV5PoAAABAPQpV8NrXS/o5SS+a2fNe2+9Ieq+ZXanSUNB9kn5ZkpxzO8zsy5JeUmkF1LudcwXvvA9I+pykmKQHvUMqBdC/MbM9KvUc3lHBz4MqqsQeiLPNzG1sGri0ItcHAAAA6lHFAqJz7nuaf47gAwuc81FJH52nfZukU/6Sd86lJb1nGWWiRlViD8TZWqMhxWNhJdddUpHrAwAAAPWICVioSZUOiKVrR9U0cIkYlQwAAACUEBBRk4YSabU1hdQeDVfsPfo7Ygo2x/Xq0amKvQcAAABQTwiIqElDiVRFew+l1+chPrn3lIVvAQAAgBWJgIiaNDSeUl+FFqiZEY+FlZ88rqcIiAAAAIAkAiJ8NrB+g8zslOOFVw7om1/6wrzPzT6Ww8yUGdyhp/aOMg8RAAAAUGW3uQDOaPDgAd37yK45bflCUf/7O6/qpnf9rLZ++D8teP49N21e1vunD+7Q8EVv1uBYSgNdzcu6FgAAAFDv6EFEzZnK5CVJrU2V//eLzMHtkqQfvna84u8FAAAA1DoCImrOiYAYrXxAzB07oPVdzfqbH+5nmCkAAABWPAIias5UuhQQ26rQgyg5feCGc/WjwXH96+5jVXg/AAAAoHYREFFzJqvYgyhJ77q6X33xqP780T1VeT8AAACgVhEQUXOmMnk1hQIKB6tzezaFgrrrzefoqX2jepK5iAAAAFjBCIioOVPpfNV6D2fcce16dbdG9OeP0YsIAACAlYuAiJozlclXaf7h62KRoN7/Y+foX3cf0wsHE1V9bwAAAKBWEBBRcybT+apscXGyn71uveKxML2IAAAAWLEIiKgp+UJRqVxBbdFw1d+7LRrWL1y/Ud966bB2Dk9U/f0BAAAAvxEQUVNO7IHoQw+iJP3CmzaprSmkT357ty/vDwAAAPiJgIiaMlXlLS5kAZnZiaOjJaKDj35BD24fUWTNOXOeO/kYWL+hOjUCAAAAVeJPNw1wGlPpUkCs2iI1rqh7H9k1pymTK+i+H+zTj/8/9+nfXL72tKfec9PmSlcHAAAAVBU9iKgpk9XuQZxHUzioqwc69OrRaR2ZSPtWBwAAAFBtBETUlKlMXk2hgMJBf2/NK9d3qCkU0A/3jvpaBwAAAFBNBETUlKl03tfewxlNoaCuXt+pvcemdZheRAAAAKwQBETUlKlMvnrzD8/gioG4oqGAfvjacb9LAQAAAKqCgIiaMpnO+7bFxcmaQkFdtb5T+44nNZ7K+V0OAAAAUHEERNSMfKGoVK6gtmjY71JO2NTdIkkaHk/5XAkAAABQeQRE1IwTeyDWSA+iJK1qjSgcNI2MMw8RAAAAjY+AiJoxVQNbXJwsYKY17VENExABAACwAhAQUTOm0qWAWCuL1Mzoi0d1bCqjXKHodykAAABARREQUTMma7AHUZJ641EVnXRkIuN3KQAAAEBFERBRM6bSeTWFAgoHa+u27GuPSWKhGgAAADS+2vpLHCvaVCZfc72HkhSLBNURCzMPEQAAAA2PgIiaMZXJ19z8wxm98ahGJtJyzvldCgAAAFAxBETUjMl0vqa2uJitLx5VMlvQhLeQDgAAANCICIioCflCUalcQW3RsN+lzKsvzjxEAAAAND4CImrCiT0Qa7QHcVVLROGgaYR5iAAAAGhgBETUhKka3eJiRiBgWtMeZaEaAAAANDQCImrClDe3r1YXqZGk3vaojk1llCsU/S4FAAAAqAgCImrCZI33IEqlhWqKTjoykfG7FAAAAKAiCIioCVPpvJpCAYWDtXtL9sajkqThCRaqAQAAQGOq3b/GsaJMpHNqr9EVTGc0R0KKx8IsVAMAAICGRUBETRhP5RSP1XZAlErDTAmIAAAAaFQERPjOOaeJVL4uAuKq1oimswVlcgW/SwEAAADKjoAI301l8io4VxcBsbM5IkkaS+V8rgQAAAAoPwIifDfuha14c+0HxA4vxCaSWZ8rAQAAAMqPgAjfnQiIddCDOBNiE0l6EAEAANB4CIjw3Xgqp4BJbU21uwfijFAgoPZoSGP0IAIAAKABERDhu/FkTm3RsAIB87uURelsjtCDCAAAgIZEQITvxtP1scXFjI7mMAERAAAADYmACN+NJ+stIEaULRQVaOnwuxQAAACgrAiI8JU1tSidL9ZVQOz0FqoJd/b7XAkAAABQXgRE+Crc0SupPlYwndHh7YUY7iIgAgAAoLEQEOGrUB0GxLZoSEEzhTrX+l0KAAAAUFYERPgq1NEnqb4CYsBM8eYwPYgAAABoOARE+CrU0atYOKhIqL5uxc7msEJd9CACAACgsdTXX+VoOKGOvrrqPZzR0RxRuGOtCkXndykAAABA2RAQ4atwZ6/izXUYEGNhWSisoUTK71IAAACAsiEgwjfZfFHBtm7Fo/UXEDu9lUxfOzbtcyUAAABA+RAQ4ZtDiZQsEKzPHkSv5r1Hp3yuBAAAACgfAiJ8s/94qfetHucgNkeCKmaS2ksPIgAAABoIARG+OTialFSfAdHMlBs9pL3Hk36XAgAAAJQNARG+2X88qWIurZZI0O9Szkp+7JD2HmOIKQAAABoHARG+2T+aVD5xWGbmdylnJTc6pMGxlDL5gt+lAAAAAGVBQIRvDo4mlU+M+F3GWcuPDck56QDDTAEAANAgCIjwhXNOB0aTyieG/S7lrOVGD0liqwsAAAA0DgIifHF0KqNktlDXPYi5sSFJYiVTAAAANAwCInwxs4Jpro4DostMq7s1or1HCYgAAABoDARE+GK/N2+vnoeYStKm7hZ6EAEAANAwKhYQzWzAzB4zs51mtsPMft1r7zKzb5nZbu9n56xzPmJme8xsl5ndPKv9GjN70Xvuk+Yte2lmTWb2Ja/9STPbWKnPg/LafzwpMyk/ftjvUpZlU3eL9h4nIAIAAKAxVLIHMS/pw865iyRdJ+luM7tY0m9L+rZz7nxJ3/Z+l/fcHZIukXSLpE+Z2cwGeZ+WdJek873jFq/9/ZLGnHPnSfqEpI9X8POgjA6OJtXXHpUKeb9LWZZN3a06OpnRZDrndykAAADAslUsIDrnhp1zz3qPJyXtlNQv6TZJn/de9nlJ7/Qe3ybpi865jHNur6Q9kraaWZ+kdufcE845J+kLJ50zc62vSLrR6nVTvRVm/2hS61c1+13Gsm3qbpEk7TvGVhcAAACof1WZg+gN/bxK0pOS1jjnhqVSiJS02ntZv6SDs04b9Nr6vccnt885xzmXlzQuadU873+XmW0zs21Hjx4t06fCcuw/ntSGrha/y1i2mYD42rEpnysBAAAAlq/iAdHMWiV9VdKHnHMTC710nja3QPtC58xtcO4zzrktzrktPT09ZyoZFZbM5nVsKtMQPYgbVjXLjK0uAAAA0BgqGhDNLKxSOPw759w/es2HvWGj8n4e8doHJQ3MOn2dpCGvfd087XPOMbOQpLik0fJ/EpTTAW+Li/Vd9R8Qo+Gg1sZjBEQAAAA0hEquYmqSPitpp3Pu3llP3S/pTu/xnZK+Mav9Dm9l0k0qLUbzlDcMddLMrvOu+b6Tzpm51rslPerNU0QNm9niYkMD9CBK0jk9bHUBAACAxhCq4LWvl/Rzkl40s+e9tt+R9DFJXzaz90s6IOk9kuSc22FmX5b0kkoroN7tnCt4531A0uckxSQ96B1SKYD+jZntUann8I4Kfh6UyUGvB7ER5iBKpXmIX3v2kJxzYo0kAAAA1LOKBUTn3Pc0/xxBSbrxNOd8VNJH52nfJunSedrT8gIm6sf+40m1R0OKN4f9LqUsNnW3aDKT1/HprLpbm/wuBwAAADhrVVnFFJht/2hSG1Y1Ru+h9PpKpgwzBQAAQL0jIKLqDjbIHogzzululSTtPUpABAAAQH0jIKKqCkWnwbFkQ6xgOmNtR1ThoOk1ehABAABQ5wiIqKqhREq5gtOGBgqIoWBA67uatffYlN+lAAAAAMtCQERVndgDsYGGmErSpu5W5iACAACg7hEQUVUnAmID9SBKpb0Q9x1PqlBkG04AAADULwIiqmr/8aTCQVNfPOZ3KWW1qbtF2XxRQ4mU36UAAAAAZ42AiKo6MDqtgc5mBQONtaH8zFYX+44zzBQAAAD1i4CIqjowmtRAgw0vlaRz2AsRAAAADYCAiKpxzmn/8aQ2NNgCNZLU09aklkhQr7EXIgAAAOoYARFVk0jmNJnON9wCNZJkZtrY3UIPIgAAAOoaARFV06grmM7YREAEAABAnSMgomr2ewFxw6oWnyupjHO6WzQ4llQmX/C7FAAAAOCsEBBRNQe8FT4btgexp0VFJx30gjAAAABQbwiIqJoDo0n1tDUpFgn6XUpFbOpulSQWqgEAAEDdIiCiavYfT2pDg/YeStKmVeyFCAAAgPpGQETVHBhNan0DbnExI94cVndrRLsPT/ldCgAAAHBWCIioinSuoJGJdMPOP5xxUV+7do5M+F0GAAAAcFYIiKiKwbGUnJM2NHAPoiRd3NeuVw5PKVco+l0KAAAAsGQERFTFwbHG3gNxxkV97crmiyxUAwAAgLpEQERVHB5PS5J64zGfKykjC8jM5hw/c9ObJEnX3PhvT3nu5GNg/QafPwAAAAAwV8jvArAyjEyUAmJPa5PPlZSRK+reR3bNaSoWnT713Vd1093/XT9+fs+Cp99z0+ZKVgcAAAAsGT2IqIrDE2l1t0YUCTX2LRcImFa1RHR0MuN3KQAAAMCSNfZf66gZI+NprWmP+l1GVfS0NenoVEbOOb9LAQAAAJaEgIiqODyRUe9KCYitTUrniprK5P0uBQAAAFgSAiKq4vBEWqtXSkBsK82zPDrFMFMAAADUFwIiKi6TL+j4dHbF9CB2ewvxHJvM+lwJAAAAsDQERFTckYlST1pvvIFWMF1AJBRQPBZmoRoAAADUHQIiKu7IZGmLi5WySI30+kI1AAAAQD0hIKLiRsZLQWlFBcTWJo2ncsrkC36XAgAAACwaAREVNzJR6kFcKXMQpdcXqjk2xTxEAAAA1A8CIiru8ERakVBAHc1hv0upmp4TC9UwzBQAAAD1g4CIijs8kVZve1Rm5ncpVdPSFFQsHGQeIgAAAOoKAREVNzKe1pr2lbGC6QwzU3dbhJVMAQAAUFcIiKi4wxPpFbVAzYye1iYdn86qWHR+lwIAAAAsCgERFeWc04g3xHSl6WlrUqHoNJZkoRoAAADUBwIiKmoinVc6V1RvfAUGRG+hmiMMMwUAAECdICCiog57W1ysXoE9iJ0tEUWCAQ2Pp/0uBQAAAFgUAiIqamR85e2BOCNgpr6OqA4lUn6XAgAAACwKAREVNTKxcgOiJPV3xDQ6nVUym/e7FAAAAOCMCIioqCMnhpiurG0uZvR3xCRJQwmGmQIAAKD2ERBRUSMTaXU0hxUNB/0uxRdr2qMKBoxhpgAAAKgLBERU1Mh4ZsUOL5WkYMDUF49qiIAIAACAOkBAREUdnkhrzQoOiFJpmOnRyYwy+YLfpQAAAAALIiCiog5PpFd0D6JUCohO0jDzEAEAAFDjCIiomHyhqGNTGa1ZoQvUzOiNRxUwMQ8RAAAANY+AiIo5OpVR0Ulr4iu7BzEcDGhNO/shAgAAoPYREFExI+Mrew/E2dZ2xHR4Iq18oeh3KQAAAMBpERBRMYcnMpK04hepkUrzEIuutO0HAAAAUKsIiKiYw14YIiBKa71htofGGGYKAACA2kVARMWMTKQVDppWtUT8LsV3TeGgelqbmIcIAACAmkZARMUcHk9rdVtUgYD5XUpN6O+IaXg8rULR+V0KAAAAMC8CIirm8GR6xW9xMdvazqjyRXdi6C0AAABQawiIqJiR8TTzD2dZ19ksSTowmvS5EgAAAGB+BERUzOGJDAFxllg4qDXtTQREAAAA1CwCIipiKpPXVCav3jgBcbb1Xc0amUgrky/4XQoAAABwCgIiKuLIiS0umIM424auFjknDbLdBQAAAGoQAREVcWQyI0la3UYP4my98ajCQdP+4wwzBQAAQO0hIKIiXg+I9CDOFgyY1nU2Mw8RAAAANYmAiIqYGWLaQ0A8xfquZo2ncgrF1/hdCgAAADBHyO8CUP8G1m/Q4MEDc9o6bvgFtV/zDnW2EBBPtqGrtN1FdONVPlcCAAAAzEVAxLINHjygex/ZNaft4R0jOpRIndJ+sntu2lzJ0mpSR3NYbdGQpjcREAEAAFBbGGKKipjO5tUS4d8f5mNmWt/VrNiGK5QvFP0uBwAAADhhUQHRzK5fTBswI5kpqKUp6HcZNWt9V7MC0Va9MDjudykAAADACYvtQfyzRbYBkqTpDD2ICxnoapZzRX1v9zG/SwEAAABOWPAveDN7o6Q3Seoxs3tmPdUuie4hzCtfLCqdL6qZHsTTioWDyg7v0b/uXqVf/8nz/S4HAAAAkHTmHsSIpFaVgmTbrGNC0rsXOtHM7jOzI2a2fVbbH5jZITN73jtunfXcR8xsj5ntMrObZ7VfY2Yves990szMa28ysy957U+a2cYlfnZUSDJTkCR6EM8gve9ZPXcwofFkzu9SAAAAAElnCIjOue865/5Q0nXOuT+cddzrnNt9hmt/TtIt87R/wjl3pXc8IElmdrGkOyRd4p3zKTOb6X76tKS7JJ3vHTPXfL+kMefceZI+IenjZ/qwqI5k1guITQTEhSR3P6lC0elbOw/7XQoAAAAgafFzEJvM7DNm9oiZPTpzLHSCc+5xSaOLvP5tkr7onMs45/ZK2iNpq5n1SWp3zj3hnHOSviDpnbPO+bz3+CuSbpzpXYS/prN5SVJLhCGmC8mO7FZ/R0wPvjjsdykAAACApMXvg/gPkv6PpL+SVFjme/6qmb1P0jZJH3bOjUnql/TDWa8Z9Npy3uOT2+X9PChJzrm8mY1LWiXplFU/zOwulXohtX79+mWWjzOZzngBkR7EM3r7pb36whP7NZHOqT0a9rscAAAArHCL7UHMO+c+7Zx7yjn3zMxxFu/3aUnnSrpS0rCkP/Ha5+v5cwu0L3TOqY3OfcY5t8U5t6Wnp2dJBWPppr05iLEwPYhn8vbL+pQtFPXoziN+lwIAAAAsOiB+08w+aGZ9ZtY1cyz1zZxzh51zBedcUdJfStrqPTUoaWDWS9dJGvLa183TPuccMwtJimvxQ1pRQdPZvJojQQUCjPg9k6sGOtTbHtUDDDMFAABADVhsQLxT0m9K+oGkZ7xj21LfzJtTOON2STMrnN4v6Q5vZdJNKi1G85RzbljSpJld580vfJ+kb8w6507v8bslPerNU4TP2ANx8QIB0y2X9uo7rxzVlDc0FwAAAPDLov6Kd85tWuqFzezvJd0gqdvMBiX9vqQbzOxKlYaC7pP0y971d5jZlyW9JCkv6W7n3Mxcxw+otCJqTNKD3iFJn5X0N2a2R6WewzuWWiMqI5ktsAfiEtx6WZ8+94N9euzlI3rHFWv9LgcAAAAr2KICoreozCmcc1843TnOuffO0/zZBV7/UUkfnad9m6RL52lPS3rP6a4H/0xn8+pubfK7jLpxzYZO9bQ16cHtwwREAAAA+Gqx4wCvnfU4KulGSc+qtO0EcELROSWzBbXQg7howYDplkt69ZVnBpXM5tXM8FwAAAD4ZFFzEJ1zvzbr+CVJV0mKVLY01KNUtiDnxBzEJXr7Zb1K5Qr67q6jfpcCAACAFWyxi9ScLKnSQjLAHMlsaeoocxCXZuvGLq1qieiB7SN+lwIAAIAVbLFzEL+p1/cYDEq6SNKXK1UU6te0txInPYhLEwoGdOtlffrStoM6MpHW6vao3yUBAABgBVrsX/H/c9bjvKT9zrnBCtSDOjed9QJiEwHxjCyg0u4tJaGOXq39pb/Qhbf/msYe/asFT103sF4HD+yvdIUAAABYYRa7zcV3zWyNXl+sZnflSkI9m/aGmLZEGGJ6Rq6oex/ZNafpkZdGtDt0uz58z28suFjNPTdtrnR1AAAAWIEWNQfRzH5G0lMqbSvxM5KeNLN3V7Iw1KdkJq+mUECh4NlOb13Zrt3YpULR6dkDCb9LAQAAwAq02HGA/0XStc65I5JkZj2S/kXSVypVGOrTdKagZnoPz1pnc0QXrGnTjwYTumZ9p2L8twQAAEAVLbabJzATDj3Hl3AuVpDpbJ75h8t07cZO5QpOzx0c87sUAAAArDCLDXkPmdnDZvbzZvbzkv5Z0gOVKwv1KpktsILpMq1qbdL5q1v1wsFxpXMFv8sBAADACrJgQDSz88zseufcb0r6C0mXS7pC0hOSPlOF+lBHnHOazuTVwh6Iy7Z1U5eyhaKeYy4iAAAAquhMPYh/KmlSkpxz/+icu8c59xsq9R7+aWVLQ73JForKFx09iGXQ3dqk83pa9fzBhFL0IgIAAKBKzhQQNzrnfnRyo3Num6SNFakIdWs6UwoyzfQglsV155R6EZ/Zz1xEAAAAVMeZAmJ0gedi5SwE9W86k5ckehDLZFVrkzavadMLBxMn/tsCAAAAlXSmgPi0mf3SyY1m9n5Jz1SmJNSr6awXEFnFtGzecE6XCs5pG72IAAAAqIIz/SX/IUlfM7P/oNcD4RZJEUm3V7Au1KFktjTEtIW9+8qmszmii3rb9eKhcV29vkNt0bDfJQEAAKCBLdiD6Jw77Jx7k6Q/lLTPO/7QOfdG59xI5ctDPZnO5BUMmCIhtsgspzds6pJzTk/voxcRAAAAlbWosYDOucckPVbhWlDnprMFtUSCMjO/S2ko7bGwLlkb146hcW3Z0Kn2GL2IAAAAqAy6elA2pT0QmX9YCddu7JSZ6al9o36XAgAAgAZGQETZJDMFNTP/sCLaomFdsrZdO4cnNJHO+V0OAAAAGhQBEWUznaUHsZKu2dApSXqWFU0BAABQIQRElEW+WFQmX2QPxApqj4Z1UV+7tg9NKNDS4Xc5AAAAaEAERJRFytvigiGmlbVlQ6eKRaf2a9llBgAAAOVHQERZJAmIVdHRHNHm3ja1XXWrRqezfpcDAACABkNARFm8HhAZYlppWzZ0ysJN+uvv7/W7FAAAADQYAiLKYjqbl0QPYjWsam1SctcP9Lnv79N4ihVNAQAAUD4ERJQFQ0yra/yJL2kyk9effXu336UAAACggRAQURapTEGRYEChILdUNeSO7NV7t67XX/9gn14amvC7HAAAADQI/ppHWSSzeXoPq+y3btmsjlhY/+XrL6pYdH6XAwAAgAZAQERZJLMFAmKVdTRH9Du3XqTnDiT0xacP+l0OAAAAGgABEWUxnc2ruYkVTKvtXVf36w2buvSxB3fq2FTG73IAAABQ5wiIKAt6EP1hZvro7ZcqlSvofzyw0+9yAAAAUOcIiFi+QEiZfJGA6JPzVrfpl998rv7x2UN6eMeI3+UAAACgjhEQsWzBlrgkqTnCEFO//NqN5+nydXH95y+/oL3Hpv0uBwAAAHWKgIhlC7Z0SmIPxKqygMzsxBENh/TAf3mXEolRXf9bn1MgEp3z/MnHwPoNfn8CAAAA1CC6fLBsweYOSVILPYjV44q695FdpzTvPz6trz8/pLf90SO6+eI1MrN5T7/nps2VrhAAAAB1iB5ELFuAHsSasWFVi954zirtGpnUjwbH/S4HAAAAdYaAiGULtnRIIiDWims3dmpTd4se332U+YgAAABYEgIili3Y0qlIMKBQkNupFpiZbr5kjbpbm/TPLw5rcCzpd0kAAACoE/xFj2ULtnTQe1hjmkJBvfPKfsWjYX3zhWEdnkj7XRIAAADqAAERyxZsJiDWolgkqHdetVZN4YC+8fyQRqezfpcEAACAGkdAxLIFWjrYA7FGtUXDetdV/TKT7n9hSPlC0e+SAAAAUMMIiFi2YEsnPYg1rKM5opsv6dV4Kqdt+8f8LgcAAAA1jICIZcnmiwrG2giINW59V7MuWN2qbfvHlEgy1BQAAADzIyBiWY5PZyRJzU0MMa11P35+jwImffeVo36XAgAAgBpFQMSyHJss9UbRg1j7WqMhXXfOKu07nlTs/Ov8LgcAAAA1iICIZTk25fUgEhDrwhXrOrSqJaKuG+9SMpv3uxwAAADUGAIiluXo5ExAZIhpPQgGTG+9cLVC8dX69Hde9bscAAAA1BgCIpblKD2Idae/I6bpnY/rc9/fp/FUzu9yAAAAUEMIiFiWY1MZFTNJhYPcSvVk/If/oMlMXn/7w/1+lwIAAIAawl/1WJZjU1kVphN+l4Elyh3Zqxs29+i+7+1VKlvwuxwAAADUCAIiluXoZFqFJJuv16O733qejk9n9aWnD/hdCgAAAGoEARHLQg9i/bp2Y5eu3dipzzz+mrL5ot/lAAAAoAYQELEsx6YyKk7Tg1ivPnjDeRoaT+sbzx/yuxQAAADUAAIizlo2X1QimaMHsY7dsLlHF/W16/9891UVi87vcgAAAOAzAiLO2vHp0hYXBMT6ZWb64A3n6tWj03pg+7Df5QAAAMBnBESctWOTWUlSIZnwtxAsy62X9enC3jb9t396SRNp9kUEAABYyQiIOGvHpmZ6EJmDWHcsIDOTmSkUDOixP/oljSSS2nTbh060L3QMrN/g9ycAAABABYT8LgD166gXEIsMMa0/rqh7H9k1p+nxV47qucCt+oX336X+ztiCp99z0+ZKVgcAAACf0IOIs3Z0kjmIjeSN565SezSkb798WPkC214AAACsRAREnLVjUxm1RIJy+YzfpaAMwsGAfuLC1RpL5vT0PoYNAwAArEQERJy1Y1NZdbc1+V0GymjDqhZd1NumbftHT/QQAwAAYOUgIOKsHZ/KqLuVgNhofvyCHjWFgvr2y4dVdOyNCAAAsJIQEHHWxpI5dTZH/C4DZRYLB/WWC3p0eCKjFw4m/C4HAAAAVURAxFlLJLPqaA77XQYq4II1rdq4qlk/ePW4xlPsjQgAALBSVCwgmtl9ZnbEzLbPausys2+Z2W7vZ+es5z5iZnvMbJeZ3Tyr/Roze9F77pNmZl57k5l9yWt/0sw2VuqzYH6JZE6dBMSGZGb6iQtXy0x69OUjcgw1BQAAWBEq2YP4OUm3nNT225K+7Zw7X9K3vd9lZhdLukPSJd45nzKzoHfOpyXdJel875i55vsljTnnzpP0CUkfr9gnwSnSuYJSuYI6GGLasNqiYV1/brcOjCb18sik3+UAAACgCioWEJ1zj0saPan5Nkmf9x5/XtI7Z7V/0TmXcc7tlbRH0lYz65PU7px7wpW6ML5w0jkz1/qKpBtnehdReTPDDuMxehAb2eXr4uqLR/X4K0eVyRf8LgcAAAAVVu05iGucc8OS5P1c7bX3Szo463WDXlu/9/jk9jnnOOfyksYlrapY5ZgjkSwFROYgNjYz05vP71E6X9QuehEBAAAaXq0sUjNfz59boH2hc069uNldZrbNzLYdPXr0LEvEbIlkVpJYxXQFWNPepO7WiHYMTfhdCgAAACqs2gHxsDdsVN7PI177oKSBWa9bJ2nIa183T/ucc8wsJCmuU4e0SpKcc59xzm1xzm3p6ekp00dZ2caSDDFdKcxMl66N68hkRkcm036XAwAAgAqqdkC8X9Kd3uM7JX1jVvsd3sqkm1RajOYpbxjqpJld580vfN9J58xc692SHnUstVg146lSDyJDTFeGzb1tCgZMOw7RiwgAANDIKrnNxd9LekLSZjMbNLP3S/qYpLeZ2W5Jb/N+l3Nuh6QvS3pJ0kOS7nbOzayI8QFJf6XSwjWvSnrQa/+spFVmtkfSPfJWREV1zMxBZIjpyhANB3X+6la9fHhSuULR73IAAABQIaFKXdg5997TPHXjaV7/UUkfnad9m6RL52lPS3rPcmrE2RtL5hQOmpojwTO/GA3hkrXtenlkUnuOTPldCgAAACqkVhapQZ0ZT2UVj0XEziIrR39HTPFYmMVqAAAAGhgBEWclkcypk/mHK0ppsZp2HUqkFOrqP/MJAAAAqDsERJyVsWSWBWpWoIv62hUwqfXym/wuBQAAABVAQMRZSSRzisdYoGalaWkKaVN3i1ov/QkViiwaDAAA0GgIiDgr4ymGmK5Um9e0KdjSqaf3zbvtKAAAAOoYARFnJZHMMcR0hdqwqkXFXEYPbR/xuxQAAACUGQERS5bOFZTKFdTBHogrUiQUUHrvs3p4x4iKDDMFAABoKARELNl4KidJisfoQVypkq88oeHxtH50aNzvUgAAAFBGBEQsWSJZCoid9CCuWKk9TyoUMD24fdjvUgAAAFBGBEQs2VgyK0nMQVzBiplpvfHcVXp4+4icY5gpAABAoyAgYslmehAZYrqy3XJpr/YdT2rX4Um/SwEAAECZEBCxZOOpUg9iZwtDTFeymy7ulZn04IusZgoAANAoCIhYsjGvB7GDHsQVraetSddu6NLDOwiIAAAAjYKAiCVLJHMKB03NkaDfpcBnt1zaq5dHJrX32LTfpQAAAKAMCIhYsvFUVh3NEZmZ36XAZzdf2itJemg7vYgAAACNgICIJRubzjG8FJKk/o6YLl8X17/sPOx3KQAAACgDAiKWLJHKssUFTrj+vG69cDChVLbgdykAAABYJgIiliyRzKmjmRVMUbJ1U5fyRafnDoz5XQoAAACWiYCIJRtPMcQUr7tmQ6cCJj25d9TvUgAAALBMBEQs2ViSIaZ4XXs0rIvXtuvJvcf9LgUAAADLREDEkqRzBaVzRYaYYo6tG1fpuQMJZfLMQwQAAKhnBEQsyXgqJ0n0IGKON5zTpUy+qBcHx/0uBQAAAMtAQMSSjCWzkqSOGD2IeN21G7skMQ8RAACg3hEQsSSJJD2IOFVXS0QXrGklIAIAANQ5AiKWhICI09m6qUvP7BtVvlD0uxQAAACcJQIiliQxM8SURWpWNgvIzOYcn/jI3ZrOFtSybvMpz80+BtZv8Lt6AAAAnEbI7wJQXxIzi9SwD+LK5oq695Fdc5qmMnl99nt79TP//W919frO0556z02bK10dAAAAzhI9iFiSRDKnSDCg5kjQ71JQY1qbQorHwjo0lvK7FAAAAJwlAiKWJJHMKt4clpn5XQpqUH9HTEOJlJxzfpcCAACAs0BAxJIkkjmGl+K01nXGlM4XdXw663cpAAAAOAsERCxJIpVlBVOcVn9HTJIYZgoAAFCnCIhYkkQyxwqmOK22aEitTSENJQiIAAAA9YiAiCVhiCkWYmbqi0c1PJH2uxQAAACcBQIiloQhpjiT3nhUk+m8pjJ5v0sBAADAEhEQsWjpXEHpXJEhpljQ2nhpHuLwOMNMAQAA6g0BEYuWSOYkiR5ELKinrUnBgGlknGGmAAAA9YaAiEVLpEpbF3TE6EHE6QUDptVtTRomIAIAANQdAiIWbaYHsZMeRJxBXzyqI5MZFYrO71IAAACwBARELFoiWepBjBMQcQa98agKRaejkxm/SwEAAMASEBCxaK/PQWSIKRbWx0I1AAAAdYmAiEVLpBhiisVpbQqpLRpiHiIAAECdISBi0caSWUWCAcXCQb9LQR3oa48SEAEAAOoMARGLNp7MKd4clpn5XQrqQG88qqlMXpPpnN+lAAAAYJEIiFi0RDKnjhjDS7E4M/MQ2Q8RAACgfhAQsWhjyaw6WaAGi9TT1qRgwBhmCgAAUEcIiFi08VSOLS6waMGAaXVbEwERAACgjhAQsWgMMcVSrY3HdHQyo3yx6HcpAAAAWAQCIhZtLJlVZwtDTLF4vfGoCs7p6GTG71IAAACwCARELEo6V1AmX1ScHkQsQV88KkkaHEv5XAkAAAAWg4CIRUkkS1sVdDAHEUvQ0hTS6rYm7T027XcpAAAAWAQCIhYlkcpKEquYYsk2dbdoeDytZDbvdykAAAA4AwIiFmVs2utBZIgplmhTd4skad/xpM+VAAAA4EwIiFiUca8HkW0usFSr25rUEgkyzBQAAKAOEBCxKDNzEBliiqUyM23qbtGB40kVis7vcgAAALAAAiIWZYxFarAMm7pblC0UNTjGMFMAAIBaRkDEoiRSWUWCAcXCQb9LQR0a6GpWMGAMMwUAAKhxBEQsyngyp3hzWGbmdymoQ+FgQOu7mgmIAAAANY6AiEUZS2bVyfBSLMOm7hZNpPMKd2/wuxQAAACcBgERi5JI5tQRY4EanL2Z7S5i5231uRIAAACcDgERizKeyrHFBZaltSmk1W1NBEQAAIAaRkDEojDEFOWwqbtFTWs369hUxu9SAAAAMA8CIhYlkcypgz0QsUzn9rTKLKAHXhz2uxQAAADMg4CIM0rnCsrki4rH6EHE8vS0NSl7ZK+++syg36UAAABgHgREnFEimZMkddKDiDKY2v5tvTA4rj1HJv0uBQAAACchIOKMxpJZSVIHcxBRBtM7vqNgwPSVZw75XQoAAABOQkDEGc30IHYwxBRlUEwm9JYLevS15wZVKDq/ywEAAMAsvgREM9tnZi+a2fNmts1r6zKzb5nZbu9n56zXf8TM9pjZLjO7eVb7Nd519pjZJ83M/Pg8jW48NdODyBBTlMdPX71Ohycy+v6eY36XAgAAgFn87EF8q3PuSufcFu/335b0befc+ZK+7f0uM7tY0h2SLpF0i6RPmVnQO+fTku6SdL533FLF+leMsZkeRIaYokxuvGi14rGwvvosi9UAAADUkloaYnqbpM97jz8v6Z2z2r/onMs45/ZK2iNpq5n1SWp3zj3hnHOSvjDrHJRRgoCIMouGg3rHFX16eMeIJtM5v8sBAACAx6+A6CQ9YmbPmNldXtsa59ywJHk/V3vt/ZIOzjp30Gvr9x6f3I4yS6SyigQDioWDZ34xsEg/ffU6pXNF9kQEAACoIX4FxOudc1dLeruku83szQu8dr55hW6B9lMvYHaXmW0zs21Hjx5derUrXGI6p47msJjiiXK6cqBD5/S06KusZgoAAFAzfAmIzrkh7+cRSV+TtFXSYW/YqLyfR7yXD0oamHX6OklDXvu6edrne7/POOe2OOe29PT0lPOjrAiJVJbhpSg7M9NPX71OT+0b1YHjSb/LAQAAgHwIiGbWYmZtM48l3SRpu6T7Jd3pvexOSd/wHt8v6Q4zazKzTSotRvOUNwx10syu81Yvfd+sc1BGiWROHTFWMEX5vevqfpmJxWoAAABqhB89iGskfc/MXpD0lKR/ds49JOljkt5mZrslvc37Xc65HZK+LOklSQ9Juts5V/Cu9QFJf6XSwjWvSnqwmh9kpUgkc/QgoiL64jFdf263/vG5QRXZExEAAMB3oWq/oXPuNUlXzNN+XNKNpznno5I+Ok/7NkmXlrtGzJVIZXVFc9zvMtCgfvqafv3Gl17Q0/tG9YZzVvldDgAAwIpWS9tcoEaVehAZYorKuPmSXrVEggwzBQAAqAEERCwolS0oky8yxBQV0xwJ6dbL+vTAiyNKZQtnPgEAAAAVQ0DEghKprCSxSA3KxwIysznHn334ZzWVyavnqp885bmTj4H1G/z+BAAAAA2r6nMQUV8SyZwk0YOI8nFF3fvIrrlNzulzP9in9Xf+nm6/6i8WPP2emzZXsjoAAIAVjR5ELIiAiGowM13U164Do0lNpnN+lwMAALBiERCxoESSIaaojov62iVJL49M+lwJAADAykVAxIISKXoQUR3xWFhrO6LaOTwh59gTEQAAwA8ERCyIIaaopkvXxjWWzGlwLOV3KQAAACsSARELSiSzioQCioWDfpeCFeD81a2KhgJ68dC436UAAACsSARELCiRzKkjFpaZ+V0KVoBQMKCL1rbr1aNTms7k/S4HAABgxSEgYkGJVJbhpaiqy/rjKjppx9CE36UAAACsOARELGgsmVNHMyuYono6myMa6Ipp+9C4iixWAwAAUFUERCxo3BtiClTTZf1xTabz2nds2u9SAAAAVhQCIhbEEFP44ZzuVrVEgvoRi9UAAABUFQERp+Wc01gyp06GmKLKggHTJf1x7T+e1Li3FycAAAAqj4CI00rnisrmi4rTgwgfXLq2XSax5QUAAEAVERBxWolUVpLUEaMHEdXXFg3r3J5WvXhoXJl8we9yAAAAVgQCIk5rbLo0tI85iPDLtRs7lc0X9cJBehEBAACqgYCI0zrRg0hAhE9Wt0e1cVWznjs4pmy+6Hc5AAAADY+AiNMaT3o9iAwxhY+2bupSOldkLiIAAEAVEBBxWsenSz2InS30IMI/ffGYBrpievbAmPIFehEBAAAqiYAIDazfIDM75fi13/o9uUJeaztb531+5gAq7Q0bVymZLWj70ITfpQAAADS0kN8FwH+DBw/o3kd2ndL+0PYRDY+ndO/DOxc8/56bNleqNECS1N8Z09qOqJ7ZPyYF+doCAACoFHoQcVoT6ZzaowwvRW3YurFLU5m8Wi+/ye9SAAAAGhYBEac1kc6pLUZvDWrD+q5m9XfE1PFj/0GJZNbvcgAAABoSARHzyheLms4U6EFEzTAzveWCHgWirfrjh08dEg0AAIDlIyBiXlPpvCSpPUZARO3oaWvS5LP/pP/71AG9OMi2FwAAAOVGQMS8JmYCYpQhpqgtiX/9O61qadL/+43tKhad3+UAAAA0FAIi5jWRykkSQ0xRc1w2qY+8/UI9fzChrzwz6Hc5AAAADYWAiHlNpHMyk1qb6EFE7XnX1f3asqFTH3voZY0nc36XAwAA0DAIiJjXZDqv1qaQAgHzuxTgFGam/3rbpRpP5fQH39zhdzkAAAANg4CIeU2k2AMRte3ite36Tz9xvr723CHd/8KQ3+UAAAA0BAIi5jWRzrNADWre3W89V1et79Dvfu1FDSVSfpcDAABQ9wiIOEWh6DSVyauNLS5Q40LBgP70312pfNHpw19+gVVNAQAAlomAiFNMZdjiAjXMAjKzE8fG7lYd+Pq9euK14+q47qfnPHfyMbB+g9/VAwAA1DQSAE7BFheoaa6oex/ZNbfJOf3zi8MK3viL+uBv/YHWtEfnPfWemzZXo0IAAIC6RQ8iTjGR9gIiQ0xRJ8xMN160Rs1NQf3zi8NKZQt+lwQAAFCXCIg4xUQ6LxN7IKK+xMJB/dRlfUpmC3pw+zDzEQEAAM4CARGnmEzl1NIUUpA9EFFn1rRH9dbNPTo4ltIPXjvudzkAAAB1h4CIU0yk82qP0XuI+nTJ2rgu7W/XM/vHtPvIpN/lAAAA1BUCIk4xkc6xQA3q2lsu6FFve1Tfeumwjk5m/C4HAACgbhAQMUfR2wORgIh6FgoE9FOX96kpFNT9Lwxp2tu6BQAAAAsjIGKOqUxezkltDDFFnWttCukdl/cpnSvomz8aUq5Q9LskAACAmkdAxBwntrigBxENYHV7VLdc2qvDExk98tJhSSy8BAAAsBACIuaYSJWG4rVH6UFEYzi3p1U/fl639hyZUseb3+d3OQAAADWNgIg5ZnoQWwmIaCBXre/QpWvbFX/je/TX39/rdzkAAAA1i4CIOSbSObU2hRQKcGugcZiZ3rp5tZKvPKE//OZL+sbzh/wuCQAAoCaRAjDHZCqvNnoP0YACAdPR+/9I153TpQ9/+QV9Z9cRv0sCAACoOQREzDGRzqk9xgI1aFCFnP7yfVu0ubdNH/jbZ/XM/jG/KwIAAKgpBESc8PoeiPQgonG1RcP63C9s1Zr2Jt1531N6Zv+o3yUBAADUDAIiTpjK5lV0bHGBxtfT1qS/v+s69bQ16X2ffUpP7SUkAgAASAREzHJkIiNJ6mgmIKLx9cVj+uJd16k3HtWd9z2lH7x6zO+SAAAAfEdAxAm7RibVHAlqbTzmdylAZVhAZnbi6I3H9J3fu13jw6/pjk99V7Fzt8x5/uRjYP0Gvz8BAABARTHZrAbsOTKl8VRW0XBQsXBQsUhQa9qiCgSsajVkcgXtPTaty9bFq/q+QFW5ou59ZNcpzclsXl9/bkjB9/yhbtjco8vXdcx7+j03ba5wgQAAAP4iINaATz22R//43Nx92W66eI3+4ueukVl1wtruI1MqOKcLe9uq8n5ALWmOhPTua9bpwe3DemzXUSWSOf3Y+d0KVOn/fwAAALWCgFgDPnDDubrtqn6lsgWlcwU9d2BMn39ivx7aPqK3X9ZXlRpeHplUZ3NYq9uaqvJ+QK2JhAJ6xxVr9a+vHNNzBxMaT+V08yW9ioQYiQ8AAFYOAmINOH9Nm85f83rP3b+5vE9P7RvTf/2nl/SWzT1qjlT2f6ZgW48OJVJ64zmrqtZjCdSigJnesrlH8eawHn/lqL749AH91GV9WtXKP5wAAICVgX8arxED6zecWAgjHArqsT/+ZQ2Pp9X/tl9ccNGMciye0XLxWyRJmxleCkiSrhzo0O1X9SuTL+qLTx/UzuEJv0sCAACoCnoQa8TgwQOnLJ7xyEsj2vWm9+hXf+M/q6slsuD5Z7t4hnNOLZe8VX3xqOIxtrcAZgx0Nevfb12vB7eP6JGXDutQIiWLsMIvAABobPQg1rAfO69boWBA33nliJxzFXmPncOTivRsYHEaYB4tTSG966p+bdnQqR1DE1r7i5/WAy8OV+z/jwAAAH4jINaw5khIbzpnlQ6OprTr8GRF3uPrzx+SK+TmzIEE8LpAwHT9ed36d1sGVEyO64N/96x+/q+f1v7j036XBgAAUHYExBp32bq4+uJRPfryER2fypT12semMvr6c4eUenWbYuFgWa8NNJreeFTDn/8N/d6/uVjb9o3qxj/5ru758vPaNVKZf7wBAADwAwGxxgXMdOtlfQoHA/rmj4aVzhXKct2dwxO67c+/r/FUThNPf70s1wQanivqP/7YJn37wzfoZ6/boAdfHNHNf/q4/uPnntbjrxxVvlD0u0IAAIBlYZGaOtDaFNJPXdanrz47qId2jOjfXrF2WRt4P7JjRB/60vNqi4b0D7/yRl3x0R1lrBZoYBaYsxVMINqmtqt/St9KvkOPvnxEhekxTb/8PSV3Pq7MoZclzZ2ruG5gvQ4e2F/loutLvlDU4FhKzZGgVrdH/S4HAIAVh4BYJ9Z2xPSWC3r02K6jeuLV47r+vO4lX+P4VEb3fX+vPvWdV3V5f1yfed8WreEPMGDxXPGU1YalUqjZdzypXYdbtbft36r9mncoFg5qXWdMA53NWtcVU0csrA/ffKEPRde+H7x6TJ//wT69enRa+49PK1dwigQD+vWfPF+//OZzFAoy2AUAgGohINaRy/rjOjKZ0bb9Y5rO5HX1hk51n2EDb+ecnj2Q0N/+cL/++UfDyhaKuv2qfv1/77pMUeYdAmURCgZ03upWnbe6Vdl8Ua8dm9KB0aQOjqa0+8iUpNJIgFW3fkhffWZQbzx3ldZ2sGXGdCavjz/0sr7wxH6taW/S5es6dONFq3Vud6se23VEf/zwLj28Y0R//O4r2KcVAIAqqfuAaGa3SPpfkoKS/so59zGfS6oYM9MNm3sUDga0/dC4do5MakNXsy5fF1dkzbnafXhS0XBQE+mcnj2Q0DP7RrVt/5gGx1JqbQrpvVsH9LPXbWDFUqCCIqGALuxt14W97XLOKZHKaXA0pYNjSY2fe60+/A8vSJJ626O6cqBDV67v0OX9cZ27ulWr25rmDGFtFAPrN2jw4IE5bU3rLtGqWz+kUMcaTW67Xwce/xs9lZ+7EFfz5uv13E0f1E1/cly/9pMX6q63nKP2KPu1AgBQSXUdEM0sKOl/S3qbpEFJT5vZ/c65l/ytrHJCgYDeckGP3rCpSz86NK4XDib0zR8Nq+/n/5fe9onH57w2P3lcmUM7ld73nA7sfFw7sin9V5/qBlYiM1Nnc0SdzRFdti6uf/nPNyrcPaDo+ss03bdZB/dfoIc61554fTGbUm70kPKJERUmjyk/eUyFiaPKTx7T6taI9u18QcFA/QXIwYMHdO8ju5TOFbT7yJReHp7Q0Hha8VhYb7tojfp/8jel3/7Nec9NZvP60//z1/rzYEh/++R+ffCGc/W+N25kBAQAABVS1wFR0lZJe5xzr0mSmX1R0m2SGjYgzoiGg9q6sUtXD3RoaDytv/jdX9Gdv/+/lS84BQOm3nhU7dHzZHadpF9Y8Fr33LS5OkUDK50r6ON/9/CcplS2oKNTGY0ls0okcxrrW6Xx1EWaSueVL85d5OaC331Qa9qa1NcRU288qrXxqHrjMbU1hRSLBBULB9UUDihfdMrmi8oVikrniprO5DU1c6Tzms7kNZkp/XSu1OvZFAqoKRxUSySo9lhYbU0htUVDaouG1RYNqT0WVkskJDPJeWU5bxGemd/zxaIyuaLS+YLSuaISyZyOTmbU9bZf0defP6TB0ZQKzqmzOaw3nrtKV67rUCS08PzC5khIx/7pf+rRT/+u/viRXfofD7ys+763Tz958Wpt6GrRhlXNWr+qWc3hkIJBUyhgCgZe/xkMmAJmKjqnQtGp6KRi0angnIrOqVhU6XGx9PzM47z3u3NSIKDStez1a845zBQKBBQIaO5P779VrlhUvuCUL7gTj3OFovJFp3yhqFzBKV8squikcNDUFAooEgwqEgooHDRFQgFFQgGFArUxF9M5t/DzC5478xp3Stt8vzt5/5s5J1cs/SwdXh1WWu27dJT+USYwq81OPNaJ3xuxlx4AyqneA2K/pIOzfh+U9AafavFFKBjQ+q5mpfY8qQsYOgrUnVgkqPVdzVrf1Tyn3TmnTL6oyXQp2P31H/+uQq2rNN7WrdfauxVs61GwbZUC4YXnIc+5ZiGnYiYpl02p6B1yThYMy0Lh0s9ITIFoiwLh8i1g1XzRmzWZzuuydXFd2Nt2VkNpL1sX1xf+41b98LXj+rNHd+v+54c0kc6XrUasHDOh0bzHK03pkwOolisG4vqHX3mT32UsiZ3pXwJrmZm9R9LNzrlf9H7/OUlbnXO/dtLr7pJ0l/frZkmnLkPov25Jx/wuAisG9xuqifsN1cT9hmrifkM1lfN+2+Cc65nviXrvQRyUNDDr93WShk5+kXPuM5I+U62izoaZbXPObfG7DqwM3G+oJu43VBP3G6qJ+w3VVK37rTYmNJy9pyWdb2abzCwi6Q5J9/tcEwAAAADUpbruQXTO5c3sVyU9rNI2F/c553b4XBYAAAAA1KW6DoiS5Jx7QNIDftdRBjU9BBYNh/sN1cT9hmrifkM1cb+hmqpyv9X1IjUAAAAAgPKp9zmIAAAAAIAyISDWADO7xcx2mdkeM/ttv+tBYzGzfWb2opk9b2bbvLYuM/uWme32fnb6XSfql5ndZ2ZHzGz7rLbT3mNm9hHv+26Xmd3sT9WoR6e51/7AzA5533HPm9mts57jXsNZM7MBM3vMzHaa2Q4z+3Wvne83lN0C91vVv+MYYuozMwtKekXS21TatuNpSe91zr3ka2FoGGa2T9IW59yxWW1/JGnUOfcx7x8lOp1zv+VXjahvZvZmSVOSvuCcu9Rrm/ceM7OLJf29pK2S1kr6F0kXOOcKPpWPOnKae+0PJE055/7nSa/lXsOymFmfpD7n3LNm1ibpGUnvlPTz4vsNZbbA/fYzqvJ3HD2I/tsqaY9z7jXnXFbSFyXd5nNNaHy3Sfq89/jzKn0BAWfFOfe4pNGTmk93j90m6YvOuYxzbq+kPSp9DwJndJp77XS417Aszrlh59yz3uNJSTsl9YvvN1TAAvfb6VTsfiMg+q9f0sFZvw9q4ZsBWCon6REze8bM7vLa1jjnhqXSF5Kk1b5Vh0Z1unuM7zxUwq+a2Y+8Iagzw/2411A2ZrZR0lWSnhTfb6iwk+43qcrfcQRE/9k8bYz7RTld75y7WtLbJd3tDdEC/MJ3Hsrt05LOlXSlpGFJf+K1c6+hLMysVdJXJX3IOTex0EvnaeOew5LMc79V/TuOgOi/QUkDs35fJ2nIp1rQgJxzQ97PI5K+ptLwg8PeWPeZMe9H/KsQDep09xjfeSgr59xh51zBOVeU9Jd6fYgV9xqWzczCKv2x/nfOuX/0mvl+Q0XMd7/58R1HQPTf05LON7NNZhaRdIek+32uCQ3CzFq8ic4ysxZJN0nartI9dqf3sjslfcOfCtHATneP3S/pDjNrMrNNks6X9JQP9aFBzPyh7rldpe84iXsNy2RmJumzknY65+6d9RTfbyi7091vfnzHhcpxEZw951zezH5V0sOSgpLuc87t8LksNI41kr5W+s5RSNL/dc49ZGZPS/qymb1f0gFJ7/GxRtQ5M/t7STdI6jazQUm/L+ljmucec87tMLMvS3pJUl7S3azwh8U6zb12g5ldqdLQqn2SflniXkNZXC/p5yS9aGbPe22/I77fUBmnu9/eW+3vOLa5AAAAAABIYogpAAAAAMBDQAQAAAAASCIgAgAAAAA8BEQAAAAAgCQCIgAAAADAQ0AEAKDMzOx2M3NmdqHftQAAsBQERAAAyu+9kr4n6Q6/CwEAYCkIiAAAlJGZtaq04fH75QVEMwuY2afMbIeZ/ZOZPWBm7/aeu8bMvmtmz5jZw2bW52P5AIAVjoAIAEB5vVPSQ865VySNmtnVkt4laaOkyyT9oqQ3SpKZhSX9maR3O+eukXSfpI/6UDMAAJKkkN8FAADQYN4r6U+9x1/0fg9L+gfnXFHSiJk95j2/WdKlkr5lZpIUlDRc1WoBAJiFgAgAQJmY2SpJPyHpUjNzKgU+J+lrpztF0g7n3BurVCIAAAtiiCkAAOXzbklfcM5tcM5tdM4NSNor6Zikn/bmIq6RdIP3+l2SeszsxJBTM7vEj8IBAJAIiAAAlNN7dWpv4VclrZU0KGm7pL+Q9KSkcedcVqVQ+XEze0HS85LeVLVqAQA4iTnn/K4BAICGZ2atzrkpbxjqU5Kud86N+F0XAACzMQcRAIDq+Ccz65AUkfTfCIcAgFpEDyIAAAAAQBJzEAEAAAAAHgIiAAAAAEASAREAAAAA4CEgAgAAAAAkERABAAAAAB4CIgAAAABAkvT/A4R8t/Uvb/rvAAAAAElFTkSuQmCC\n",
>>>>>>> e96db08c3427dc07e479ba0bc04f228b2c13091b
      "text/plain": [
       "<Figure size 1080x576 with 1 Axes>"
      ]
     },
     "metadata": {
      "needs_background": "light"
     },
     "output_type": "display_data"
    }
   ],
   "source": [
    "fig, ax = plt.subplots(figsize=(15,8))\n",
    "sns.histplot(users_df.Age, bins=range(0, 245, 5), kde=True, color='teal')\n",
    "ax.set_xlabel('Age of Book Readers')\n",
    "ax.set_ylabel('Number of Users')\n",
    "ax.set_title('Age');\n",
    "# Observations:\n",
    "    # Most readers are below 50 years of age"
   ]
  },
  {
   "cell_type": "markdown",
   "metadata": {},
   "source": [
    "#### **Creating a complete dataframe by joining the 3 dataframes above:**"
   ]
  },
  {
   "cell_type": "markdown",
   "metadata": {},
   "source": [
    "The number of books and users we have so far is way too many. As we had observed earlier, the dataset has 270151 books and 92,106 unique users. The book ratings in the dataset are a combination of implicit and explicit. We observed earlier that the implicit ratings had a higher number of book than explicit which is understandable.This means that we might have users who registered to the website, viewed a few books but never read any of them or users who have read books but never rated them. This type of users cannot be relied on to in the creation of the recommender system. \n",
    "\n",
    "We will therefore only use explicit ratings(1-10)"
   ]
  },
  {
   "cell_type": "code",
   "execution_count": 16,
   "metadata": {},
   "outputs": [],
   "source": [
    "ratings_df = ratings_df[ratings_df['Book-Rating'] > 0]"
   ]
  },
  {
   "attachments": {},
   "cell_type": "markdown",
   "metadata": {},
   "source": [
    "#### **Joining ratings_df and users_df**"
   ]
  },
  {
   "cell_type": "code",
   "execution_count": 17,
   "metadata": {},
   "outputs": [
    {
     "name": "stdout",
     "output_type": "stream",
     "text": [
      "<class 'pandas.core.frame.DataFrame'>\n",
      "Int64Index: 383842 entries, 0 to 383841\n",
      "Data columns (total 10 columns):\n",
      " #   Column               Non-Null Count   Dtype \n",
      "---  ------               --------------   ----- \n",
      " 0   User-ID              383842 non-null  int64 \n",
      " 1   ISBN                 383842 non-null  object\n",
      " 2   Book-Rating          383842 non-null  int64 \n",
      " 3   Book-Title           383842 non-null  object\n",
      " 4   Book-Author          383841 non-null  object\n",
      " 5   Year-Of-Publication  383842 non-null  object\n",
      " 6   Publisher            383840 non-null  object\n",
      " 7   Image-URL-S          383842 non-null  object\n",
      " 8   Image-URL-M          383842 non-null  object\n",
      " 9   Image-URL-L          383841 non-null  object\n",
      "dtypes: int64(2), object(8)\n",
      "memory usage: 32.2+ MB\n",
      "None\n"
     ]
    },
    {
     "data": {
      "text/html": [
       "<div>\n",
       "<style scoped>\n",
       "    .dataframe tbody tr th:only-of-type {\n",
       "        vertical-align: middle;\n",
       "    }\n",
       "\n",
       "    .dataframe tbody tr th {\n",
       "        vertical-align: top;\n",
       "    }\n",
       "\n",
       "    .dataframe thead th {\n",
       "        text-align: right;\n",
       "    }\n",
       "</style>\n",
       "<table border=\"1\" class=\"dataframe\">\n",
       "  <thead>\n",
       "    <tr style=\"text-align: right;\">\n",
       "      <th></th>\n",
       "      <th>User-ID</th>\n",
       "      <th>ISBN</th>\n",
       "      <th>Book-Rating</th>\n",
       "      <th>Book-Title</th>\n",
       "      <th>Book-Author</th>\n",
       "      <th>Year-Of-Publication</th>\n",
       "      <th>Publisher</th>\n",
       "      <th>Image-URL-S</th>\n",
       "      <th>Image-URL-M</th>\n",
       "      <th>Image-URL-L</th>\n",
       "    </tr>\n",
       "  </thead>\n",
       "  <tbody>\n",
       "    <tr>\n",
       "      <th>0</th>\n",
       "      <td>276726</td>\n",
       "      <td>0155061224</td>\n",
       "      <td>5</td>\n",
       "      <td>Rites of Passage</td>\n",
       "      <td>Judith Rae</td>\n",
       "      <td>2001</td>\n",
       "      <td>Heinle</td>\n",
       "      <td>http://images.amazon.com/images/P/0155061224.0...</td>\n",
       "      <td>http://images.amazon.com/images/P/0155061224.0...</td>\n",
       "      <td>http://images.amazon.com/images/P/0155061224.0...</td>\n",
       "    </tr>\n",
       "    <tr>\n",
       "      <th>1</th>\n",
       "      <td>276729</td>\n",
       "      <td>052165615X</td>\n",
       "      <td>3</td>\n",
       "      <td>Help!: Level 1</td>\n",
       "      <td>Philip Prowse</td>\n",
       "      <td>1999</td>\n",
       "      <td>Cambridge University Press</td>\n",
       "      <td>http://images.amazon.com/images/P/052165615X.0...</td>\n",
       "      <td>http://images.amazon.com/images/P/052165615X.0...</td>\n",
       "      <td>http://images.amazon.com/images/P/052165615X.0...</td>\n",
       "    </tr>\n",
       "    <tr>\n",
       "      <th>2</th>\n",
       "      <td>276729</td>\n",
       "      <td>0521795028</td>\n",
       "      <td>6</td>\n",
       "      <td>The Amsterdam Connection : Level 4 (Cambridge ...</td>\n",
       "      <td>Sue Leather</td>\n",
       "      <td>2001</td>\n",
       "      <td>Cambridge University Press</td>\n",
       "      <td>http://images.amazon.com/images/P/0521795028.0...</td>\n",
       "      <td>http://images.amazon.com/images/P/0521795028.0...</td>\n",
       "      <td>http://images.amazon.com/images/P/0521795028.0...</td>\n",
       "    </tr>\n",
       "    <tr>\n",
       "      <th>3</th>\n",
       "      <td>276744</td>\n",
       "      <td>038550120X</td>\n",
       "      <td>7</td>\n",
       "      <td>A Painted House</td>\n",
       "      <td>JOHN GRISHAM</td>\n",
       "      <td>2001</td>\n",
       "      <td>Doubleday</td>\n",
       "      <td>http://images.amazon.com/images/P/038550120X.0...</td>\n",
       "      <td>http://images.amazon.com/images/P/038550120X.0...</td>\n",
       "      <td>http://images.amazon.com/images/P/038550120X.0...</td>\n",
       "    </tr>\n",
       "    <tr>\n",
       "      <th>4</th>\n",
       "      <td>11676</td>\n",
       "      <td>038550120X</td>\n",
       "      <td>10</td>\n",
       "      <td>A Painted House</td>\n",
       "      <td>JOHN GRISHAM</td>\n",
       "      <td>2001</td>\n",
       "      <td>Doubleday</td>\n",
       "      <td>http://images.amazon.com/images/P/038550120X.0...</td>\n",
       "      <td>http://images.amazon.com/images/P/038550120X.0...</td>\n",
       "      <td>http://images.amazon.com/images/P/038550120X.0...</td>\n",
       "    </tr>\n",
       "    <tr>\n",
       "      <th>...</th>\n",
       "      <td>...</td>\n",
       "      <td>...</td>\n",
       "      <td>...</td>\n",
       "      <td>...</td>\n",
       "      <td>...</td>\n",
       "      <td>...</td>\n",
       "      <td>...</td>\n",
       "      <td>...</td>\n",
       "      <td>...</td>\n",
       "      <td>...</td>\n",
       "    </tr>\n",
       "    <tr>\n",
       "      <th>383837</th>\n",
       "      <td>276688</td>\n",
       "      <td>0425156737</td>\n",
       "      <td>2</td>\n",
       "      <td>Graven Images</td>\n",
       "      <td>Jane Waterhouse</td>\n",
       "      <td>1997</td>\n",
       "      <td>Berkley Publishing Group</td>\n",
       "      <td>http://images.amazon.com/images/P/0425156737.0...</td>\n",
       "      <td>http://images.amazon.com/images/P/0425156737.0...</td>\n",
       "      <td>http://images.amazon.com/images/P/0425156737.0...</td>\n",
       "    </tr>\n",
       "    <tr>\n",
       "      <th>383838</th>\n",
       "      <td>276688</td>\n",
       "      <td>0671563149</td>\n",
       "      <td>6</td>\n",
       "      <td>MUDDY WATER (Peter Bartholomew Mysteries)</td>\n",
       "      <td>Sally Gunning</td>\n",
       "      <td>1997</td>\n",
       "      <td>Pocket</td>\n",
       "      <td>http://images.amazon.com/images/P/0671563149.0...</td>\n",
       "      <td>http://images.amazon.com/images/P/0671563149.0...</td>\n",
       "      <td>http://images.amazon.com/images/P/0671563149.0...</td>\n",
       "    </tr>\n",
       "    <tr>\n",
       "      <th>383839</th>\n",
       "      <td>276688</td>\n",
       "      <td>1575660792</td>\n",
       "      <td>7</td>\n",
       "      <td>Gray Matter</td>\n",
       "      <td>Shirley Kennett</td>\n",
       "      <td>1996</td>\n",
       "      <td>Kensington Publishing Corporation</td>\n",
       "      <td>http://images.amazon.com/images/P/1575660792.0...</td>\n",
       "      <td>http://images.amazon.com/images/P/1575660792.0...</td>\n",
       "      <td>http://images.amazon.com/images/P/1575660792.0...</td>\n",
       "    </tr>\n",
       "    <tr>\n",
       "      <th>383840</th>\n",
       "      <td>276704</td>\n",
       "      <td>0380796155</td>\n",
       "      <td>5</td>\n",
       "      <td>White Abacus</td>\n",
       "      <td>Damien Broderick</td>\n",
       "      <td>1998</td>\n",
       "      <td>Eos</td>\n",
       "      <td>http://images.amazon.com/images/P/0380796155.0...</td>\n",
       "      <td>http://images.amazon.com/images/P/0380796155.0...</td>\n",
       "      <td>http://images.amazon.com/images/P/0380796155.0...</td>\n",
       "    </tr>\n",
       "    <tr>\n",
       "      <th>383841</th>\n",
       "      <td>276704</td>\n",
       "      <td>0806917695</td>\n",
       "      <td>5</td>\n",
       "      <td>Perplexing Lateral Thinking Puzzles: Scholasti...</td>\n",
       "      <td>Paul Sloane</td>\n",
       "      <td>1997</td>\n",
       "      <td>Sterling Publishing</td>\n",
       "      <td>http://images.amazon.com/images/P/0806917695.0...</td>\n",
       "      <td>http://images.amazon.com/images/P/0806917695.0...</td>\n",
       "      <td>http://images.amazon.com/images/P/0806917695.0...</td>\n",
       "    </tr>\n",
       "  </tbody>\n",
       "</table>\n",
       "<p>383842 rows × 10 columns</p>\n",
       "</div>"
      ],
      "text/plain": [
       "        User-ID        ISBN  Book-Rating  \\\n",
       "0        276726  0155061224            5   \n",
       "1        276729  052165615X            3   \n",
       "2        276729  0521795028            6   \n",
       "3        276744  038550120X            7   \n",
       "4         11676  038550120X           10   \n",
       "...         ...         ...          ...   \n",
       "383837   276688  0425156737            2   \n",
       "383838   276688  0671563149            6   \n",
       "383839   276688  1575660792            7   \n",
       "383840   276704  0380796155            5   \n",
       "383841   276704  0806917695            5   \n",
       "\n",
       "                                               Book-Title       Book-Author  \\\n",
       "0                                        Rites of Passage        Judith Rae   \n",
       "1                                          Help!: Level 1     Philip Prowse   \n",
       "2       The Amsterdam Connection : Level 4 (Cambridge ...       Sue Leather   \n",
       "3                                         A Painted House      JOHN GRISHAM   \n",
       "4                                         A Painted House      JOHN GRISHAM   \n",
       "...                                                   ...               ...   \n",
       "383837                                      Graven Images   Jane Waterhouse   \n",
       "383838          MUDDY WATER (Peter Bartholomew Mysteries)     Sally Gunning   \n",
       "383839                                        Gray Matter   Shirley Kennett   \n",
       "383840                                       White Abacus  Damien Broderick   \n",
       "383841  Perplexing Lateral Thinking Puzzles: Scholasti...       Paul Sloane   \n",
       "\n",
       "       Year-Of-Publication                          Publisher  \\\n",
       "0                     2001                             Heinle   \n",
       "1                     1999         Cambridge University Press   \n",
       "2                     2001         Cambridge University Press   \n",
       "3                     2001                          Doubleday   \n",
       "4                     2001                          Doubleday   \n",
       "...                    ...                                ...   \n",
       "383837                1997           Berkley Publishing Group   \n",
       "383838                1997                             Pocket   \n",
       "383839                1996  Kensington Publishing Corporation   \n",
       "383840                1998                                Eos   \n",
       "383841                1997                Sterling Publishing   \n",
       "\n",
       "                                              Image-URL-S  \\\n",
       "0       http://images.amazon.com/images/P/0155061224.0...   \n",
       "1       http://images.amazon.com/images/P/052165615X.0...   \n",
       "2       http://images.amazon.com/images/P/0521795028.0...   \n",
       "3       http://images.amazon.com/images/P/038550120X.0...   \n",
       "4       http://images.amazon.com/images/P/038550120X.0...   \n",
       "...                                                   ...   \n",
       "383837  http://images.amazon.com/images/P/0425156737.0...   \n",
       "383838  http://images.amazon.com/images/P/0671563149.0...   \n",
       "383839  http://images.amazon.com/images/P/1575660792.0...   \n",
       "383840  http://images.amazon.com/images/P/0380796155.0...   \n",
       "383841  http://images.amazon.com/images/P/0806917695.0...   \n",
       "\n",
       "                                              Image-URL-M  \\\n",
       "0       http://images.amazon.com/images/P/0155061224.0...   \n",
       "1       http://images.amazon.com/images/P/052165615X.0...   \n",
       "2       http://images.amazon.com/images/P/0521795028.0...   \n",
       "3       http://images.amazon.com/images/P/038550120X.0...   \n",
       "4       http://images.amazon.com/images/P/038550120X.0...   \n",
       "...                                                   ...   \n",
       "383837  http://images.amazon.com/images/P/0425156737.0...   \n",
       "383838  http://images.amazon.com/images/P/0671563149.0...   \n",
       "383839  http://images.amazon.com/images/P/1575660792.0...   \n",
       "383840  http://images.amazon.com/images/P/0380796155.0...   \n",
       "383841  http://images.amazon.com/images/P/0806917695.0...   \n",
       "\n",
       "                                              Image-URL-L  \n",
       "0       http://images.amazon.com/images/P/0155061224.0...  \n",
       "1       http://images.amazon.com/images/P/052165615X.0...  \n",
       "2       http://images.amazon.com/images/P/0521795028.0...  \n",
       "3       http://images.amazon.com/images/P/038550120X.0...  \n",
       "4       http://images.amazon.com/images/P/038550120X.0...  \n",
       "...                                                   ...  \n",
       "383837  http://images.amazon.com/images/P/0425156737.0...  \n",
       "383838  http://images.amazon.com/images/P/0671563149.0...  \n",
       "383839  http://images.amazon.com/images/P/1575660792.0...  \n",
       "383840  http://images.amazon.com/images/P/0380796155.0...  \n",
       "383841  http://images.amazon.com/images/P/0806917695.0...  \n",
       "\n",
       "[383842 rows x 10 columns]"
      ]
     },
     "execution_count": 17,
     "metadata": {},
     "output_type": "execute_result"
    }
   ],
   "source": [
    "ratings_books = pd.merge(ratings_df, books_df,on='ISBN', how='inner')\n",
    "print(ratings_books.info())\n",
    "ratings_books"
   ]
  },
  {
   "cell_type": "markdown",
   "metadata": {},
   "source": [
    "#### **Joining ratings_books and users_df**"
   ]
  },
  {
   "cell_type": "code",
   "execution_count": 18,
   "metadata": {},
   "outputs": [
    {
     "name": "stdout",
     "output_type": "stream",
     "text": [
      "<class 'pandas.core.frame.DataFrame'>\n",
      "Int64Index: 383842 entries, 0 to 383841\n",
      "Data columns (total 12 columns):\n",
      " #   Column               Non-Null Count   Dtype  \n",
      "---  ------               --------------   -----  \n",
      " 0   User-ID              383842 non-null  int64  \n",
      " 1   ISBN                 383842 non-null  object \n",
      " 2   Book-Rating          383842 non-null  int64  \n",
      " 3   Book-Title           383842 non-null  object \n",
      " 4   Book-Author          383841 non-null  object \n",
      " 5   Year-Of-Publication  383842 non-null  object \n",
      " 6   Publisher            383840 non-null  object \n",
      " 7   Image-URL-S          383842 non-null  object \n",
      " 8   Image-URL-M          383842 non-null  object \n",
      " 9   Image-URL-L          383841 non-null  object \n",
      " 10  Location             383842 non-null  object \n",
      " 11  Age                  269621 non-null  float64\n",
      "dtypes: float64(1), int64(2), object(9)\n",
      "memory usage: 38.1+ MB\n",
      "None\n"
     ]
    },
    {
     "data": {
      "text/html": [
       "<div>\n",
       "<style scoped>\n",
       "    .dataframe tbody tr th:only-of-type {\n",
       "        vertical-align: middle;\n",
       "    }\n",
       "\n",
       "    .dataframe tbody tr th {\n",
       "        vertical-align: top;\n",
       "    }\n",
       "\n",
       "    .dataframe thead th {\n",
       "        text-align: right;\n",
       "    }\n",
       "</style>\n",
       "<table border=\"1\" class=\"dataframe\">\n",
       "  <thead>\n",
       "    <tr style=\"text-align: right;\">\n",
       "      <th></th>\n",
       "      <th>User-ID</th>\n",
       "      <th>ISBN</th>\n",
       "      <th>Book-Rating</th>\n",
       "      <th>Book-Title</th>\n",
       "      <th>Book-Author</th>\n",
       "      <th>Year-Of-Publication</th>\n",
       "      <th>Publisher</th>\n",
       "      <th>Image-URL-S</th>\n",
       "      <th>Image-URL-M</th>\n",
       "      <th>Image-URL-L</th>\n",
       "      <th>Location</th>\n",
       "      <th>Age</th>\n",
       "    </tr>\n",
       "  </thead>\n",
       "  <tbody>\n",
       "    <tr>\n",
       "      <th>0</th>\n",
       "      <td>276726</td>\n",
       "      <td>0155061224</td>\n",
       "      <td>5</td>\n",
       "      <td>Rites of Passage</td>\n",
       "      <td>Judith Rae</td>\n",
       "      <td>2001</td>\n",
       "      <td>Heinle</td>\n",
       "      <td>http://images.amazon.com/images/P/0155061224.0...</td>\n",
       "      <td>http://images.amazon.com/images/P/0155061224.0...</td>\n",
       "      <td>http://images.amazon.com/images/P/0155061224.0...</td>\n",
       "      <td>seattle, washington, usa</td>\n",
       "      <td>NaN</td>\n",
       "    </tr>\n",
       "    <tr>\n",
       "      <th>1</th>\n",
       "      <td>276729</td>\n",
       "      <td>052165615X</td>\n",
       "      <td>3</td>\n",
       "      <td>Help!: Level 1</td>\n",
       "      <td>Philip Prowse</td>\n",
       "      <td>1999</td>\n",
       "      <td>Cambridge University Press</td>\n",
       "      <td>http://images.amazon.com/images/P/052165615X.0...</td>\n",
       "      <td>http://images.amazon.com/images/P/052165615X.0...</td>\n",
       "      <td>http://images.amazon.com/images/P/052165615X.0...</td>\n",
       "      <td>rijeka, n/a, croatia</td>\n",
       "      <td>16.0</td>\n",
       "    </tr>\n",
       "    <tr>\n",
       "      <th>2</th>\n",
       "      <td>276729</td>\n",
       "      <td>0521795028</td>\n",
       "      <td>6</td>\n",
       "      <td>The Amsterdam Connection : Level 4 (Cambridge ...</td>\n",
       "      <td>Sue Leather</td>\n",
       "      <td>2001</td>\n",
       "      <td>Cambridge University Press</td>\n",
       "      <td>http://images.amazon.com/images/P/0521795028.0...</td>\n",
       "      <td>http://images.amazon.com/images/P/0521795028.0...</td>\n",
       "      <td>http://images.amazon.com/images/P/0521795028.0...</td>\n",
       "      <td>rijeka, n/a, croatia</td>\n",
       "      <td>16.0</td>\n",
       "    </tr>\n",
       "    <tr>\n",
       "      <th>3</th>\n",
       "      <td>276744</td>\n",
       "      <td>038550120X</td>\n",
       "      <td>7</td>\n",
       "      <td>A Painted House</td>\n",
       "      <td>JOHN GRISHAM</td>\n",
       "      <td>2001</td>\n",
       "      <td>Doubleday</td>\n",
       "      <td>http://images.amazon.com/images/P/038550120X.0...</td>\n",
       "      <td>http://images.amazon.com/images/P/038550120X.0...</td>\n",
       "      <td>http://images.amazon.com/images/P/038550120X.0...</td>\n",
       "      <td>torrance, california, usa</td>\n",
       "      <td>NaN</td>\n",
       "    </tr>\n",
       "    <tr>\n",
       "      <th>4</th>\n",
       "      <td>11676</td>\n",
       "      <td>038550120X</td>\n",
       "      <td>10</td>\n",
       "      <td>A Painted House</td>\n",
       "      <td>JOHN GRISHAM</td>\n",
       "      <td>2001</td>\n",
       "      <td>Doubleday</td>\n",
       "      <td>http://images.amazon.com/images/P/038550120X.0...</td>\n",
       "      <td>http://images.amazon.com/images/P/038550120X.0...</td>\n",
       "      <td>http://images.amazon.com/images/P/038550120X.0...</td>\n",
       "      <td>n/a, n/a, n/a</td>\n",
       "      <td>NaN</td>\n",
       "    </tr>\n",
       "    <tr>\n",
       "      <th>...</th>\n",
       "      <td>...</td>\n",
       "      <td>...</td>\n",
       "      <td>...</td>\n",
       "      <td>...</td>\n",
       "      <td>...</td>\n",
       "      <td>...</td>\n",
       "      <td>...</td>\n",
       "      <td>...</td>\n",
       "      <td>...</td>\n",
       "      <td>...</td>\n",
       "      <td>...</td>\n",
       "      <td>...</td>\n",
       "    </tr>\n",
       "    <tr>\n",
       "      <th>383837</th>\n",
       "      <td>276660</td>\n",
       "      <td>0583307841</td>\n",
       "      <td>8</td>\n",
       "      <td>ROBOT RACE (MICRO ADV 6)</td>\n",
       "      <td>David Antony Kroft</td>\n",
       "      <td>1985</td>\n",
       "      <td>HarperCollins Publishers</td>\n",
       "      <td>http://images.amazon.com/images/P/0583307841.0...</td>\n",
       "      <td>http://images.amazon.com/images/P/0583307841.0...</td>\n",
       "      <td>http://images.amazon.com/images/P/0583307841.0...</td>\n",
       "      <td>singapore, n/a, singapore</td>\n",
       "      <td>15.0</td>\n",
       "    </tr>\n",
       "    <tr>\n",
       "      <th>383838</th>\n",
       "      <td>276664</td>\n",
       "      <td>0004703723</td>\n",
       "      <td>9</td>\n",
       "      <td>Dictionary Of Economics-2Nd Ed</td>\n",
       "      <td>Christopher Pass</td>\n",
       "      <td>1991</td>\n",
       "      <td>Trafalgar Square</td>\n",
       "      <td>http://images.amazon.com/images/P/0004703723.0...</td>\n",
       "      <td>http://images.amazon.com/images/P/0004703723.0...</td>\n",
       "      <td>http://images.amazon.com/images/P/0004703723.0...</td>\n",
       "      <td>daventry, england, united kingdom</td>\n",
       "      <td>31.0</td>\n",
       "    </tr>\n",
       "    <tr>\n",
       "      <th>383839</th>\n",
       "      <td>276664</td>\n",
       "      <td>0140136908</td>\n",
       "      <td>7</td>\n",
       "      <td>History of Economic Thought (Penguin Economics)</td>\n",
       "      <td>William J. Barber</td>\n",
       "      <td>1992</td>\n",
       "      <td>Penguin USA</td>\n",
       "      <td>http://images.amazon.com/images/P/0140136908.0...</td>\n",
       "      <td>http://images.amazon.com/images/P/0140136908.0...</td>\n",
       "      <td>http://images.amazon.com/images/P/0140136908.0...</td>\n",
       "      <td>daventry, england, united kingdom</td>\n",
       "      <td>31.0</td>\n",
       "    </tr>\n",
       "    <tr>\n",
       "      <th>383840</th>\n",
       "      <td>276664</td>\n",
       "      <td>0631189629</td>\n",
       "      <td>9</td>\n",
       "      <td>British Social Policy Since 1945 (Making Conte...</td>\n",
       "      <td>Howard Glennerster</td>\n",
       "      <td>1996</td>\n",
       "      <td>Blackwell Publishers</td>\n",
       "      <td>http://images.amazon.com/images/P/0631189629.0...</td>\n",
       "      <td>http://images.amazon.com/images/P/0631189629.0...</td>\n",
       "      <td>http://images.amazon.com/images/P/0631189629.0...</td>\n",
       "      <td>daventry, england, united kingdom</td>\n",
       "      <td>31.0</td>\n",
       "    </tr>\n",
       "    <tr>\n",
       "      <th>383841</th>\n",
       "      <td>276664</td>\n",
       "      <td>0747205051</td>\n",
       "      <td>7</td>\n",
       "      <td>Murderous Women: True Talesof W</td>\n",
       "      <td>Frank Jones</td>\n",
       "      <td>1992</td>\n",
       "      <td>Headline</td>\n",
       "      <td>http://images.amazon.com/images/P/0747205051.0...</td>\n",
       "      <td>http://images.amazon.com/images/P/0747205051.0...</td>\n",
       "      <td>http://images.amazon.com/images/P/0747205051.0...</td>\n",
       "      <td>daventry, england, united kingdom</td>\n",
       "      <td>31.0</td>\n",
       "    </tr>\n",
       "  </tbody>\n",
       "</table>\n",
       "<p>383842 rows × 12 columns</p>\n",
       "</div>"
      ],
      "text/plain": [
       "        User-ID        ISBN  Book-Rating  \\\n",
       "0        276726  0155061224            5   \n",
       "1        276729  052165615X            3   \n",
       "2        276729  0521795028            6   \n",
       "3        276744  038550120X            7   \n",
       "4         11676  038550120X           10   \n",
       "...         ...         ...          ...   \n",
       "383837   276660  0583307841            8   \n",
       "383838   276664  0004703723            9   \n",
       "383839   276664  0140136908            7   \n",
       "383840   276664  0631189629            9   \n",
       "383841   276664  0747205051            7   \n",
       "\n",
       "                                               Book-Title         Book-Author  \\\n",
       "0                                        Rites of Passage          Judith Rae   \n",
       "1                                          Help!: Level 1       Philip Prowse   \n",
       "2       The Amsterdam Connection : Level 4 (Cambridge ...         Sue Leather   \n",
       "3                                         A Painted House        JOHN GRISHAM   \n",
       "4                                         A Painted House        JOHN GRISHAM   \n",
       "...                                                   ...                 ...   \n",
       "383837                           ROBOT RACE (MICRO ADV 6)  David Antony Kroft   \n",
       "383838                     Dictionary Of Economics-2Nd Ed    Christopher Pass   \n",
       "383839    History of Economic Thought (Penguin Economics)   William J. Barber   \n",
       "383840  British Social Policy Since 1945 (Making Conte...  Howard Glennerster   \n",
       "383841                    Murderous Women: True Talesof W         Frank Jones   \n",
       "\n",
       "       Year-Of-Publication                   Publisher  \\\n",
       "0                     2001                      Heinle   \n",
       "1                     1999  Cambridge University Press   \n",
       "2                     2001  Cambridge University Press   \n",
       "3                     2001                   Doubleday   \n",
       "4                     2001                   Doubleday   \n",
       "...                    ...                         ...   \n",
       "383837                1985    HarperCollins Publishers   \n",
       "383838                1991            Trafalgar Square   \n",
       "383839                1992                 Penguin USA   \n",
       "383840                1996        Blackwell Publishers   \n",
       "383841                1992                    Headline   \n",
       "\n",
       "                                              Image-URL-S  \\\n",
       "0       http://images.amazon.com/images/P/0155061224.0...   \n",
       "1       http://images.amazon.com/images/P/052165615X.0...   \n",
       "2       http://images.amazon.com/images/P/0521795028.0...   \n",
       "3       http://images.amazon.com/images/P/038550120X.0...   \n",
       "4       http://images.amazon.com/images/P/038550120X.0...   \n",
       "...                                                   ...   \n",
       "383837  http://images.amazon.com/images/P/0583307841.0...   \n",
       "383838  http://images.amazon.com/images/P/0004703723.0...   \n",
       "383839  http://images.amazon.com/images/P/0140136908.0...   \n",
       "383840  http://images.amazon.com/images/P/0631189629.0...   \n",
       "383841  http://images.amazon.com/images/P/0747205051.0...   \n",
       "\n",
       "                                              Image-URL-M  \\\n",
       "0       http://images.amazon.com/images/P/0155061224.0...   \n",
       "1       http://images.amazon.com/images/P/052165615X.0...   \n",
       "2       http://images.amazon.com/images/P/0521795028.0...   \n",
       "3       http://images.amazon.com/images/P/038550120X.0...   \n",
       "4       http://images.amazon.com/images/P/038550120X.0...   \n",
       "...                                                   ...   \n",
       "383837  http://images.amazon.com/images/P/0583307841.0...   \n",
       "383838  http://images.amazon.com/images/P/0004703723.0...   \n",
       "383839  http://images.amazon.com/images/P/0140136908.0...   \n",
       "383840  http://images.amazon.com/images/P/0631189629.0...   \n",
       "383841  http://images.amazon.com/images/P/0747205051.0...   \n",
       "\n",
       "                                              Image-URL-L  \\\n",
       "0       http://images.amazon.com/images/P/0155061224.0...   \n",
       "1       http://images.amazon.com/images/P/052165615X.0...   \n",
       "2       http://images.amazon.com/images/P/0521795028.0...   \n",
       "3       http://images.amazon.com/images/P/038550120X.0...   \n",
       "4       http://images.amazon.com/images/P/038550120X.0...   \n",
       "...                                                   ...   \n",
       "383837  http://images.amazon.com/images/P/0583307841.0...   \n",
       "383838  http://images.amazon.com/images/P/0004703723.0...   \n",
       "383839  http://images.amazon.com/images/P/0140136908.0...   \n",
       "383840  http://images.amazon.com/images/P/0631189629.0...   \n",
       "383841  http://images.amazon.com/images/P/0747205051.0...   \n",
       "\n",
       "                                 Location   Age  \n",
       "0                seattle, washington, usa   NaN  \n",
       "1                    rijeka, n/a, croatia  16.0  \n",
       "2                    rijeka, n/a, croatia  16.0  \n",
       "3               torrance, california, usa   NaN  \n",
       "4                           n/a, n/a, n/a   NaN  \n",
       "...                                   ...   ...  \n",
       "383837          singapore, n/a, singapore  15.0  \n",
       "383838  daventry, england, united kingdom  31.0  \n",
       "383839  daventry, england, united kingdom  31.0  \n",
       "383840  daventry, england, united kingdom  31.0  \n",
       "383841  daventry, england, united kingdom  31.0  \n",
       "\n",
       "[383842 rows x 12 columns]"
      ]
     },
     "execution_count": 18,
     "metadata": {},
     "output_type": "execute_result"
    }
   ],
   "source": [
    "complete_df = pd.merge(ratings_books, users_df, on='User-ID', how='inner')\n",
    "print(complete_df.info())\n",
    "complete_df"
   ]
  },
  {
   "cell_type": "markdown",
   "metadata": {},
   "source": [
    "> **Performing analysis on _complete df_**"
   ]
  },
  {
   "cell_type": "markdown",
   "metadata": {},
   "source": [
    "**1. Check the number of unique books in the dataframe**"
   ]
  },
  {
   "cell_type": "code",
   "execution_count": 19,
   "metadata": {},
   "outputs": [
    {
     "data": {
      "text/plain": [
       "149836"
      ]
     },
     "execution_count": 19,
     "metadata": {},
     "output_type": "execute_result"
    }
   ],
   "source": [
    "complete_df['ISBN'].nunique()\n",
    "\n",
    "# Observations:\n",
    "    # There are 149,836 unique books in the dataset."
   ]
  },
  {
   "cell_type": "markdown",
   "metadata": {},
   "source": [
    "**2. Checking the years the books were published**"
   ]
  },
  {
   "cell_type": "code",
   "execution_count": 20,
   "metadata": {},
   "outputs": [
    {
     "data": {
      "text/plain": [
       "array(['seattle, washington, usa', 'rijeka, n/a, croatia',\n",
       "       'torrance, california, usa', ..., 'dublin, county dublin, ireland',\n",
       "       'wilkes-barre area, pennsylvania, usa',\n",
       "       'stuttgart, \\\\n/a\\\\\"., germany\"'], dtype=object)"
      ]
     },
     "execution_count": 20,
     "metadata": {},
     "output_type": "execute_result"
    }
   ],
   "source": [
    "complete_df['Location'].unique()\n",
    "\n",
    "# Observations:\n",
    "    # The locations are represented by city name, state name and country. This can be narrowed down to just country"
   ]
  },
  {
   "cell_type": "markdown",
   "metadata": {},
   "source": [
    "**3. Checking the number of authors in the dataframe**"
   ]
  },
  {
   "cell_type": "code",
   "execution_count": 21,
   "metadata": {},
   "outputs": [
    {
     "data": {
      "text/plain": [
       "62113"
      ]
     },
     "execution_count": 21,
     "metadata": {},
     "output_type": "execute_result"
    }
   ],
   "source": [
    "complete_df['Book-Author'].nunique()\n",
    "\n",
    "# There are 62,113 book authors in the dataset. "
   ]
  },
  {
   "cell_type": "markdown",
   "metadata": {},
   "source": [
    "**4. Checking for author popularity to determine**"
   ]
  },
  {
   "cell_type": "code",
   "execution_count": 22,
   "metadata": {},
   "outputs": [
    {
     "data": {
<<<<<<< HEAD
      "image/png": "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",
=======
      "image/png": "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\n",
>>>>>>> e96db08c3427dc07e479ba0bc04f228b2c13091b
      "text/plain": [
       "<Figure size 1080x432 with 1 Axes>"
      ]
     },
     "metadata": {
      "needs_background": "light"
     },
     "output_type": "display_data"
    }
   ],
   "source": [
    "fig, ax = plt.subplots(figsize=(15,6))\n",
    "sns.barplot(x=complete_df['Book-Author'].value_counts()[:10].values, \n",
    "            y=complete_df['Book-Author'].value_counts()[:10].index,\n",
    "            orient='h',\n",
    "            palette='viridis',\n",
    "            ax=ax\n",
    "            )\n",
    "ax.set_title(\"Top 10 Authors\");\n",
    "\n",
    "# Observations:\n",
    "    # Stephen King is the most popular author with 10,000 copies sold"
   ]
  },
  {
   "cell_type": "markdown",
   "metadata": {},
   "source": [
    "**5. Checking for the most popular books**"
   ]
  },
  {
   "cell_type": "code",
   "execution_count": 23,
   "metadata": {},
   "outputs": [
    {
     "data": {
<<<<<<< HEAD
      "image/png": "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",
=======
      "image/png": "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\n",
>>>>>>> e96db08c3427dc07e479ba0bc04f228b2c13091b
      "text/plain": [
       "<Figure size 1080x432 with 1 Axes>"
      ]
     },
     "metadata": {
      "needs_background": "light"
     },
     "output_type": "display_data"
    }
   ],
   "source": [
    "fig, ax = plt.subplots(figsize=(15,6))\n",
    "sns.barplot(x=complete_df['Book-Title'].value_counts()[:10].values, \n",
    "            y=complete_df['Book-Title'].value_counts()[:10].index,\n",
    "            orient='h',\n",
    "            palette='viridis',\n",
    "            ax=ax\n",
    "            )\n",
    "ax.set_title(\"Top 10 books\");\n",
    "\n",
    "# Observations:\n",
    "    # Wild Animus is the most popular book with 2500 copies sold."
   ]
  },
  {
   "cell_type": "markdown",
   "metadata": {},
   "source": [
    "**6. Average rating per book**"
   ]
  },
  {
   "cell_type": "code",
   "execution_count": 24,
   "metadata": {},
   "outputs": [
    {
     "data": {
      "text/html": [
       "<div>\n",
       "<style scoped>\n",
       "    .dataframe tbody tr th:only-of-type {\n",
       "        vertical-align: middle;\n",
       "    }\n",
       "\n",
       "    .dataframe tbody tr th {\n",
       "        vertical-align: top;\n",
       "    }\n",
       "\n",
       "    .dataframe thead th {\n",
       "        text-align: right;\n",
       "    }\n",
       "</style>\n",
       "<table border=\"1\" class=\"dataframe\">\n",
       "  <thead>\n",
       "    <tr style=\"text-align: right;\">\n",
       "      <th></th>\n",
       "      <th>Book-Rating</th>\n",
       "      <th>RatingCount</th>\n",
       "    </tr>\n",
       "    <tr>\n",
       "      <th>Book-Title</th>\n",
       "      <th></th>\n",
       "      <th></th>\n",
       "    </tr>\n",
       "  </thead>\n",
       "  <tbody>\n",
       "    <tr>\n",
       "      <th>The Lovely Bones: A Novel</th>\n",
       "      <td>8.185290</td>\n",
       "      <td>707</td>\n",
       "    </tr>\n",
       "    <tr>\n",
       "      <th>Wild Animus</th>\n",
       "      <td>4.390706</td>\n",
       "      <td>581</td>\n",
       "    </tr>\n",
       "    <tr>\n",
       "      <th>The Da Vinci Code</th>\n",
       "      <td>8.439271</td>\n",
       "      <td>494</td>\n",
       "    </tr>\n",
       "    <tr>\n",
       "      <th>The Secret Life of Bees</th>\n",
       "      <td>8.477833</td>\n",
       "      <td>406</td>\n",
       "    </tr>\n",
       "    <tr>\n",
       "      <th>The Nanny Diaries: A Novel</th>\n",
       "      <td>7.437659</td>\n",
       "      <td>393</td>\n",
       "    </tr>\n",
       "    <tr>\n",
       "      <th>The Red Tent (Bestselling Backlist)</th>\n",
       "      <td>8.182768</td>\n",
       "      <td>383</td>\n",
       "    </tr>\n",
       "    <tr>\n",
       "      <th>Bridget Jones's Diary</th>\n",
       "      <td>7.625995</td>\n",
       "      <td>377</td>\n",
       "    </tr>\n",
       "    <tr>\n",
       "      <th>A Painted House</th>\n",
       "      <td>7.398907</td>\n",
       "      <td>366</td>\n",
       "    </tr>\n",
       "    <tr>\n",
       "      <th>Life of Pi</th>\n",
       "      <td>8.080357</td>\n",
       "      <td>336</td>\n",
       "    </tr>\n",
       "    <tr>\n",
       "      <th>Harry Potter and the Chamber of Secrets (Book 2)</th>\n",
       "      <td>8.840491</td>\n",
       "      <td>326</td>\n",
       "    </tr>\n",
       "  </tbody>\n",
       "</table>\n",
       "</div>"
      ],
      "text/plain": [
       "                                                  Book-Rating  RatingCount\n",
       "Book-Title                                                                \n",
       "The Lovely Bones: A Novel                            8.185290          707\n",
       "Wild Animus                                          4.390706          581\n",
       "The Da Vinci Code                                    8.439271          494\n",
       "The Secret Life of Bees                              8.477833          406\n",
       "The Nanny Diaries: A Novel                           7.437659          393\n",
       "The Red Tent (Bestselling Backlist)                  8.182768          383\n",
       "Bridget Jones's Diary                                7.625995          377\n",
       "A Painted House                                      7.398907          366\n",
       "Life of Pi                                           8.080357          336\n",
       "Harry Potter and the Chamber of Secrets (Book 2)     8.840491          326"
      ]
     },
     "execution_count": 24,
     "metadata": {},
     "output_type": "execute_result"
    }
   ],
   "source": [
    "average_rating = pd.DataFrame(complete_df.groupby('Book-Title')['Book-Rating'].mean())\n",
    "average_rating['RatingCount'] = pd.DataFrame(complete_df.groupby('Book-Title')['Book-Rating'].count())\n",
    "average_rating.sort_values('RatingCount', ascending=False).head(10)\n",
    "# Observations:\n",
    "    # A high number of users rating the book and does not equate to a high rating\n",
    "    # For instance the first book has many users who have rated it but it has a low rating 0f 1.01"
   ]
  },
  {
   "cell_type": "markdown",
   "metadata": {},
   "source": [
    "**7. Checking for book publishers in the dataset**"
   ]
  },
  {
   "cell_type": "code",
   "execution_count": 25,
   "metadata": {},
   "outputs": [
    {
     "data": {
      "text/plain": [
       "11575"
      ]
     },
     "execution_count": 25,
     "metadata": {},
     "output_type": "execute_result"
    }
   ],
   "source": [
    "complete_df['Publisher'].nunique()\n",
    "\n",
    "# Observations:\n",
    "    # There are 11,575 publishers highlighted in the dataset"
   ]
  },
  {
   "cell_type": "code",
   "execution_count": 26,
   "metadata": {},
   "outputs": [
    {
     "data": {
<<<<<<< HEAD
      "image/png": "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",
=======
      "image/png": "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\n",
>>>>>>> e96db08c3427dc07e479ba0bc04f228b2c13091b
      "text/plain": [
       "<Figure size 1080x432 with 1 Axes>"
      ]
     },
     "metadata": {
      "needs_background": "light"
     },
     "output_type": "display_data"
    }
   ],
   "source": [
    "fig, ax = plt.subplots(figsize=(15,6))\n",
    "sns.barplot(x=complete_df['Publisher'].value_counts()[:10].values, \n",
    "            y=complete_df['Publisher'].value_counts()[:10].index,\n",
    "            orient='h',\n",
    "            palette='viridis',\n",
    "            ax=ax\n",
    "            )\n",
    "ax.set_title(\"Top 10 books\");\n",
    "\n",
    "# Observations:\n",
    "    # The most popular publisher has sold about 35000 copies"
   ]
  },
  {
   "cell_type": "markdown",
   "metadata": {},
   "source": [
    "# **Data Preparation**"
   ]
  },
  {
   "cell_type": "markdown",
   "metadata": {},
   "source": [
    "**i. Removing irrevelant columns**"
   ]
  },
  {
   "cell_type": "markdown",
   "metadata": {},
   "source": [
    "The removed columns are:\n",
    "* **_Book-Title_**: ISBN and Book-Title represent the same thing, hence one of the columns can be dropped\n",
    "\n",
    "* **_Year-Of-Publication_**: The year the book was published might have little effect on the model\n",
    "\n",
    "* **_Image-URL-S, Image-URL-M, Image-URL-L_**: These columns represent the URL to the book covers and will have no effect on the model\n",
    "\n",
    "**NB:** The columns Book-Author and Publisher will be keep since some readers may have the habit of reading books from a particular publisher or author because thats their niche. Hence recommending books from these authors/publishers might be beneficial."
   ]
  },
  {
   "cell_type": "code",
   "execution_count": 27,
   "metadata": {},
   "outputs": [
    {
     "data": {
      "text/html": [
       "<div>\n",
       "<style scoped>\n",
       "    .dataframe tbody tr th:only-of-type {\n",
       "        vertical-align: middle;\n",
       "    }\n",
       "\n",
       "    .dataframe tbody tr th {\n",
       "        vertical-align: top;\n",
       "    }\n",
       "\n",
       "    .dataframe thead th {\n",
       "        text-align: right;\n",
       "    }\n",
       "</style>\n",
       "<table border=\"1\" class=\"dataframe\">\n",
       "  <thead>\n",
       "    <tr style=\"text-align: right;\">\n",
       "      <th></th>\n",
       "      <th>User-ID</th>\n",
       "      <th>ISBN</th>\n",
       "      <th>Book-Rating</th>\n",
       "      <th>Book-Author</th>\n",
       "      <th>Publisher</th>\n",
       "      <th>Location</th>\n",
       "      <th>Age</th>\n",
       "    </tr>\n",
       "  </thead>\n",
       "  <tbody>\n",
       "    <tr>\n",
       "      <th>0</th>\n",
       "      <td>276726</td>\n",
       "      <td>0155061224</td>\n",
       "      <td>5</td>\n",
       "      <td>Judith Rae</td>\n",
       "      <td>Heinle</td>\n",
       "      <td>seattle, washington, usa</td>\n",
       "      <td>NaN</td>\n",
       "    </tr>\n",
       "    <tr>\n",
       "      <th>1</th>\n",
       "      <td>276729</td>\n",
       "      <td>052165615X</td>\n",
       "      <td>3</td>\n",
       "      <td>Philip Prowse</td>\n",
       "      <td>Cambridge University Press</td>\n",
       "      <td>rijeka, n/a, croatia</td>\n",
       "      <td>16.0</td>\n",
       "    </tr>\n",
       "    <tr>\n",
       "      <th>2</th>\n",
       "      <td>276729</td>\n",
       "      <td>0521795028</td>\n",
       "      <td>6</td>\n",
       "      <td>Sue Leather</td>\n",
       "      <td>Cambridge University Press</td>\n",
       "      <td>rijeka, n/a, croatia</td>\n",
       "      <td>16.0</td>\n",
       "    </tr>\n",
       "    <tr>\n",
       "      <th>3</th>\n",
       "      <td>276744</td>\n",
       "      <td>038550120X</td>\n",
       "      <td>7</td>\n",
       "      <td>JOHN GRISHAM</td>\n",
       "      <td>Doubleday</td>\n",
       "      <td>torrance, california, usa</td>\n",
       "      <td>NaN</td>\n",
       "    </tr>\n",
       "    <tr>\n",
       "      <th>4</th>\n",
       "      <td>11676</td>\n",
       "      <td>038550120X</td>\n",
       "      <td>10</td>\n",
       "      <td>JOHN GRISHAM</td>\n",
       "      <td>Doubleday</td>\n",
       "      <td>n/a, n/a, n/a</td>\n",
       "      <td>NaN</td>\n",
       "    </tr>\n",
       "  </tbody>\n",
       "</table>\n",
       "</div>"
      ],
      "text/plain": [
       "   User-ID        ISBN  Book-Rating    Book-Author  \\\n",
       "0   276726  0155061224            5     Judith Rae   \n",
       "1   276729  052165615X            3  Philip Prowse   \n",
       "2   276729  0521795028            6    Sue Leather   \n",
       "3   276744  038550120X            7   JOHN GRISHAM   \n",
       "4    11676  038550120X           10   JOHN GRISHAM   \n",
       "\n",
       "                    Publisher                   Location   Age  \n",
       "0                      Heinle   seattle, washington, usa   NaN  \n",
       "1  Cambridge University Press       rijeka, n/a, croatia  16.0  \n",
       "2  Cambridge University Press       rijeka, n/a, croatia  16.0  \n",
       "3                   Doubleday  torrance, california, usa   NaN  \n",
       "4                   Doubleday              n/a, n/a, n/a   NaN  "
      ]
     },
     "execution_count": 27,
     "metadata": {},
     "output_type": "execute_result"
    }
   ],
   "source": [
    "complete_df.drop(['Book-Title', 'Year-Of-Publication','Image-URL-S', 'Image-URL-M','Image-URL-L'], \\\n",
    "                 axis=1, inplace=True)\n",
    "complete_df.head()"
   ]
  },
  {
   "cell_type": "markdown",
   "metadata": {},
   "source": [
    "**ii. Dealing with dupicates**"
   ]
  },
  {
   "cell_type": "markdown",
   "metadata": {},
   "source": [
    "Duplicates were checked using the User-ID and ISBN since we don't want a user to rate the same book more than once."
   ]
  },
  {
   "cell_type": "code",
   "execution_count": 28,
   "metadata": {},
   "outputs": [
    {
     "data": {
      "text/plain": [
       "0"
      ]
     },
     "execution_count": 28,
     "metadata": {},
     "output_type": "execute_result"
    }
   ],
   "source": [
    "complete_df.duplicated(subset=['User-ID', 'ISBN'], keep=False).sum()\n",
    "\n",
    "# Observations:\n",
    "    # The data has no duplicates"
   ]
  },
  {
   "cell_type": "markdown",
   "metadata": {},
   "source": [
    "**iii. Dealing with missing values**"
   ]
  },
  {
   "cell_type": "code",
   "execution_count": 29,
   "metadata": {},
   "outputs": [
    {
     "data": {
      "text/plain": [
       "{'Book-Author': 1, 'Publisher': 2, 'Age': 114221}"
      ]
     },
     "execution_count": 29,
     "metadata": {},
     "output_type": "execute_result"
    }
   ],
   "source": [
    "# Columns with missing values\n",
    "{col:complete_df[col].isnull().sum() for col in complete_df.columns if complete_df[col].isnull().sum()}"
   ]
  },
  {
   "cell_type": "markdown",
   "metadata": {},
   "source": [
    "* **_Book-Author Column_**"
   ]
  },
  {
   "cell_type": "code",
   "execution_count": 30,
   "metadata": {},
   "outputs": [
    {
     "data": {
      "text/html": [
       "<div>\n",
       "<style scoped>\n",
       "    .dataframe tbody tr th:only-of-type {\n",
       "        vertical-align: middle;\n",
       "    }\n",
       "\n",
       "    .dataframe tbody tr th {\n",
       "        vertical-align: top;\n",
       "    }\n",
       "\n",
       "    .dataframe thead th {\n",
       "        text-align: right;\n",
       "    }\n",
       "</style>\n",
       "<table border=\"1\" class=\"dataframe\">\n",
       "  <thead>\n",
       "    <tr style=\"text-align: right;\">\n",
       "      <th></th>\n",
       "      <th>User-ID</th>\n",
       "      <th>ISBN</th>\n",
       "      <th>Book-Rating</th>\n",
       "      <th>Book-Author</th>\n",
       "      <th>Publisher</th>\n",
       "      <th>Location</th>\n",
       "      <th>Age</th>\n",
       "    </tr>\n",
       "  </thead>\n",
       "  <tbody>\n",
       "    <tr>\n",
       "      <th>261953</th>\n",
       "      <td>98647</td>\n",
       "      <td>9627982032</td>\n",
       "      <td>8</td>\n",
       "      <td>NaN</td>\n",
       "      <td>Edinburgh Financial Publishing</td>\n",
       "      <td>selayang, selangor, malaysia</td>\n",
       "      <td>26.0</td>\n",
       "    </tr>\n",
       "  </tbody>\n",
       "</table>\n",
       "</div>"
      ],
      "text/plain": [
       "        User-ID        ISBN  Book-Rating Book-Author  \\\n",
       "261953    98647  9627982032            8         NaN   \n",
       "\n",
       "                             Publisher                      Location   Age  \n",
       "261953  Edinburgh Financial Publishing  selayang, selangor, malaysia  26.0  "
      ]
     },
     "execution_count": 30,
     "metadata": {},
     "output_type": "execute_result"
    }
   ],
   "source": [
    "# Book- Author column\n",
    "\n",
    "complete_df[complete_df['Book-Author'].isnull()]\n",
    "\n",
    "# Checking online, the book Credit Suisse Guide to Managing Your Personal Wealth was authored by Larissa Anne Downes"
   ]
  },
  {
   "cell_type": "markdown",
   "metadata": {},
   "source": [
    "On checking <a href='https://www.goodreads.com/book/show/7253684-credit-suisse-guide-to-managing-your-personal-wealth'> online</a>, the book _**Credit Suisse Guide to Managing Your Personal Wealth** (ISBN: 9627982032)_ was authored by **Larissa Anne Downes**"
   ]
  },
  {
   "cell_type": "code",
   "execution_count": 31,
   "metadata": {},
   "outputs": [],
   "source": [
    "# Filling in the missing value with the name of the author\n",
    "complete_df['Book-Author'].fillna(value='Larissa Anne Downes', inplace=True)"
   ]
  },
  {
   "cell_type": "code",
   "execution_count": 32,
   "metadata": {},
   "outputs": [
    {
     "data": {
      "text/plain": [
       "0"
      ]
     },
     "execution_count": 32,
     "metadata": {},
     "output_type": "execute_result"
    }
   ],
   "source": [
    "# Confirming the missing value in this column has been removed\n",
    "complete_df['Book-Author'].isnull().sum()"
   ]
  },
  {
   "cell_type": "markdown",
   "metadata": {},
   "source": [
    "* _**Publisher column**_"
   ]
  },
  {
   "cell_type": "code",
   "execution_count": 33,
   "metadata": {},
   "outputs": [
    {
     "data": {
      "text/html": [
       "<div>\n",
       "<style scoped>\n",
       "    .dataframe tbody tr th:only-of-type {\n",
       "        vertical-align: middle;\n",
       "    }\n",
       "\n",
       "    .dataframe tbody tr th {\n",
       "        vertical-align: top;\n",
       "    }\n",
       "\n",
       "    .dataframe thead th {\n",
       "        text-align: right;\n",
       "    }\n",
       "</style>\n",
       "<table border=\"1\" class=\"dataframe\">\n",
       "  <thead>\n",
       "    <tr style=\"text-align: right;\">\n",
       "      <th></th>\n",
       "      <th>User-ID</th>\n",
       "      <th>ISBN</th>\n",
       "      <th>Book-Rating</th>\n",
       "      <th>Book-Author</th>\n",
       "      <th>Publisher</th>\n",
       "      <th>Location</th>\n",
       "      <th>Age</th>\n",
       "    </tr>\n",
       "  </thead>\n",
       "  <tbody>\n",
       "    <tr>\n",
       "      <th>82262</th>\n",
       "      <td>98391</td>\n",
       "      <td>193169656X</td>\n",
       "      <td>9</td>\n",
       "      <td>Elaine Corvidae</td>\n",
       "      <td>NaN</td>\n",
       "      <td>morrow, georgia, usa</td>\n",
       "      <td>52.0</td>\n",
       "    </tr>\n",
       "    <tr>\n",
       "      <th>82271</th>\n",
       "      <td>98391</td>\n",
       "      <td>1931696993</td>\n",
       "      <td>9</td>\n",
       "      <td>Linnea Sinclair</td>\n",
       "      <td>NaN</td>\n",
       "      <td>morrow, georgia, usa</td>\n",
       "      <td>52.0</td>\n",
       "    </tr>\n",
       "  </tbody>\n",
       "</table>\n",
       "</div>"
      ],
      "text/plain": [
       "       User-ID        ISBN  Book-Rating      Book-Author Publisher  \\\n",
       "82262    98391  193169656X            9  Elaine Corvidae       NaN   \n",
       "82271    98391  1931696993            9  Linnea Sinclair       NaN   \n",
       "\n",
       "                   Location   Age  \n",
       "82262  morrow, georgia, usa  52.0  \n",
       "82271  morrow, georgia, usa  52.0  "
      ]
     },
     "execution_count": 33,
     "metadata": {},
     "output_type": "execute_result"
    }
   ],
   "source": [
    "# Publisher column\n",
    "\n",
    "complete_df[complete_df['Publisher'].isnull()]"
   ]
  },
  {
   "cell_type": "markdown",
   "metadata": {},
   "source": [
    "On checking <a href='https://www.amazon.com/Tyrant-Moon-Elaine-Corvidae/dp/159426029X'> online</a>, the book _**Tyrant Moon** (ISBN: 193169656X)_ was published by **Mundania Press LLC**.\n",
    "\n",
    "On checking <a href='https://www.goodreads.com/en/book/show/352725'> online</a>, the book _**Finders Keepers** (ISBN: 1931696993)_ was published by **Bantam**."
   ]
  },
  {
   "cell_type": "code",
   "execution_count": 34,
   "metadata": {},
   "outputs": [],
   "source": [
    "# Filling in the missing values with the name of the publishers\n",
    "\n",
    "complete_df[complete_df['ISBN']=='193169656X'] = complete_df[complete_df['ISBN']=='193169656X'].fillna(value='Mundania Press LLC')\n",
    "complete_df[complete_df['ISBN']=='1931696993'] = complete_df[complete_df['ISBN']=='1931696993'].fillna(value='Bantam')"
   ]
  },
  {
   "cell_type": "code",
   "execution_count": 35,
   "metadata": {},
   "outputs": [
    {
     "data": {
      "text/plain": [
       "0"
      ]
     },
     "execution_count": 35,
     "metadata": {},
     "output_type": "execute_result"
    }
   ],
   "source": [
    "# Confirming the missing value in this column has been removed\n",
    "complete_df['Publisher'].isnull().sum()"
   ]
  },
  {
   "cell_type": "markdown",
   "metadata": {},
   "source": [
    "* _**Age column**_"
   ]
  },
  {
   "cell_type": "code",
   "execution_count": 36,
   "metadata": {},
   "outputs": [
    {
     "data": {
      "text/plain": [
       "False    0.702427\n",
       "True     0.297573\n",
       "Name: Age, dtype: float64"
      ]
     },
     "execution_count": 36,
     "metadata": {},
     "output_type": "execute_result"
    }
   ],
   "source": [
    "complete_df.Age.isnull().value_counts(normalize=True)\n",
    "\n",
    "# 29% of the values in this column are missing. The missing values will be replaced with the median"
   ]
  },
  {
   "cell_type": "code",
   "execution_count": 37,
   "metadata": {},
   "outputs": [],
   "source": [
    "# We will fill in the missing values using the median since it is not affected by outliers which we has observed earlier\n",
    "median =complete_df['Age'].median()\n",
    "complete_df.Age.fillna(value=median, inplace=True)"
   ]
  },
  {
   "cell_type": "code",
   "execution_count": 38,
   "metadata": {},
   "outputs": [
    {
     "data": {
      "text/plain": [
       "0"
      ]
     },
     "execution_count": 38,
     "metadata": {},
     "output_type": "execute_result"
    }
   ],
   "source": [
    "# Confirming the missing value in this column has been removed\n",
    "complete_df['Age'].isnull().sum()"
   ]
  },
  {
   "cell_type": "markdown",
   "metadata": {},
   "source": [
    "**iv. Splitting location to represent the user country only**"
   ]
  },
  {
   "cell_type": "code",
   "execution_count": 39,
   "metadata": {},
   "outputs": [
    {
     "data": {
      "text/html": [
       "<div>\n",
       "<style scoped>\n",
       "    .dataframe tbody tr th:only-of-type {\n",
       "        vertical-align: middle;\n",
       "    }\n",
       "\n",
       "    .dataframe tbody tr th {\n",
       "        vertical-align: top;\n",
       "    }\n",
       "\n",
       "    .dataframe thead th {\n",
       "        text-align: right;\n",
       "    }\n",
       "</style>\n",
       "<table border=\"1\" class=\"dataframe\">\n",
       "  <thead>\n",
       "    <tr style=\"text-align: right;\">\n",
       "      <th></th>\n",
       "      <th>User-ID</th>\n",
       "      <th>ISBN</th>\n",
       "      <th>Book-Rating</th>\n",
       "      <th>Book-Author</th>\n",
       "      <th>Publisher</th>\n",
       "      <th>Location</th>\n",
       "      <th>Age</th>\n",
       "    </tr>\n",
       "  </thead>\n",
       "  <tbody>\n",
       "    <tr>\n",
       "      <th>0</th>\n",
       "      <td>276726</td>\n",
       "      <td>0155061224</td>\n",
       "      <td>5</td>\n",
       "      <td>Judith Rae</td>\n",
       "      <td>Heinle</td>\n",
       "      <td>usa</td>\n",
       "      <td>35.0</td>\n",
       "    </tr>\n",
       "    <tr>\n",
       "      <th>1</th>\n",
       "      <td>276729</td>\n",
       "      <td>052165615X</td>\n",
       "      <td>3</td>\n",
       "      <td>Philip Prowse</td>\n",
       "      <td>Cambridge University Press</td>\n",
       "      <td>croatia</td>\n",
       "      <td>16.0</td>\n",
       "    </tr>\n",
       "    <tr>\n",
       "      <th>2</th>\n",
       "      <td>276729</td>\n",
       "      <td>0521795028</td>\n",
       "      <td>6</td>\n",
       "      <td>Sue Leather</td>\n",
       "      <td>Cambridge University Press</td>\n",
       "      <td>croatia</td>\n",
       "      <td>16.0</td>\n",
       "    </tr>\n",
       "    <tr>\n",
       "      <th>3</th>\n",
       "      <td>276744</td>\n",
       "      <td>038550120X</td>\n",
       "      <td>7</td>\n",
       "      <td>JOHN GRISHAM</td>\n",
       "      <td>Doubleday</td>\n",
       "      <td>usa</td>\n",
       "      <td>35.0</td>\n",
       "    </tr>\n",
       "    <tr>\n",
       "      <th>4</th>\n",
       "      <td>11676</td>\n",
       "      <td>038550120X</td>\n",
       "      <td>10</td>\n",
       "      <td>JOHN GRISHAM</td>\n",
       "      <td>Doubleday</td>\n",
       "      <td>n/a</td>\n",
       "      <td>35.0</td>\n",
       "    </tr>\n",
       "  </tbody>\n",
       "</table>\n",
       "</div>"
      ],
      "text/plain": [
       "   User-ID        ISBN  Book-Rating    Book-Author  \\\n",
       "0   276726  0155061224            5     Judith Rae   \n",
       "1   276729  052165615X            3  Philip Prowse   \n",
       "2   276729  0521795028            6    Sue Leather   \n",
       "3   276744  038550120X            7   JOHN GRISHAM   \n",
       "4    11676  038550120X           10   JOHN GRISHAM   \n",
       "\n",
       "                    Publisher  Location   Age  \n",
       "0                      Heinle       usa  35.0  \n",
       "1  Cambridge University Press   croatia  16.0  \n",
       "2  Cambridge University Press   croatia  16.0  \n",
       "3                   Doubleday       usa  35.0  \n",
       "4                   Doubleday       n/a  35.0  "
      ]
     },
     "execution_count": 39,
     "metadata": {},
     "output_type": "execute_result"
    }
   ],
   "source": [
    "complete_df['Location'] = complete_df['Location'].str.split(',').str[-1].str.strip(string.punctuation)\n",
    "complete_df.head()"
   ]
  },
  {
   "cell_type": "code",
   "execution_count": 40,
   "metadata": {},
   "outputs": [
    {
     "data": {
<<<<<<< HEAD
=======
      "image/png": "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\n",
>>>>>>> e96db08c3427dc07e479ba0bc04f228b2c13091b
      "text/plain": [
       "array([' usa', ' croatia', ' n/a', ' portugal', '', ' new zealand',\n",
       "       ' netherlands', ' canada', ' austria', ' romania', ' australia',\n",
       "       ' spain', ' switzerland', ' united kingdom', ' saudi arabia',\n",
       "       ' malaysia', ' philippines', ' germany', ' antarctica', ' k1c7b1',\n",
       "       ' italy', ' us', ' catalunya', ' iran', ' dominican republic',\n",
       "       ' south korea', ' mexico', ' quit', ' france', ' india',\n",
       "       ' ireland', ' finland', ' greece', ' ghana', ' phillipines',\n",
       "       ' japan', ' belgium', ' tajikistan', ' united state', ' brazil',\n",
       "       ' hong kong', ' singapore', ' cayman islands', ' cyprus', ' china',\n",
       "       ' kuwait', ' luxembourg', ' turkey', ' norway', ' peru',\n",
       "       ' czech republic', ' sweden', ' trinidad and tobago',\n",
       "       ' euskal herria', ' israel', ' tunisia', ' alderney', ' denmark',\n",
       "       ' aruba', ' thailand', ' rutherford', ' indonesia',\n",
       "       ' south africa', ' nepal', ' united states', ' macedonia',\n",
       "       ' kenya', ' mauritius', ' poland', ' nigeria', ' egypt',\n",
       "       ' yugoslavia', ' iceland', ' guernsey', ' far away', ' costa rica',\n",
       "       ' qatar', ' van wert', ' bermuda', ' bahamas', ' zimbabwe',\n",
       "       ' bulgaria', ' tanzania', ' u.k', ' taiwan', ' honduras',\n",
       "       ' tobago', ' st. helena', ' ecuador', ' slovenia', ' lkjlj',\n",
       "       ' bahrain', ' universe', ' pakistan', ' ua', ' algeria',\n",
       "       ' jamaica', ' argentina', ' malta', ' framingham', ' venezuela',\n",
       "       ' england', ' el salvador', ' niger', ' petrolwar nation',\n",
       "       ' worcester', ' chile', ' ukraine', ' pender', ' belize',\n",
       "       ' andorra', ' albania', ' mozambique', ' tdzimi', ' st.thomasi',\n",
       "       ' barbados', ' laos', ' caribbean sea', ' saint lucia', ' latvia',\n",
       "       ' republic of panama', ' deutschland', ' guatemala', ' russia',\n",
       "       ' puerto rico', ' unknown', ' united staes', ' guinea',\n",
       "       ' channel islands', ' turkmenistan', ' angola', ' shelby',\n",
       "       ' catalonia', ' kosovo', ' zambia', ' uruguay', ' csa', ' urugua',\n",
       "       ' morgan', ' kazakhstan', ' paraguay', ' kern', ' slovakia',\n",
       "       ' space', ' ysa', ' oman', ' españa', ' hungary', ' wales',\n",
       "       ' n/a - on the road', ' aroostook', ' america',\n",
       "       ' everywhere and anywhere', ' united states of america',\n",
       "       ' papua new guinea', ' c.a', ' burma', ' madagascar', ' bolivia',\n",
       "       ' united arab emirates', ' palau', ' colombia', ' monaco',\n",
       "       ' benin', ' estonia', ' u.a.e', ' jersey', ' united kindgonm',\n",
       "       ' tonga', ' antigua and barbuda', ' afghanistan', ' cuba',\n",
       "       ' grenada', ' nz', ' u.s.a', ' vietnam', ' uganda', ' lleida',\n",
       "       ' orense', ' italia', ' l`italia', ' richmond country', ' panama',\n",
       "       ' u.s. of a', ' ferrara', ' sri lanka', ' moldova', ' orange co',\n",
       "       ' brunei', ' scotland', ' morocco', ' camden', ' lithuania',\n",
       "       ' cameroon', ' polk', ' mongolia', ' catalunya spain',\n",
       "       ' los estados unidos de norte america', ' u.s', ' galiza', ' c',\n",
       "       ' cherokee', ' la belgique', ' maricopa', ' la france',\n",
       "       ' cape verde', ' saint loius', ' here and there', ' cananda',\n",
       "       ' lebanon', ' bangladesh', ' fort bend', ' uzbekistan',\n",
       "       ' la chine éternelle', ' united sates', ' la suisse',\n",
       "       ' disgruntled states of america', ' fiji', ' usa & canada',\n",
       "       ' alachua', ' gabon', ' berguedà', ' the world tomorrow', ' guam',\n",
       "       ' usa (currently living in england', ' maracopa', ' guinea-bissau',\n",
       "       ' \\\\\"n/a', ' cambodia'], dtype=object)"
      ]
     },
     "execution_count": 40,
     "metadata": {},
     "output_type": "execute_result"
    }
   ],
   "source": [
    "complete_df['Location'].unique()\n",
    "\n",
    "# There are countries represented by more than one format.\n",
    "# Eg. 'usa', 'us', 'u.s' and 'united states' all mean the same thing\n",
    "# The are also countries which are not countries at all eg.prince william\n",
    "# We will clean up the country names using dataprep module"
   ]
  },
  {
   "cell_type": "code",
   "execution_count": 41,
   "metadata": {},
   "outputs": [
    {
     "data": {
      "application/vnd.jupyter.widget-view+json": {
       "model_id": "dae47dfe0c2341bd9e8bf4eb0b8fc500",
       "version_major": 2,
       "version_minor": 0
      },
      "text/plain": [
       "HBox(children=(HTML(value=''), FloatProgress(value=0.0, layout=Layout(flex='2'), max=8.0), HTML(value='')), la…"
      ]
     },
     "metadata": {},
     "output_type": "display_data"
    },
    {
     "name": "stdout",
     "output_type": "stream",
     "text": [
      "Country Cleaning Report:\n",
      "\t365795 values cleaned (95.3%)\n",
      "\t583 values unable to be parsed (0.15%), set to NaN\n",
      "Result contains 365795 (95.3%) values in the correct format and 18047 null values (4.7%)\n"
     ]
    },
    {
     "data": {
      "text/html": [
       "<div>\n",
       "<style scoped>\n",
       "    .dataframe tbody tr th:only-of-type {\n",
       "        vertical-align: middle;\n",
       "    }\n",
       "\n",
       "    .dataframe tbody tr th {\n",
       "        vertical-align: top;\n",
       "    }\n",
       "\n",
       "    .dataframe thead th {\n",
       "        text-align: right;\n",
       "    }\n",
       "</style>\n",
       "<table border=\"1\" class=\"dataframe\">\n",
       "  <thead>\n",
       "    <tr style=\"text-align: right;\">\n",
       "      <th></th>\n",
       "      <th>Location</th>\n",
       "      <th>Location_clean</th>\n",
       "    </tr>\n",
       "  </thead>\n",
       "  <tbody>\n",
       "    <tr>\n",
       "      <th>0</th>\n",
       "      <td>usa</td>\n",
       "      <td>United States</td>\n",
       "    </tr>\n",
       "    <tr>\n",
       "      <th>1</th>\n",
       "      <td>croatia</td>\n",
       "      <td>Croatia</td>\n",
       "    </tr>\n",
       "    <tr>\n",
       "      <th>2</th>\n",
       "      <td>croatia</td>\n",
       "      <td>Croatia</td>\n",
       "    </tr>\n",
       "    <tr>\n",
       "      <th>3</th>\n",
       "      <td>usa</td>\n",
       "      <td>United States</td>\n",
       "    </tr>\n",
       "    <tr>\n",
       "      <th>4</th>\n",
       "      <td>n/a</td>\n",
       "      <td>NaN</td>\n",
       "    </tr>\n",
       "    <tr>\n",
       "      <th>...</th>\n",
       "      <td>...</td>\n",
       "      <td>...</td>\n",
       "    </tr>\n",
       "    <tr>\n",
       "      <th>383837</th>\n",
       "      <td>singapore</td>\n",
       "      <td>Singapore</td>\n",
       "    </tr>\n",
       "    <tr>\n",
       "      <th>383838</th>\n",
       "      <td>united kingdom</td>\n",
       "      <td>United Kingdom</td>\n",
       "    </tr>\n",
       "    <tr>\n",
       "      <th>383839</th>\n",
       "      <td>united kingdom</td>\n",
       "      <td>United Kingdom</td>\n",
       "    </tr>\n",
       "    <tr>\n",
       "      <th>383840</th>\n",
       "      <td>united kingdom</td>\n",
       "      <td>United Kingdom</td>\n",
       "    </tr>\n",
       "    <tr>\n",
       "      <th>383841</th>\n",
       "      <td>united kingdom</td>\n",
       "      <td>United Kingdom</td>\n",
       "    </tr>\n",
       "  </tbody>\n",
       "</table>\n",
       "<p>383842 rows × 2 columns</p>\n",
       "</div>"
      ],
      "text/plain": [
       "               Location  Location_clean\n",
       "0                   usa   United States\n",
       "1               croatia         Croatia\n",
       "2               croatia         Croatia\n",
       "3                   usa   United States\n",
       "4                   n/a             NaN\n",
       "...                 ...             ...\n",
       "383837        singapore       Singapore\n",
       "383838   united kingdom  United Kingdom\n",
       "383839   united kingdom  United Kingdom\n",
       "383840   united kingdom  United Kingdom\n",
       "383841   united kingdom  United Kingdom\n",
       "\n",
       "[383842 rows x 2 columns]"
      ]
     },
     "execution_count": 41,
     "metadata": {},
     "output_type": "execute_result"
    }
   ],
   "source": [
    "# Using clean_country function in the dataprep.clean module\n",
    "\n",
    "countries = complete_df[['Location']]\n",
    "countries_df = clean_country(countries, 'Location')\n",
    "countries_df"
   ]
  },
  {
   "cell_type": "code",
   "execution_count": 42,
   "metadata": {},
   "outputs": [
    {
     "data": {
      "text/plain": [
       "18047"
      ]
     },
     "execution_count": 42,
     "metadata": {},
     "output_type": "execute_result"
    }
   ],
   "source": [
    "# There are countries that could not be identified and those values were filled with Nan\n",
    "complete_df['Location_clean'] = countries_df['Location_clean']\n",
    "complete_df['Location_clean'].isnull().sum()"
   ]
  },
  {
   "cell_type": "code",
   "execution_count": 43,
   "metadata": {},
   "outputs": [],
   "source": [
    "# The missing values will therefore be filled with the phrase('Unknown')\n",
    "\n",
    "complete_df['Location_clean'].fillna(value='Unknown', inplace=True)"
   ]
  },
  {
   "attachments": {},
   "cell_type": "markdown",
   "metadata": {},
   "source": [
    "**Visualizing the average book ratings per country**"
   ]
  },
  {
   "cell_type": "code",
   "execution_count": 44,
   "metadata": {},
   "outputs": [
    {
     "data": {
      "text/html": [
       "<div>\n",
       "<style scoped>\n",
       "    .dataframe tbody tr th:only-of-type {\n",
       "        vertical-align: middle;\n",
       "    }\n",
       "\n",
       "    .dataframe tbody tr th {\n",
       "        vertical-align: top;\n",
       "    }\n",
       "\n",
       "    .dataframe thead th {\n",
       "        text-align: right;\n",
       "    }\n",
       "</style>\n",
       "<table border=\"1\" class=\"dataframe\">\n",
       "  <thead>\n",
       "    <tr style=\"text-align: right;\">\n",
       "      <th></th>\n",
       "      <th>Country</th>\n",
       "      <th>Average Rating</th>\n",
       "    </tr>\n",
       "  </thead>\n",
       "  <tbody>\n",
       "    <tr>\n",
       "      <th>0</th>\n",
       "      <td>Afghanistan</td>\n",
       "      <td>4.0</td>\n",
       "    </tr>\n",
       "    <tr>\n",
       "      <th>1</th>\n",
       "      <td>Albania</td>\n",
       "      <td>5.2</td>\n",
       "    </tr>\n",
       "  </tbody>\n",
       "</table>\n",
       "</div>"
      ],
      "text/plain": [
       "       Country  Average Rating\n",
       "0  Afghanistan             4.0\n",
       "1      Albania             5.2"
      ]
     },
     "execution_count": 44,
     "metadata": {},
     "output_type": "execute_result"
    }
   ],
   "source": [
    "country_group = pd.DataFrame(complete_df.groupby('Location_clean')['Book-Rating'].mean()).reset_index()\n",
    "country_group.columns=['Country', 'Average Rating']\n",
    "country_group.head(2)"
   ]
  },
  {
   "cell_type": "code",
   "execution_count": 45,
   "metadata": {},
   "outputs": [
    {
     "data": {
      "application/vnd.plotly.v1+json": {
       "config": {
        "plotlyServerURL": "https://plot.ly"
       },
       "data": [
        {
         "coloraxis": "coloraxis",
         "geo": "geo",
         "hovertemplate": "<b>%{hovertext}</b><br><br>Country=%{location}<br>Average Rating=%{z}<extra></extra>",
         "hovertext": [
          "Afghanistan",
          "Albania",
          "Algeria",
          "Andorra",
          "Angola",
          "Antarctica",
          "Antigua and Barbuda",
          "Argentina",
          "Aruba",
          "Australia",
          "Austria",
          "Bahamas",
          "Bahrain",
          "Bangladesh",
          "Barbados",
          "Belgium",
          "Belize",
          "Benin",
          "Bermuda",
          "Bolivia",
          "Brazil",
          "Brunei Darussalam",
          "Bulgaria",
          "Cabo Verde",
          "Cambodia",
          "Cameroon",
          "Canada",
          "Cayman Islands",
          "Channel Islands",
          "Chile",
          "China",
          "Colombia",
          "Costa Rica",
          "Croatia",
          "Cuba",
          "Cyprus",
          "Czech Republic",
          "Denmark",
          "Dominican Republic",
          "Ecuador",
          "Egypt",
          "El Salvador",
          "Estonia",
          "Fiji",
          "Finland",
          "France",
          "Gabon",
          "Germany",
          "Ghana",
          "Greece",
          "Grenada",
          "Guam",
          "Guatemala",
          "Guernsey",
          "Guinea",
          "Guinea-Bissau",
          "Honduras",
          "Hong Kong",
          "Hungary",
          "Iceland",
          "India",
          "Indonesia",
          "Iran",
          "Ireland",
          "Israel",
          "Italy",
          "Jamaica",
          "Japan",
          "Jersey",
          "Kazakhstan",
          "Kenya",
          "Kosovo",
          "Kuwait",
          "Laos",
          "Latvia",
          "Lebanon",
          "Lithuania",
          "Luxembourg",
          "Macedonia",
          "Madagascar",
          "Malaysia",
          "Malta",
          "Mauritius",
          "Mexico",
          "Moldova",
          "Monaco",
          "Mongolia",
          "Morocco",
          "Mozambique",
          "Myanmar",
          "Nepal",
          "Netherlands",
          "New Zealand",
          "Niger",
          "Nigeria",
          "Norway",
          "Oman",
          "Pakistan",
          "Palau",
          "Panama",
          "Papua New Guinea",
          "Paraguay",
          "Peru",
          "Philippines",
          "Poland",
          "Portugal",
          "Puerto Rico",
          "Qatar",
          "Romania",
          "Russia",
          "Saudi Arabia",
          "Singapore",
          "Slovakia",
          "Slovenia",
          "South Africa",
          "South Korea",
          "Spain",
          "Sri Lanka",
          "St. Helena",
          "St. Lucia",
          "Sweden",
          "Switzerland",
          "Taiwan",
          "Tajikistan",
          "Tanzania",
          "Thailand",
          "Tonga",
          "Trinidad and Tobago",
          "Tunisia",
          "Turkey",
          "Turkmenistan",
          "Uganda",
          "Ukraine",
          "United Arab Emirates",
          "United Kingdom",
          "United States",
          "Unknown",
          "Uruguay",
          "Uzbekistan",
          "Venezuela",
          "Vietnam",
          "Zambia",
          "Zimbabwe"
         ],
         "locationmode": "country names",
         "locations": [
          "Afghanistan",
          "Albania",
          "Algeria",
          "Andorra",
          "Angola",
          "Antarctica",
          "Antigua and Barbuda",
          "Argentina",
          "Aruba",
          "Australia",
          "Austria",
          "Bahamas",
          "Bahrain",
          "Bangladesh",
          "Barbados",
          "Belgium",
          "Belize",
          "Benin",
          "Bermuda",
          "Bolivia",
          "Brazil",
          "Brunei Darussalam",
          "Bulgaria",
          "Cabo Verde",
          "Cambodia",
          "Cameroon",
          "Canada",
          "Cayman Islands",
          "Channel Islands",
          "Chile",
          "China",
          "Colombia",
          "Costa Rica",
          "Croatia",
          "Cuba",
          "Cyprus",
          "Czech Republic",
          "Denmark",
          "Dominican Republic",
          "Ecuador",
          "Egypt",
          "El Salvador",
          "Estonia",
          "Fiji",
          "Finland",
          "France",
          "Gabon",
          "Germany",
          "Ghana",
          "Greece",
          "Grenada",
          "Guam",
          "Guatemala",
          "Guernsey",
          "Guinea",
          "Guinea-Bissau",
          "Honduras",
          "Hong Kong",
          "Hungary",
          "Iceland",
          "India",
          "Indonesia",
          "Iran",
          "Ireland",
          "Israel",
          "Italy",
          "Jamaica",
          "Japan",
          "Jersey",
          "Kazakhstan",
          "Kenya",
          "Kosovo",
          "Kuwait",
          "Laos",
          "Latvia",
          "Lebanon",
          "Lithuania",
          "Luxembourg",
          "Macedonia",
          "Madagascar",
          "Malaysia",
          "Malta",
          "Mauritius",
          "Mexico",
          "Moldova",
          "Monaco",
          "Mongolia",
          "Morocco",
          "Mozambique",
          "Myanmar",
          "Nepal",
          "Netherlands",
          "New Zealand",
          "Niger",
          "Nigeria",
          "Norway",
          "Oman",
          "Pakistan",
          "Palau",
          "Panama",
          "Papua New Guinea",
          "Paraguay",
          "Peru",
          "Philippines",
          "Poland",
          "Portugal",
          "Puerto Rico",
          "Qatar",
          "Romania",
          "Russia",
          "Saudi Arabia",
          "Singapore",
          "Slovakia",
          "Slovenia",
          "South Africa",
          "South Korea",
          "Spain",
          "Sri Lanka",
          "St. Helena",
          "St. Lucia",
          "Sweden",
          "Switzerland",
          "Taiwan",
          "Tajikistan",
          "Tanzania",
          "Thailand",
          "Tonga",
          "Trinidad and Tobago",
          "Tunisia",
          "Turkey",
          "Turkmenistan",
          "Uganda",
          "Ukraine",
          "United Arab Emirates",
          "United Kingdom",
          "United States",
          "Unknown",
          "Uruguay",
          "Uzbekistan",
          "Venezuela",
          "Vietnam",
          "Zambia",
          "Zimbabwe"
         ],
         "name": "",
         "type": "choropleth",
         "z": [
          4,
          5.2,
          6,
          7,
          8,
          8.27659574468085,
          9,
          7.728813559322034,
          7.84375,
          7.459018738377915,
          7.594890510948905,
          6.294117647058823,
          5.75,
          9,
          8.666666666666666,
          7.762430939226519,
          8.666666666666666,
          4,
          7.428571428571429,
          8.333333333333334,
          7.773672055427252,
          5.666666666666667,
          8.07843137254902,
          8.25,
          3,
          9,
          7.512410400562192,
          7,
          6.666666666666667,
          6.978260869565218,
          7.771704180064309,
          8.25,
          8.097560975609756,
          7.2,
          5.5,
          7.176470588235294,
          8.6,
          7.270833333333333,
          8.815303430079156,
          8.6,
          6.809523809523809,
          8,
          2,
          8.5,
          7.413489736070381,
          7.5947051226861815,
          6.5,
          7.417030028794735,
          7.6,
          7.395604395604396,
          6.75,
          8,
          8.375,
          6.764705882352941,
          6.25,
          4,
          8,
          7.648148148148148,
          7.6923076923076925,
          7.354166666666667,
          7.463414634146342,
          7.714285714285714,
          8.619489559164734,
          7.505995203836931,
          6.67741935483871,
          7.501945525291829,
          6,
          7.623342175066313,
          7.75,
          5.333333333333333,
          6.888888888888889,
          9,
          7.902777777777778,
          6.473684210526316,
          5,
          8,
          7.68,
          6.980769230769231,
          8.333333333333334,
          7,
          7.430898092135877,
          8.1,
          10,
          7.443243243243243,
          8.666666666666666,
          7.666666666666667,
          10,
          8,
          8,
          6.674418604651163,
          7.2,
          7.290169133192389,
          7.4385866517106,
          7.5,
          8.75,
          7.45925925925926,
          4,
          5.909090909090909,
          8,
          6.428571428571429,
          8.11111111111111,
          9,
          7.285714285714286,
          7.866300366300366,
          7.89171974522293,
          7.787184691214845,
          8.333333333333334,
          7.333333333333333,
          9.157327586206897,
          8.454545454545455,
          7.428571428571429,
          7.394308943089431,
          7.230769230769231,
          7.303030303030303,
          8.030927835051546,
          8.218181818181819,
          7.29750346740638,
          6,
          8,
          7.083333333333333,
          6.915760869565218,
          7.536339522546419,
          7.926829268292683,
          8,
          7.666666666666667,
          7.444444444444445,
          8,
          7.615384615384615,
          7,
          7.722222222222222,
          8,
          7,
          7.416666666666667,
          6.666666666666667,
          7.672997634335924,
          7.677383857960408,
          7.4382445835872995,
          7.333333333333333,
          6,
          7.916666666666667,
          8,
          7,
          7.5
         ]
        }
       ],
       "layout": {
        "coloraxis": {
         "colorbar": {
          "title": {
           "text": "Average Rating"
          }
         },
         "colorscale": [
          [
           0,
           "#440154"
          ],
          [
           0.1111111111111111,
           "#482878"
          ],
          [
           0.2222222222222222,
           "#3e4989"
          ],
          [
           0.3333333333333333,
           "#31688e"
          ],
          [
           0.4444444444444444,
           "#26828e"
          ],
          [
           0.5555555555555556,
           "#1f9e89"
          ],
          [
           0.6666666666666666,
           "#35b779"
          ],
          [
           0.7777777777777778,
           "#6ece58"
          ],
          [
           0.8888888888888888,
           "#b5de2b"
          ],
          [
           1,
           "#fde725"
          ]
         ]
        },
        "dragmode": false,
        "geo": {
         "center": {},
         "domain": {
          "x": [
           0,
           1
          ],
          "y": [
           0,
           1
          ]
         },
         "lakecolor": "white",
         "landcolor": "gray",
         "projection": {
          "type": "equirectangular"
         },
         "scope": "world",
         "showcoastlines": false,
         "showframe": false
        },
        "height": 400,
        "legend": {
         "tracegroupgap": 0
        },
        "margin": {
         "t": 60
        },
        "template": {
         "data": {
          "bar": [
           {
            "error_x": {
             "color": "#2a3f5f"
            },
            "error_y": {
             "color": "#2a3f5f"
            },
            "marker": {
             "line": {
              "color": "#E5ECF6",
              "width": 0.5
             }
            },
            "type": "bar"
           }
          ],
          "barpolar": [
           {
            "marker": {
             "line": {
              "color": "#E5ECF6",
              "width": 0.5
             }
            },
            "type": "barpolar"
           }
          ],
          "carpet": [
           {
            "aaxis": {
             "endlinecolor": "#2a3f5f",
             "gridcolor": "white",
             "linecolor": "white",
             "minorgridcolor": "white",
             "startlinecolor": "#2a3f5f"
            },
            "baxis": {
             "endlinecolor": "#2a3f5f",
             "gridcolor": "white",
             "linecolor": "white",
             "minorgridcolor": "white",
             "startlinecolor": "#2a3f5f"
            },
            "type": "carpet"
           }
          ],
          "choropleth": [
           {
            "colorbar": {
             "outlinewidth": 0,
             "ticks": ""
            },
            "type": "choropleth"
           }
          ],
          "contour": [
           {
            "colorbar": {
             "outlinewidth": 0,
             "ticks": ""
            },
            "colorscale": [
             [
              0,
              "#0d0887"
             ],
             [
              0.1111111111111111,
              "#46039f"
             ],
             [
              0.2222222222222222,
              "#7201a8"
             ],
             [
              0.3333333333333333,
              "#9c179e"
             ],
             [
              0.4444444444444444,
              "#bd3786"
             ],
             [
              0.5555555555555556,
              "#d8576b"
             ],
             [
              0.6666666666666666,
              "#ed7953"
             ],
             [
              0.7777777777777778,
              "#fb9f3a"
             ],
             [
              0.8888888888888888,
              "#fdca26"
             ],
             [
              1,
              "#f0f921"
             ]
            ],
            "type": "contour"
           }
          ],
          "contourcarpet": [
           {
            "colorbar": {
             "outlinewidth": 0,
             "ticks": ""
            },
            "type": "contourcarpet"
           }
          ],
          "heatmap": [
           {
            "colorbar": {
             "outlinewidth": 0,
             "ticks": ""
            },
            "colorscale": [
             [
              0,
              "#0d0887"
             ],
             [
              0.1111111111111111,
              "#46039f"
             ],
             [
              0.2222222222222222,
              "#7201a8"
             ],
             [
              0.3333333333333333,
              "#9c179e"
             ],
             [
              0.4444444444444444,
              "#bd3786"
             ],
             [
              0.5555555555555556,
              "#d8576b"
             ],
             [
              0.6666666666666666,
              "#ed7953"
             ],
             [
              0.7777777777777778,
              "#fb9f3a"
             ],
             [
              0.8888888888888888,
              "#fdca26"
             ],
             [
              1,
              "#f0f921"
             ]
            ],
            "type": "heatmap"
           }
          ],
          "heatmapgl": [
           {
            "colorbar": {
             "outlinewidth": 0,
             "ticks": ""
            },
            "colorscale": [
             [
              0,
              "#0d0887"
             ],
             [
              0.1111111111111111,
              "#46039f"
             ],
             [
              0.2222222222222222,
              "#7201a8"
             ],
             [
              0.3333333333333333,
              "#9c179e"
             ],
             [
              0.4444444444444444,
              "#bd3786"
             ],
             [
              0.5555555555555556,
              "#d8576b"
             ],
             [
              0.6666666666666666,
              "#ed7953"
             ],
             [
              0.7777777777777778,
              "#fb9f3a"
             ],
             [
              0.8888888888888888,
              "#fdca26"
             ],
             [
              1,
              "#f0f921"
             ]
            ],
            "type": "heatmapgl"
           }
          ],
          "histogram": [
           {
            "marker": {
             "colorbar": {
              "outlinewidth": 0,
              "ticks": ""
             }
            },
            "type": "histogram"
           }
          ],
          "histogram2d": [
           {
            "colorbar": {
             "outlinewidth": 0,
             "ticks": ""
            },
            "colorscale": [
             [
              0,
              "#0d0887"
             ],
             [
              0.1111111111111111,
              "#46039f"
             ],
             [
              0.2222222222222222,
              "#7201a8"
             ],
             [
              0.3333333333333333,
              "#9c179e"
             ],
             [
              0.4444444444444444,
              "#bd3786"
             ],
             [
              0.5555555555555556,
              "#d8576b"
             ],
             [
              0.6666666666666666,
              "#ed7953"
             ],
             [
              0.7777777777777778,
              "#fb9f3a"
             ],
             [
              0.8888888888888888,
              "#fdca26"
             ],
             [
              1,
              "#f0f921"
             ]
            ],
            "type": "histogram2d"
           }
          ],
          "histogram2dcontour": [
           {
            "colorbar": {
             "outlinewidth": 0,
             "ticks": ""
            },
            "colorscale": [
             [
              0,
              "#0d0887"
             ],
             [
              0.1111111111111111,
              "#46039f"
             ],
             [
              0.2222222222222222,
              "#7201a8"
             ],
             [
              0.3333333333333333,
              "#9c179e"
             ],
             [
              0.4444444444444444,
              "#bd3786"
             ],
             [
              0.5555555555555556,
              "#d8576b"
             ],
             [
              0.6666666666666666,
              "#ed7953"
             ],
             [
              0.7777777777777778,
              "#fb9f3a"
             ],
             [
              0.8888888888888888,
              "#fdca26"
             ],
             [
              1,
              "#f0f921"
             ]
            ],
            "type": "histogram2dcontour"
           }
          ],
          "mesh3d": [
           {
            "colorbar": {
             "outlinewidth": 0,
             "ticks": ""
            },
            "type": "mesh3d"
           }
          ],
          "parcoords": [
           {
            "line": {
             "colorbar": {
              "outlinewidth": 0,
              "ticks": ""
             }
            },
            "type": "parcoords"
           }
          ],
          "pie": [
           {
            "automargin": true,
            "type": "pie"
           }
          ],
          "scatter": [
           {
            "marker": {
             "colorbar": {
              "outlinewidth": 0,
              "ticks": ""
             }
            },
            "type": "scatter"
           }
          ],
          "scatter3d": [
           {
            "line": {
             "colorbar": {
              "outlinewidth": 0,
              "ticks": ""
             }
            },
            "marker": {
             "colorbar": {
              "outlinewidth": 0,
              "ticks": ""
             }
            },
            "type": "scatter3d"
           }
          ],
          "scattercarpet": [
           {
            "marker": {
             "colorbar": {
              "outlinewidth": 0,
              "ticks": ""
             }
            },
            "type": "scattercarpet"
           }
          ],
          "scattergeo": [
           {
            "marker": {
             "colorbar": {
              "outlinewidth": 0,
              "ticks": ""
             }
            },
            "type": "scattergeo"
           }
          ],
          "scattergl": [
           {
            "marker": {
             "colorbar": {
              "outlinewidth": 0,
              "ticks": ""
             }
            },
            "type": "scattergl"
           }
          ],
          "scattermapbox": [
           {
            "marker": {
             "colorbar": {
              "outlinewidth": 0,
              "ticks": ""
             }
            },
            "type": "scattermapbox"
           }
          ],
          "scatterpolar": [
           {
            "marker": {
             "colorbar": {
              "outlinewidth": 0,
              "ticks": ""
             }
            },
            "type": "scatterpolar"
           }
          ],
          "scatterpolargl": [
           {
            "marker": {
             "colorbar": {
              "outlinewidth": 0,
              "ticks": ""
             }
            },
            "type": "scatterpolargl"
           }
          ],
          "scatterternary": [
           {
            "marker": {
             "colorbar": {
              "outlinewidth": 0,
              "ticks": ""
             }
            },
            "type": "scatterternary"
           }
          ],
          "surface": [
           {
            "colorbar": {
             "outlinewidth": 0,
             "ticks": ""
            },
            "colorscale": [
             [
              0,
              "#0d0887"
             ],
             [
              0.1111111111111111,
              "#46039f"
             ],
             [
              0.2222222222222222,
              "#7201a8"
             ],
             [
              0.3333333333333333,
              "#9c179e"
             ],
             [
              0.4444444444444444,
              "#bd3786"
             ],
             [
              0.5555555555555556,
              "#d8576b"
             ],
             [
              0.6666666666666666,
              "#ed7953"
             ],
             [
              0.7777777777777778,
              "#fb9f3a"
             ],
             [
              0.8888888888888888,
              "#fdca26"
             ],
             [
              1,
              "#f0f921"
             ]
            ],
            "type": "surface"
           }
          ],
          "table": [
           {
            "cells": {
             "fill": {
              "color": "#EBF0F8"
             },
             "line": {
              "color": "white"
             }
            },
            "header": {
             "fill": {
              "color": "#C8D4E3"
             },
             "line": {
              "color": "white"
             }
            },
            "type": "table"
           }
          ]
         },
         "layout": {
          "annotationdefaults": {
           "arrowcolor": "#2a3f5f",
           "arrowhead": 0,
           "arrowwidth": 1
          },
          "coloraxis": {
           "colorbar": {
            "outlinewidth": 0,
            "ticks": ""
           }
          },
          "colorscale": {
           "diverging": [
            [
             0,
             "#8e0152"
            ],
            [
             0.1,
             "#c51b7d"
            ],
            [
             0.2,
             "#de77ae"
            ],
            [
             0.3,
             "#f1b6da"
            ],
            [
             0.4,
             "#fde0ef"
            ],
            [
             0.5,
             "#f7f7f7"
            ],
            [
             0.6,
             "#e6f5d0"
            ],
            [
             0.7,
             "#b8e186"
            ],
            [
             0.8,
             "#7fbc41"
            ],
            [
             0.9,
             "#4d9221"
            ],
            [
             1,
             "#276419"
            ]
           ],
           "sequential": [
            [
             0,
             "#0d0887"
            ],
            [
             0.1111111111111111,
             "#46039f"
            ],
            [
             0.2222222222222222,
             "#7201a8"
            ],
            [
             0.3333333333333333,
             "#9c179e"
            ],
            [
             0.4444444444444444,
             "#bd3786"
            ],
            [
             0.5555555555555556,
             "#d8576b"
            ],
            [
             0.6666666666666666,
             "#ed7953"
            ],
            [
             0.7777777777777778,
             "#fb9f3a"
            ],
            [
             0.8888888888888888,
             "#fdca26"
            ],
            [
             1,
             "#f0f921"
            ]
           ],
           "sequentialminus": [
            [
             0,
             "#0d0887"
            ],
            [
             0.1111111111111111,
             "#46039f"
            ],
            [
             0.2222222222222222,
             "#7201a8"
            ],
            [
             0.3333333333333333,
             "#9c179e"
            ],
            [
             0.4444444444444444,
             "#bd3786"
            ],
            [
             0.5555555555555556,
             "#d8576b"
            ],
            [
             0.6666666666666666,
             "#ed7953"
            ],
            [
             0.7777777777777778,
             "#fb9f3a"
            ],
            [
             0.8888888888888888,
             "#fdca26"
            ],
            [
             1,
             "#f0f921"
            ]
           ]
          },
          "colorway": [
           "#636efa",
           "#EF553B",
           "#00cc96",
           "#ab63fa",
           "#FFA15A",
           "#19d3f3",
           "#FF6692",
           "#B6E880",
           "#FF97FF",
           "#FECB52"
          ],
          "font": {
           "color": "#2a3f5f"
          },
          "geo": {
           "bgcolor": "white",
           "lakecolor": "white",
           "landcolor": "#E5ECF6",
           "showlakes": true,
           "showland": true,
           "subunitcolor": "white"
          },
          "hoverlabel": {
           "align": "left"
          },
          "hovermode": "closest",
          "mapbox": {
           "style": "light"
          },
          "paper_bgcolor": "white",
          "plot_bgcolor": "#E5ECF6",
          "polar": {
           "angularaxis": {
            "gridcolor": "white",
            "linecolor": "white",
            "ticks": ""
           },
           "bgcolor": "#E5ECF6",
           "radialaxis": {
            "gridcolor": "white",
            "linecolor": "white",
            "ticks": ""
           }
          },
          "scene": {
           "xaxis": {
            "backgroundcolor": "#E5ECF6",
            "gridcolor": "white",
            "gridwidth": 2,
            "linecolor": "white",
            "showbackground": true,
            "ticks": "",
            "zerolinecolor": "white"
           },
           "yaxis": {
            "backgroundcolor": "#E5ECF6",
            "gridcolor": "white",
            "gridwidth": 2,
            "linecolor": "white",
            "showbackground": true,
            "ticks": "",
            "zerolinecolor": "white"
           },
           "zaxis": {
            "backgroundcolor": "#E5ECF6",
            "gridcolor": "white",
            "gridwidth": 2,
            "linecolor": "white",
            "showbackground": true,
            "ticks": "",
            "zerolinecolor": "white"
           }
          },
          "shapedefaults": {
           "line": {
            "color": "#2a3f5f"
           }
          },
          "ternary": {
           "aaxis": {
            "gridcolor": "white",
            "linecolor": "white",
            "ticks": ""
           },
           "baxis": {
            "gridcolor": "white",
            "linecolor": "white",
            "ticks": ""
           },
           "bgcolor": "#E5ECF6",
           "caxis": {
            "gridcolor": "white",
            "linecolor": "white",
            "ticks": ""
           }
          },
          "title": {
           "x": 0.05
          },
          "xaxis": {
           "automargin": true,
           "gridcolor": "white",
           "linecolor": "white",
           "ticks": "",
           "title": {
            "standoff": 15
           },
           "zerolinecolor": "white",
           "zerolinewidth": 2
          },
          "yaxis": {
           "automargin": true,
           "gridcolor": "white",
           "linecolor": "white",
           "ticks": "",
           "title": {
            "standoff": 15
           },
           "zerolinecolor": "white",
           "zerolinewidth": 2
          }
         }
        },
        "title": {
         "text": "Average Rating per Country",
         "x": 0.5,
         "y": 0.95
        },
        "width": 800
       }
      }
     },
     "metadata": {},
     "output_type": "display_data"
    }
   ],
   "source": [
    "import plotly.express as px\n",
    "\n",
    "fig =px.choropleth(country_group, \n",
    "                   locations='Country',\n",
    "                   color='Average Rating',\n",
    "                   locationmode='country names',\n",
    "                   hover_name='Country',\n",
    "                   projection=\"natural earth\",\n",
    "                   scope=\"world\",\n",
    "                   color_continuous_scale=px.colors.sequential.Viridis)\n",
    "\n",
    "fig.update_layout(\n",
    "    title_text=\"Average Rating per Country\",\n",
    "    title_x=0.5,\n",
    "    title_y=0.95,\n",
    "    geo=dict(showframe=False,\n",
    "             showcoastlines=False,\n",
    "             projection_type='equirectangular',\n",
    "             scope='world',\n",
    "             landcolor='gray',\n",
    "             lakecolor='white'),\n",
    "    height=400,\n",
    "    width=800,\n",
    "    dragmode=False\n",
    ")\n",
    "fig.show()"
   ]
  },
  {
   "attachments": {},
   "cell_type": "markdown",
   "metadata": {},
   "source": [
    "**Visualizing the average age of the readers per country**"
   ]
  },
  {
   "cell_type": "code",
   "execution_count": 46,
   "metadata": {},
   "outputs": [
    {
     "data": {
      "text/html": [
       "<div>\n",
       "<style scoped>\n",
       "    .dataframe tbody tr th:only-of-type {\n",
       "        vertical-align: middle;\n",
       "    }\n",
       "\n",
       "    .dataframe tbody tr th {\n",
       "        vertical-align: top;\n",
       "    }\n",
       "\n",
       "    .dataframe thead th {\n",
       "        text-align: right;\n",
       "    }\n",
       "</style>\n",
       "<table border=\"1\" class=\"dataframe\">\n",
       "  <thead>\n",
       "    <tr style=\"text-align: right;\">\n",
       "      <th></th>\n",
       "      <th>Country</th>\n",
       "      <th>Average Age</th>\n",
       "    </tr>\n",
       "  </thead>\n",
       "  <tbody>\n",
       "    <tr>\n",
       "      <th>0</th>\n",
       "      <td>Afghanistan</td>\n",
       "      <td>56.666667</td>\n",
       "    </tr>\n",
       "    <tr>\n",
       "      <th>1</th>\n",
       "      <td>Albania</td>\n",
       "      <td>35.000000</td>\n",
       "    </tr>\n",
       "  </tbody>\n",
       "</table>\n",
       "</div>"
      ],
      "text/plain": [
       "       Country  Average Age\n",
       "0  Afghanistan    56.666667\n",
       "1      Albania    35.000000"
      ]
     },
     "execution_count": 46,
     "metadata": {},
     "output_type": "execute_result"
    }
   ],
   "source": [
    "country_group = pd.DataFrame(complete_df.groupby('Location_clean')['Age'].mean()).reset_index()\n",
    "country_group.columns=['Country', 'Average Age']\n",
    "country_group.head(2)"
   ]
  },
  {
   "cell_type": "code",
   "execution_count": 47,
   "metadata": {},
   "outputs": [
    {
     "data": {
      "application/vnd.plotly.v1+json": {
       "config": {
        "plotlyServerURL": "https://plot.ly"
       },
       "data": [
        {
         "coloraxis": "coloraxis",
         "geo": "geo",
         "hovertemplate": "<b>%{hovertext}</b><br><br>Country=%{location}<br>Average Age=%{z}<extra></extra>",
         "hovertext": [
          "Afghanistan",
          "Albania",
          "Algeria",
          "Andorra",
          "Angola",
          "Antarctica",
          "Antigua and Barbuda",
          "Argentina",
          "Aruba",
          "Australia",
          "Austria",
          "Bahamas",
          "Bahrain",
          "Bangladesh",
          "Barbados",
          "Belgium",
          "Belize",
          "Benin",
          "Bermuda",
          "Bolivia",
          "Brazil",
          "Brunei Darussalam",
          "Bulgaria",
          "Cabo Verde",
          "Cambodia",
          "Cameroon",
          "Canada",
          "Cayman Islands",
          "Channel Islands",
          "Chile",
          "China",
          "Colombia",
          "Costa Rica",
          "Croatia",
          "Cuba",
          "Cyprus",
          "Czech Republic",
          "Denmark",
          "Dominican Republic",
          "Ecuador",
          "Egypt",
          "El Salvador",
          "Estonia",
          "Fiji",
          "Finland",
          "France",
          "Gabon",
          "Germany",
          "Ghana",
          "Greece",
          "Grenada",
          "Guam",
          "Guatemala",
          "Guernsey",
          "Guinea",
          "Guinea-Bissau",
          "Honduras",
          "Hong Kong",
          "Hungary",
          "Iceland",
          "India",
          "Indonesia",
          "Iran",
          "Ireland",
          "Israel",
          "Italy",
          "Jamaica",
          "Japan",
          "Jersey",
          "Kazakhstan",
          "Kenya",
          "Kosovo",
          "Kuwait",
          "Laos",
          "Latvia",
          "Lebanon",
          "Lithuania",
          "Luxembourg",
          "Macedonia",
          "Madagascar",
          "Malaysia",
          "Malta",
          "Mauritius",
          "Mexico",
          "Moldova",
          "Monaco",
          "Mongolia",
          "Morocco",
          "Mozambique",
          "Myanmar",
          "Nepal",
          "Netherlands",
          "New Zealand",
          "Niger",
          "Nigeria",
          "Norway",
          "Oman",
          "Pakistan",
          "Palau",
          "Panama",
          "Papua New Guinea",
          "Paraguay",
          "Peru",
          "Philippines",
          "Poland",
          "Portugal",
          "Puerto Rico",
          "Qatar",
          "Romania",
          "Russia",
          "Saudi Arabia",
          "Singapore",
          "Slovakia",
          "Slovenia",
          "South Africa",
          "South Korea",
          "Spain",
          "Sri Lanka",
          "St. Helena",
          "St. Lucia",
          "Sweden",
          "Switzerland",
          "Taiwan",
          "Tajikistan",
          "Tanzania",
          "Thailand",
          "Tonga",
          "Trinidad and Tobago",
          "Tunisia",
          "Turkey",
          "Turkmenistan",
          "Uganda",
          "Ukraine",
          "United Arab Emirates",
          "United Kingdom",
          "United States",
          "Unknown",
          "Uruguay",
          "Uzbekistan",
          "Venezuela",
          "Vietnam",
          "Zambia",
          "Zimbabwe"
         ],
         "locationmode": "country names",
         "locations": [
          "Afghanistan",
          "Albania",
          "Algeria",
          "Andorra",
          "Angola",
          "Antarctica",
          "Antigua and Barbuda",
          "Argentina",
          "Aruba",
          "Australia",
          "Austria",
          "Bahamas",
          "Bahrain",
          "Bangladesh",
          "Barbados",
          "Belgium",
          "Belize",
          "Benin",
          "Bermuda",
          "Bolivia",
          "Brazil",
          "Brunei Darussalam",
          "Bulgaria",
          "Cabo Verde",
          "Cambodia",
          "Cameroon",
          "Canada",
          "Cayman Islands",
          "Channel Islands",
          "Chile",
          "China",
          "Colombia",
          "Costa Rica",
          "Croatia",
          "Cuba",
          "Cyprus",
          "Czech Republic",
          "Denmark",
          "Dominican Republic",
          "Ecuador",
          "Egypt",
          "El Salvador",
          "Estonia",
          "Fiji",
          "Finland",
          "France",
          "Gabon",
          "Germany",
          "Ghana",
          "Greece",
          "Grenada",
          "Guam",
          "Guatemala",
          "Guernsey",
          "Guinea",
          "Guinea-Bissau",
          "Honduras",
          "Hong Kong",
          "Hungary",
          "Iceland",
          "India",
          "Indonesia",
          "Iran",
          "Ireland",
          "Israel",
          "Italy",
          "Jamaica",
          "Japan",
          "Jersey",
          "Kazakhstan",
          "Kenya",
          "Kosovo",
          "Kuwait",
          "Laos",
          "Latvia",
          "Lebanon",
          "Lithuania",
          "Luxembourg",
          "Macedonia",
          "Madagascar",
          "Malaysia",
          "Malta",
          "Mauritius",
          "Mexico",
          "Moldova",
          "Monaco",
          "Mongolia",
          "Morocco",
          "Mozambique",
          "Myanmar",
          "Nepal",
          "Netherlands",
          "New Zealand",
          "Niger",
          "Nigeria",
          "Norway",
          "Oman",
          "Pakistan",
          "Palau",
          "Panama",
          "Papua New Guinea",
          "Paraguay",
          "Peru",
          "Philippines",
          "Poland",
          "Portugal",
          "Puerto Rico",
          "Qatar",
          "Romania",
          "Russia",
          "Saudi Arabia",
          "Singapore",
          "Slovakia",
          "Slovenia",
          "South Africa",
          "South Korea",
          "Spain",
          "Sri Lanka",
          "St. Helena",
          "St. Lucia",
          "Sweden",
          "Switzerland",
          "Taiwan",
          "Tajikistan",
          "Tanzania",
          "Thailand",
          "Tonga",
          "Trinidad and Tobago",
          "Tunisia",
          "Turkey",
          "Turkmenistan",
          "Uganda",
          "Ukraine",
          "United Arab Emirates",
          "United Kingdom",
          "United States",
          "Unknown",
          "Uruguay",
          "Uzbekistan",
          "Venezuela",
          "Vietnam",
          "Zambia",
          "Zimbabwe"
         ],
         "name": "",
         "type": "choropleth",
         "z": [
          56.666666666666664,
          35,
          34,
          34,
          51,
          35,
          31.5,
          32.259887005649716,
          34.34375,
          34.382491775139464,
          32.38229927007299,
          40.05882352941177,
          32,
          15,
          26.5,
          31.77900552486188,
          39.666666666666664,
          17.5,
          37.642857142857146,
          35,
          37.01385681293303,
          16.666666666666668,
          31.96078431372549,
          32.75,
          35,
          27.5,
          35.94805340829234,
          38,
          35,
          24.02173913043478,
          29.163987138263664,
          22,
          37.75609756097561,
          24.533333333333335,
          16,
          35.529411764705884,
          27.142857142857142,
          29.743055555555557,
          29.70448548812665,
          31.4,
          34.523809523809526,
          35,
          35,
          28,
          27.81524926686217,
          30.76194575979337,
          49,
          32.752612093788564,
          37.2,
          33.417582417582416,
          47.25,
          39,
          28.875,
          34.05882352941177,
          35,
          39,
          46.142857142857146,
          32.02777777777778,
          33.73076923076923,
          29.270833333333332,
          27.524390243902438,
          28.571428571428573,
          31.51276102088167,
          34.39808153477218,
          30,
          33.43060959792477,
          37,
          32.61803713527851,
          37,
          35,
          36.666666666666664,
          35,
          25.944444444444443,
          35,
          35,
          19,
          23.72,
          31.75,
          29.333333333333332,
          34,
          26.546300604932526,
          30.9,
          29,
          37.178378378378376,
          26.666666666666668,
          36.666666666666664,
          36,
          35.333333333333336,
          30,
          136,
          30.6,
          37.9323467230444,
          35.20583286595625,
          35,
          23.5,
          30.87037037037037,
          64,
          29.636363636363637,
          35,
          45,
          23,
          30.5,
          28.571428571428573,
          24.507326007326007,
          22.337579617834393,
          29.77094810089881,
          28.333333333333332,
          29.11764705882353,
          23.10560344827586,
          28.818181818181817,
          44.142857142857146,
          30.974254742547426,
          27.615384615384617,
          24.636363636363637,
          30.38144329896907,
          31.945454545454545,
          33.214285714285715,
          35.5,
          35,
          34.416666666666664,
          32.76358695652174,
          37.257824933687004,
          38.548780487804876,
          52,
          38.333333333333336,
          34.111111111111114,
          56,
          34.282051282051285,
          34,
          32.80555555555556,
          35,
          26,
          35,
          34.666666666666664,
          36.47509293680297,
          37.04658246741626,
          36.50313071424613,
          45.833333333333336,
          35,
          34.77777777777778,
          24.166666666666668,
          55,
          48.5
         ]
        }
       ],
       "layout": {
        "coloraxis": {
         "colorbar": {
          "title": {
           "text": "Average Age"
          }
         },
         "colorscale": [
          [
           0,
           "#440154"
          ],
          [
           0.1111111111111111,
           "#482878"
          ],
          [
           0.2222222222222222,
           "#3e4989"
          ],
          [
           0.3333333333333333,
           "#31688e"
          ],
          [
           0.4444444444444444,
           "#26828e"
          ],
          [
           0.5555555555555556,
           "#1f9e89"
          ],
          [
           0.6666666666666666,
           "#35b779"
          ],
          [
           0.7777777777777778,
           "#6ece58"
          ],
          [
           0.8888888888888888,
           "#b5de2b"
          ],
          [
           1,
           "#fde725"
          ]
         ]
        },
        "dragmode": false,
        "geo": {
         "center": {},
         "domain": {
          "x": [
           0,
           1
          ],
          "y": [
           0,
           1
          ]
         },
         "lakecolor": "white",
         "landcolor": "gray",
         "projection": {
          "type": "equirectangular"
         },
         "scope": "world",
         "showcoastlines": false,
         "showframe": false
        },
        "height": 400,
        "legend": {
         "tracegroupgap": 0
        },
        "margin": {
         "t": 60
        },
        "template": {
         "data": {
          "bar": [
           {
            "error_x": {
             "color": "#2a3f5f"
            },
            "error_y": {
             "color": "#2a3f5f"
            },
            "marker": {
             "line": {
              "color": "#E5ECF6",
              "width": 0.5
             }
            },
            "type": "bar"
           }
          ],
          "barpolar": [
           {
            "marker": {
             "line": {
              "color": "#E5ECF6",
              "width": 0.5
             }
            },
            "type": "barpolar"
           }
          ],
          "carpet": [
           {
            "aaxis": {
             "endlinecolor": "#2a3f5f",
             "gridcolor": "white",
             "linecolor": "white",
             "minorgridcolor": "white",
             "startlinecolor": "#2a3f5f"
            },
            "baxis": {
             "endlinecolor": "#2a3f5f",
             "gridcolor": "white",
             "linecolor": "white",
             "minorgridcolor": "white",
             "startlinecolor": "#2a3f5f"
            },
            "type": "carpet"
           }
          ],
          "choropleth": [
           {
            "colorbar": {
             "outlinewidth": 0,
             "ticks": ""
            },
            "type": "choropleth"
           }
          ],
          "contour": [
           {
            "colorbar": {
             "outlinewidth": 0,
             "ticks": ""
            },
            "colorscale": [
             [
              0,
              "#0d0887"
             ],
             [
              0.1111111111111111,
              "#46039f"
             ],
             [
              0.2222222222222222,
              "#7201a8"
             ],
             [
              0.3333333333333333,
              "#9c179e"
             ],
             [
              0.4444444444444444,
              "#bd3786"
             ],
             [
              0.5555555555555556,
              "#d8576b"
             ],
             [
              0.6666666666666666,
              "#ed7953"
             ],
             [
              0.7777777777777778,
              "#fb9f3a"
             ],
             [
              0.8888888888888888,
              "#fdca26"
             ],
             [
              1,
              "#f0f921"
             ]
            ],
            "type": "contour"
           }
          ],
          "contourcarpet": [
           {
            "colorbar": {
             "outlinewidth": 0,
             "ticks": ""
            },
            "type": "contourcarpet"
           }
          ],
          "heatmap": [
           {
            "colorbar": {
             "outlinewidth": 0,
             "ticks": ""
            },
            "colorscale": [
             [
              0,
              "#0d0887"
             ],
             [
              0.1111111111111111,
              "#46039f"
             ],
             [
              0.2222222222222222,
              "#7201a8"
             ],
             [
              0.3333333333333333,
              "#9c179e"
             ],
             [
              0.4444444444444444,
              "#bd3786"
             ],
             [
              0.5555555555555556,
              "#d8576b"
             ],
             [
              0.6666666666666666,
              "#ed7953"
             ],
             [
              0.7777777777777778,
              "#fb9f3a"
             ],
             [
              0.8888888888888888,
              "#fdca26"
             ],
             [
              1,
              "#f0f921"
             ]
            ],
            "type": "heatmap"
           }
          ],
          "heatmapgl": [
           {
            "colorbar": {
             "outlinewidth": 0,
             "ticks": ""
            },
            "colorscale": [
             [
              0,
              "#0d0887"
             ],
             [
              0.1111111111111111,
              "#46039f"
             ],
             [
              0.2222222222222222,
              "#7201a8"
             ],
             [
              0.3333333333333333,
              "#9c179e"
             ],
             [
              0.4444444444444444,
              "#bd3786"
             ],
             [
              0.5555555555555556,
              "#d8576b"
             ],
             [
              0.6666666666666666,
              "#ed7953"
             ],
             [
              0.7777777777777778,
              "#fb9f3a"
             ],
             [
              0.8888888888888888,
              "#fdca26"
             ],
             [
              1,
              "#f0f921"
             ]
            ],
            "type": "heatmapgl"
           }
          ],
          "histogram": [
           {
            "marker": {
             "colorbar": {
              "outlinewidth": 0,
              "ticks": ""
             }
            },
            "type": "histogram"
           }
          ],
          "histogram2d": [
           {
            "colorbar": {
             "outlinewidth": 0,
             "ticks": ""
            },
            "colorscale": [
             [
              0,
              "#0d0887"
             ],
             [
              0.1111111111111111,
              "#46039f"
             ],
             [
              0.2222222222222222,
              "#7201a8"
             ],
             [
              0.3333333333333333,
              "#9c179e"
             ],
             [
              0.4444444444444444,
              "#bd3786"
             ],
             [
              0.5555555555555556,
              "#d8576b"
             ],
             [
              0.6666666666666666,
              "#ed7953"
             ],
             [
              0.7777777777777778,
              "#fb9f3a"
             ],
             [
              0.8888888888888888,
              "#fdca26"
             ],
             [
              1,
              "#f0f921"
             ]
            ],
            "type": "histogram2d"
           }
          ],
          "histogram2dcontour": [
           {
            "colorbar": {
             "outlinewidth": 0,
             "ticks": ""
            },
            "colorscale": [
             [
              0,
              "#0d0887"
             ],
             [
              0.1111111111111111,
              "#46039f"
             ],
             [
              0.2222222222222222,
              "#7201a8"
             ],
             [
              0.3333333333333333,
              "#9c179e"
             ],
             [
              0.4444444444444444,
              "#bd3786"
             ],
             [
              0.5555555555555556,
              "#d8576b"
             ],
             [
              0.6666666666666666,
              "#ed7953"
             ],
             [
              0.7777777777777778,
              "#fb9f3a"
             ],
             [
              0.8888888888888888,
              "#fdca26"
             ],
             [
              1,
              "#f0f921"
             ]
            ],
            "type": "histogram2dcontour"
           }
          ],
          "mesh3d": [
           {
            "colorbar": {
             "outlinewidth": 0,
             "ticks": ""
            },
            "type": "mesh3d"
           }
          ],
          "parcoords": [
           {
            "line": {
             "colorbar": {
              "outlinewidth": 0,
              "ticks": ""
             }
            },
            "type": "parcoords"
           }
          ],
          "pie": [
           {
            "automargin": true,
            "type": "pie"
           }
          ],
          "scatter": [
           {
            "marker": {
             "colorbar": {
              "outlinewidth": 0,
              "ticks": ""
             }
            },
            "type": "scatter"
           }
          ],
          "scatter3d": [
           {
            "line": {
             "colorbar": {
              "outlinewidth": 0,
              "ticks": ""
             }
            },
            "marker": {
             "colorbar": {
              "outlinewidth": 0,
              "ticks": ""
             }
            },
            "type": "scatter3d"
           }
          ],
          "scattercarpet": [
           {
            "marker": {
             "colorbar": {
              "outlinewidth": 0,
              "ticks": ""
             }
            },
            "type": "scattercarpet"
           }
          ],
          "scattergeo": [
           {
            "marker": {
             "colorbar": {
              "outlinewidth": 0,
              "ticks": ""
             }
            },
            "type": "scattergeo"
           }
          ],
          "scattergl": [
           {
            "marker": {
             "colorbar": {
              "outlinewidth": 0,
              "ticks": ""
             }
            },
            "type": "scattergl"
           }
          ],
          "scattermapbox": [
           {
            "marker": {
             "colorbar": {
              "outlinewidth": 0,
              "ticks": ""
             }
            },
            "type": "scattermapbox"
           }
          ],
          "scatterpolar": [
           {
            "marker": {
             "colorbar": {
              "outlinewidth": 0,
              "ticks": ""
             }
            },
            "type": "scatterpolar"
           }
          ],
          "scatterpolargl": [
           {
            "marker": {
             "colorbar": {
              "outlinewidth": 0,
              "ticks": ""
             }
            },
            "type": "scatterpolargl"
           }
          ],
          "scatterternary": [
           {
            "marker": {
             "colorbar": {
              "outlinewidth": 0,
              "ticks": ""
             }
            },
            "type": "scatterternary"
           }
          ],
          "surface": [
           {
            "colorbar": {
             "outlinewidth": 0,
             "ticks": ""
            },
            "colorscale": [
             [
              0,
              "#0d0887"
             ],
             [
              0.1111111111111111,
              "#46039f"
             ],
             [
              0.2222222222222222,
              "#7201a8"
             ],
             [
              0.3333333333333333,
              "#9c179e"
             ],
             [
              0.4444444444444444,
              "#bd3786"
             ],
             [
              0.5555555555555556,
              "#d8576b"
             ],
             [
              0.6666666666666666,
              "#ed7953"
             ],
             [
              0.7777777777777778,
              "#fb9f3a"
             ],
             [
              0.8888888888888888,
              "#fdca26"
             ],
             [
              1,
              "#f0f921"
             ]
            ],
            "type": "surface"
           }
          ],
          "table": [
           {
            "cells": {
             "fill": {
              "color": "#EBF0F8"
             },
             "line": {
              "color": "white"
             }
            },
            "header": {
             "fill": {
              "color": "#C8D4E3"
             },
             "line": {
              "color": "white"
             }
            },
            "type": "table"
           }
          ]
         },
         "layout": {
          "annotationdefaults": {
           "arrowcolor": "#2a3f5f",
           "arrowhead": 0,
           "arrowwidth": 1
          },
          "coloraxis": {
           "colorbar": {
            "outlinewidth": 0,
            "ticks": ""
           }
          },
          "colorscale": {
           "diverging": [
            [
             0,
             "#8e0152"
            ],
            [
             0.1,
             "#c51b7d"
            ],
            [
             0.2,
             "#de77ae"
            ],
            [
             0.3,
             "#f1b6da"
            ],
            [
             0.4,
             "#fde0ef"
            ],
            [
             0.5,
             "#f7f7f7"
            ],
            [
             0.6,
             "#e6f5d0"
            ],
            [
             0.7,
             "#b8e186"
            ],
            [
             0.8,
             "#7fbc41"
            ],
            [
             0.9,
             "#4d9221"
            ],
            [
             1,
             "#276419"
            ]
           ],
           "sequential": [
            [
             0,
             "#0d0887"
            ],
            [
             0.1111111111111111,
             "#46039f"
            ],
            [
             0.2222222222222222,
             "#7201a8"
            ],
            [
             0.3333333333333333,
             "#9c179e"
            ],
            [
             0.4444444444444444,
             "#bd3786"
            ],
            [
             0.5555555555555556,
             "#d8576b"
            ],
            [
             0.6666666666666666,
             "#ed7953"
            ],
            [
             0.7777777777777778,
             "#fb9f3a"
            ],
            [
             0.8888888888888888,
             "#fdca26"
            ],
            [
             1,
             "#f0f921"
            ]
           ],
           "sequentialminus": [
            [
             0,
             "#0d0887"
            ],
            [
             0.1111111111111111,
             "#46039f"
            ],
            [
             0.2222222222222222,
             "#7201a8"
            ],
            [
             0.3333333333333333,
             "#9c179e"
            ],
            [
             0.4444444444444444,
             "#bd3786"
            ],
            [
             0.5555555555555556,
             "#d8576b"
            ],
            [
             0.6666666666666666,
             "#ed7953"
            ],
            [
             0.7777777777777778,
             "#fb9f3a"
            ],
            [
             0.8888888888888888,
             "#fdca26"
            ],
            [
             1,
             "#f0f921"
            ]
           ]
          },
          "colorway": [
           "#636efa",
           "#EF553B",
           "#00cc96",
           "#ab63fa",
           "#FFA15A",
           "#19d3f3",
           "#FF6692",
           "#B6E880",
           "#FF97FF",
           "#FECB52"
          ],
          "font": {
           "color": "#2a3f5f"
          },
          "geo": {
           "bgcolor": "white",
           "lakecolor": "white",
           "landcolor": "#E5ECF6",
           "showlakes": true,
           "showland": true,
           "subunitcolor": "white"
          },
          "hoverlabel": {
           "align": "left"
          },
          "hovermode": "closest",
          "mapbox": {
           "style": "light"
          },
          "paper_bgcolor": "white",
          "plot_bgcolor": "#E5ECF6",
          "polar": {
           "angularaxis": {
            "gridcolor": "white",
            "linecolor": "white",
            "ticks": ""
           },
           "bgcolor": "#E5ECF6",
           "radialaxis": {
            "gridcolor": "white",
            "linecolor": "white",
            "ticks": ""
           }
          },
          "scene": {
           "xaxis": {
            "backgroundcolor": "#E5ECF6",
            "gridcolor": "white",
            "gridwidth": 2,
            "linecolor": "white",
            "showbackground": true,
            "ticks": "",
            "zerolinecolor": "white"
           },
           "yaxis": {
            "backgroundcolor": "#E5ECF6",
            "gridcolor": "white",
            "gridwidth": 2,
            "linecolor": "white",
            "showbackground": true,
            "ticks": "",
            "zerolinecolor": "white"
           },
           "zaxis": {
            "backgroundcolor": "#E5ECF6",
            "gridcolor": "white",
            "gridwidth": 2,
            "linecolor": "white",
            "showbackground": true,
            "ticks": "",
            "zerolinecolor": "white"
           }
          },
          "shapedefaults": {
           "line": {
            "color": "#2a3f5f"
           }
          },
          "ternary": {
           "aaxis": {
            "gridcolor": "white",
            "linecolor": "white",
            "ticks": ""
           },
           "baxis": {
            "gridcolor": "white",
            "linecolor": "white",
            "ticks": ""
           },
           "bgcolor": "#E5ECF6",
           "caxis": {
            "gridcolor": "white",
            "linecolor": "white",
            "ticks": ""
           }
          },
          "title": {
           "x": 0.05
          },
          "xaxis": {
           "automargin": true,
           "gridcolor": "white",
           "linecolor": "white",
           "ticks": "",
           "title": {
            "standoff": 15
           },
           "zerolinecolor": "white",
           "zerolinewidth": 2
          },
          "yaxis": {
           "automargin": true,
           "gridcolor": "white",
           "linecolor": "white",
           "ticks": "",
           "title": {
            "standoff": 15
           },
           "zerolinecolor": "white",
           "zerolinewidth": 2
          }
         }
        },
        "title": {
         "text": "Average Age per Country",
         "x": 0.5,
         "y": 0.95
        },
        "width": 800
       }
      }
     },
     "metadata": {},
     "output_type": "display_data"
    }
   ],
   "source": [
    "import plotly.express as px\n",
    "\n",
    "fig =px.choropleth(country_group, \n",
    "                   locations='Country',\n",
    "                  color='Average Age',\n",
    "                  locationmode='country names',\n",
    "                hover_name='Country',\n",
    "                projection=\"natural earth\",\n",
    "                scope=\"world\",\n",
    "                color_continuous_scale=px.colors.sequential.Viridis)\n",
    "\n",
    "fig.update_layout(\n",
    "    title_text=\"Average Age per Country\",\n",
    "    title_x=0.5,\n",
    "    title_y=0.95,\n",
    "    geo=dict(showframe=False,\n",
    "             showcoastlines=False,\n",
    "             projection_type='equirectangular',\n",
    "             scope='world',\n",
    "             landcolor='gray',\n",
    "             lakecolor='white'),\n",
    "    height=400,\n",
    "    width=800,\n",
    "    dragmode=False\n",
    ")\n",
    "fig.show()\n",
    "# Observations:\n",
    "  # The graph proves what we had observed earlier. Most readers are under 50."
   ]
  },
  {
   "cell_type": "markdown",
   "metadata": {},
   "source": [
    "**v. Checking the datatypes**"
   ]
  },
  {
   "cell_type": "code",
   "execution_count": 48,
   "metadata": {},
   "outputs": [
    {
     "data": {
      "text/plain": [
       "User-ID             int64\n",
       "ISBN               object\n",
       "Book-Rating         int64\n",
       "Book-Author        object\n",
       "Publisher          object\n",
       "Location           object\n",
       "Age               float64\n",
       "Location_clean     object\n",
       "dtype: object"
      ]
     },
     "execution_count": 48,
     "metadata": {},
     "output_type": "execute_result"
    }
   ],
   "source": [
    "complete_df.dtypes\n",
    "\n",
    "# Observation:\n",
    "    # All the datatypes are correct except for age"
   ]
  },
  {
   "cell_type": "code",
   "execution_count": 49,
   "metadata": {},
   "outputs": [],
   "source": [
    "# Changing the age column datatype\n",
    "complete_df['Age'] = complete_df['Age'].astype(int)"
   ]
  },
  {
   "attachments": {},
   "cell_type": "markdown",
   "metadata": {},
   "source": [
    "# **Modelling**"
   ]
  },
  {
   "attachments": {},
   "cell_type": "markdown",
   "metadata": {},
   "source": [
    "**a. Popularity Based Recommendation**"
   ]
  },
  {
   "attachments": {},
   "cell_type": "markdown",
   "metadata": {},
   "source": [
    "grouped = ratings_books.groupby('ISBN')\n",
    "popular_books = pd.DataFrame(grouped['Book-Rating'].agg([np.size, np.mean]))\n",
    "most_popular = popular_books.sort_values(['mean'], ascending=False)\n",
    "pop=most_popular[most_popular['size']>200]\n",
    "pop_title=list(pop[:10].index)\n",
    "titles=[]\n",
    "for i in pop_title:\n",
    "    titles.append(books_df['Book-Title'].loc[books_df['ISBN']==i].values[0])\n",
    "index=1\n",
    "for i in titles:\n",
    "    print(index,'. ',i)\n",
    "    index+=1"
   ]
  },
  {
   "attachments": {},
   "cell_type": "markdown",
   "metadata": {},
   "source": [
    "**_This is a simple recommendation system that does not focus on user tastes_**"
   ]
  },
  {
   "attachments": {},
   "cell_type": "markdown",
   "metadata": {},
   "source": [
    "**b. CF based recommendation system**"
   ]
  },
  {
   "attachments": {},
   "cell_type": "markdown",
   "metadata": {},
   "source": [
    "* We will not be implementing Collaborative Filtering from scratch. \n",
    " Instead, we will use the Surprise library that used extremely powerful algorithms like\n",
    "**Singular Value Decomposition (SVD) to minimise RMSE (Root Mean Square Error) and give great recommendations.**"
   ]
  },
  {
   "cell_type": "code",
   "execution_count": 50,
   "metadata": {},
   "outputs": [],
   "source": [
    "# surprise reader\n",
    "reader = Reader(rating_scale=(1, 10))"
   ]
  },
  {
   "cell_type": "code",
   "execution_count": 51,
   "metadata": {},
   "outputs": [],
   "source": [
    "data = Dataset.load_from_df(ratings_df[['User-ID', 'ISBN', 'Book-Rating']], reader)\n",
    "\n",
    "trainset, testset = train_test_split(data, test_size=0.25)"
   ]
  },
  {
   "cell_type": "code",
   "execution_count": 52,
   "metadata": {},
   "outputs": [],
   "source": [
    "model = SVD()\n",
    "# cross_validate(model, trainset, measures=['rmse', 'mae'], cv=5)"
   ]
  },
  {
   "cell_type": "code",
   "execution_count": 53,
   "metadata": {},
   "outputs": [
    {
     "data": {
      "text/plain": [
       "<surprise.prediction_algorithms.matrix_factorization.SVD at 0x157b3d9b340>"
      ]
     },
     "execution_count": 53,
     "metadata": {},
     "output_type": "execute_result"
    }
   ],
   "source": [
    "# data_train = data.build_full_trainset()\n",
    "model.fit(trainset)"
   ]
  },
  {
   "cell_type": "code",
   "execution_count": 54,
   "metadata": {},
   "outputs": [],
   "source": [
    "predictions = model.test(testset)"
   ]
  },
  {
   "cell_type": "code",
   "execution_count": 55,
   "metadata": {},
   "outputs": [
    {
     "name": "stdout",
     "output_type": "stream",
     "text": [
      "User 213760 rated book 0375507302 with a rating of 5.0\n",
      "User 130615 rated book 8422697629 with a rating of 6.0\n",
      "User 67442 rated book 0451205804 with a rating of 6.0\n",
      "User 77742 rated book 0156007819 with a rating of 10.0\n",
      "User 142636 rated book 0440229464 with a rating of 7.0\n"
     ]
    }
   ],
   "source": [
    "# Viewing contents of test set\n",
    "for uid, bid, rating in testset[:5]:\n",
    "    print(f\"User {uid} rated book {bid} with a rating of {rating}\")"
   ]
  },
  {
   "cell_type": "code",
   "execution_count": 56,
   "metadata": {},
   "outputs": [
    {
     "name": "stdout",
     "output_type": "stream",
     "text": [
      "user: 213760     item: 0375507302 r_ui = 5.00   est = 7.92   {'was_impossible': False}\n",
      "user: 130615     item: 8422697629 r_ui = 6.00   est = 6.56   {'was_impossible': False}\n",
      "user: 67442      item: 0451205804 r_ui = 6.00   est = 7.12   {'was_impossible': False}\n",
      "user: 77742      item: 0156007819 r_ui = 10.00   est = 7.35   {'was_impossible': False}\n",
      "user: 142636     item: 0440229464 r_ui = 7.00   est = 7.71   {'was_impossible': False}\n"
     ]
    }
   ],
   "source": [
    "# Viewing predictions\n",
    "for prediction in predictions[0:5]:\n",
    "    print(prediction)"
   ]
  },
  {
   "cell_type": "code",
   "execution_count": 57,
   "metadata": {},
   "outputs": [
    {
     "name": "stdout",
     "output_type": "stream",
     "text": [
      "RMSE: 1.6444\n"
     ]
    },
    {
     "data": {
      "text/plain": [
       "1.6444439714633317"
      ]
     },
     "execution_count": 57,
     "metadata": {},
     "output_type": "execute_result"
    }
   ],
   "source": [
    "# Print the performance metrics\n",
    "accuracy.rmse(predictions)"
   ]
  },
  {
   "cell_type": "code",
   "execution_count": 58,
   "metadata": {},
   "outputs": [],
   "source": [
    "true_ratings = [pred.r_ui for pred in predictions]\n",
    "est_ratings = [pred.est for pred in predictions]\n",
    "uids = [pred.uid for pred in predictions]"
   ]
  },
  {
   "attachments": {},
   "cell_type": "markdown",
   "metadata": {},
   "source": [
    "**Recommending unread books to the test set**"
   ]
  },
  {
   "cell_type": "code",
   "execution_count": 59,
   "metadata": {},
   "outputs": [],
   "source": [
    "# Get list of user ids from test set\n",
    "users = list(set(uids))"
   ]
  },
  {
   "cell_type": "code",
   "execution_count": 60,
   "metadata": {},
   "outputs": [
    {
     "ename": "MemoryError",
     "evalue": "",
     "output_type": "error",
     "traceback": [
      "\u001b[1;31m---------------------------------------------------------------------------\u001b[0m",
      "\u001b[1;31mMemoryError\u001b[0m                               Traceback (most recent call last)",
      "\u001b[1;32m<ipython-input-60-82d5c76af32a>\u001b[0m in \u001b[0;36m<module>\u001b[1;34m\u001b[0m\n\u001b[0;32m      1\u001b[0m \u001b[1;31m# books which the users have not yet evaluated\u001b[0m\u001b[1;33m\u001b[0m\u001b[1;33m\u001b[0m\u001b[1;33m\u001b[0m\u001b[0m\n\u001b[1;32m----> 2\u001b[1;33m \u001b[0mbooks\u001b[0m \u001b[1;33m=\u001b[0m \u001b[0mtrainset\u001b[0m\u001b[1;33m.\u001b[0m\u001b[0mbuild_anti_testset\u001b[0m\u001b[1;33m(\u001b[0m\u001b[1;33m)\u001b[0m\u001b[1;33m\u001b[0m\u001b[1;33m\u001b[0m\u001b[0m\n\u001b[0m",
      "\u001b[1;32mc:\\Users\\user\\anaconda3\\envs\\learn-env\\lib\\site-packages\\surprise\\trainset.py\u001b[0m in \u001b[0;36mbuild_anti_testset\u001b[1;34m(self, fill)\u001b[0m\n\u001b[0;32m    228\u001b[0m         \u001b[1;32mfor\u001b[0m \u001b[0mu\u001b[0m \u001b[1;32min\u001b[0m \u001b[0mself\u001b[0m\u001b[1;33m.\u001b[0m\u001b[0mall_users\u001b[0m\u001b[1;33m(\u001b[0m\u001b[1;33m)\u001b[0m\u001b[1;33m:\u001b[0m\u001b[1;33m\u001b[0m\u001b[1;33m\u001b[0m\u001b[0m\n\u001b[0;32m    229\u001b[0m             \u001b[0muser_items\u001b[0m \u001b[1;33m=\u001b[0m \u001b[0mset\u001b[0m\u001b[1;33m(\u001b[0m\u001b[1;33m[\u001b[0m\u001b[0mj\u001b[0m \u001b[1;32mfor\u001b[0m \u001b[1;33m(\u001b[0m\u001b[0mj\u001b[0m\u001b[1;33m,\u001b[0m \u001b[0m_\u001b[0m\u001b[1;33m)\u001b[0m \u001b[1;32min\u001b[0m \u001b[0mself\u001b[0m\u001b[1;33m.\u001b[0m\u001b[0mur\u001b[0m\u001b[1;33m[\u001b[0m\u001b[0mu\u001b[0m\u001b[1;33m]\u001b[0m\u001b[1;33m]\u001b[0m\u001b[1;33m)\u001b[0m\u001b[1;33m\u001b[0m\u001b[1;33m\u001b[0m\u001b[0m\n\u001b[1;32m--> 230\u001b[1;33m             anti_testset += [(self.to_raw_uid(u), self.to_raw_iid(i), fill) for\n\u001b[0m\u001b[0;32m    231\u001b[0m                              \u001b[0mi\u001b[0m \u001b[1;32min\u001b[0m \u001b[0mself\u001b[0m\u001b[1;33m.\u001b[0m\u001b[0mall_items\u001b[0m\u001b[1;33m(\u001b[0m\u001b[1;33m)\u001b[0m \u001b[1;32mif\u001b[0m\u001b[1;33m\u001b[0m\u001b[1;33m\u001b[0m\u001b[0m\n\u001b[0;32m    232\u001b[0m                              i not in user_items]\n",
      "\u001b[1;31mMemoryError\u001b[0m: "
     ]
    }
   ],
   "source": [
    "# books which the users have not yet evaluated\n",
    "books = trainset.build_anti_testset()"
   ]
  },
  {
   "cell_type": "code",
   "execution_count": null,
   "metadata": {},
   "outputs": [],
   "source": [
    "# using an example of 15 users\n",
    "for user_id in users[0:15]:\n",
    "    user_books = list(filter(lambda x: x[0] == user_id, books))\n",
    "    \n",
    "    print(f'This user {user_id} has rated {len(user_books)} books')\n",
    "    \n",
    "    # generate recommendations\n",
    "    recommendations = model.test(user_books)\n",
    "    recommendations.sort(key=operator.itemgetter(3), reverse=True)\n",
    "    \n",
    "    print(f\"This user {user_id}'s recommendations:\")\n",
    "    # viewing 3 recommendations if available\n",
    "    for reco in recommendations[0:3]:\n",
    "        print(f'Book {reco[1]} with estimated rating {reco[3]}')"
   ]
  },
  {
   "attachments": {},
   "cell_type": "markdown",
   "metadata": {},
   "source": [
    "For book with ID **0060973129**, we get an estimated prediction of **1**. One startling feature of this recommender system is that it doesn't care what the book contains or its context. It works purely on the basis of an assigned book ID and tries to predict ratings based on how the other users have perceive the book"
   ]
  },
  {
   "attachments": {},
   "cell_type": "markdown",
   "metadata": {},
   "source": [
    "**c. Hybrid recommendation system**"
   ]
  },
  {
   "attachments": {},
   "cell_type": "markdown",
   "metadata": {},
   "source": [
    "* In this section, will try to build a simple hybrid recommender that brings together techniques we have implemented in the content based and collaborative filter based engines. This is how it will work"
   ]
  },
  {
   "cell_type": "code",
   "execution_count": null,
   "metadata": {},
   "outputs": [],
   "source": []
  },
  {
   "cell_type": "code",
   "execution_count": null,
   "metadata": {},
   "outputs": [],
   "source": []
  },
  {
   "cell_type": "code",
   "execution_count": null,
   "metadata": {},
   "outputs": [],
   "source": []
  },
  {
   "cell_type": "code",
   "execution_count": null,
   "metadata": {},
   "outputs": [],
   "source": [
    "def hybrid_recommender(userId, bookTitle):\n",
    "    idx = indices[titles]\n",
    "    uid = id_map.loc[title]['User-ID']\n",
    "    book_id = id_map.loc[title['ISBN']]\n",
    "    sim_scores = list(enumerate(cosine_sim[int(idx)]))\n",
    "    sim_scores = sorted(sim_scores, key=lambda x: x[1], reverse=True)\n",
    "    sim_scores = sim_scores[1:26]\n",
    "    movie_indices = [i[0] for i in sim_scores]\n",
    "    movies = smd.iloc[movie_indices][['title', 'vote_count', 'vote_average', 'release_date', 'id']]\n",
    "    movies['est'] = movies['id'].apply(lambda x: svd.predict(userId, indices_map.loc[x]['movieId']).est)\n",
    "    movies = movies.sort_values('est', ascending=False)\n",
    "    return movies.head(10)"
   ]
  },
  {
   "cell_type": "code",
   "execution_count": null,
   "metadata": {},
   "outputs": [],
   "source": []
  },
  {
   "cell_type": "code",
   "execution_count": null,
   "metadata": {},
   "outputs": [],
   "source": []
  },
  {
   "cell_type": "code",
   "execution_count": null,
   "metadata": {},
   "outputs": [],
   "source": []
  },
  {
   "cell_type": "code",
   "execution_count": null,
   "metadata": {},
   "outputs": [],
   "source": []
  },
  {
   "cell_type": "code",
   "execution_count": null,
   "metadata": {},
   "outputs": [],
   "source": []
  },
  {
   "cell_type": "code",
   "execution_count": null,
   "metadata": {},
   "outputs": [],
   "source": []
  },
  {
   "cell_type": "code",
   "execution_count": null,
   "metadata": {},
   "outputs": [],
   "source": []
  },
  {
   "cell_type": "code",
   "execution_count": null,
   "metadata": {},
   "outputs": [],
   "source": []
  },
  {
   "cell_type": "code",
   "execution_count": null,
   "metadata": {},
   "outputs": [],
   "source": []
  },
  {
   "attachments": {},
   "cell_type": "markdown",
   "metadata": {},
   "source": [
    "# **Evaluation**"
   ]
  },
  {
   "attachments": {},
   "cell_type": "markdown",
   "metadata": {},
   "source": [
    "# **Conclusion and Recommendations**"
   ]
  }
 ],
 "metadata": {
  "kernelspec": {
   "display_name": "Python 3 (ipykernel)",
   "language": "python",
   "name": "python3"
  },
  "language_info": {
   "codemirror_mode": {
    "name": "ipython",
    "version": 3
   },
   "file_extension": ".py",
   "mimetype": "text/x-python",
   "name": "python",
   "nbconvert_exporter": "python",
   "pygments_lexer": "ipython3",
   "version": "3.9.12"
  }
 },
 "nbformat": 4,
 "nbformat_minor": 2
}
